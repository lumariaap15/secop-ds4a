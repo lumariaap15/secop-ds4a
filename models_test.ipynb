{
 "cells": [
  {
   "cell_type": "code",
   "execution_count": 467,
   "metadata": {},
   "outputs": [],
   "source": [
    "import pandas as pd\n",
    "import seaborn as sns\n",
    "import numpy as np\n",
    "from sklearn.model_selection import train_test_split\n",
    "import matplotlib.pyplot as plt\n",
    "import pickle\n",
    "import joblib"
   ]
  },
  {
   "cell_type": "code",
   "execution_count": 468,
   "metadata": {},
   "outputs": [],
   "source": [
    "drop = ['NormalizedDelay','Unnamed: 0', 'Nombre Entidad','Dias Adicionados', \n",
    "        'Fecha de Inicio del Contrato', 'Fecha de Fin del Contrato']\n",
    "\n",
    "df = pd.read_csv('dash_app/assets/csv/SECOP_Electronicos_Cleaned.csv').drop(drop, axis=1)"
   ]
  },
  {
   "cell_type": "code",
   "execution_count": 469,
   "metadata": {},
   "outputs": [
    {
     "name": "stdout",
     "output_type": "stream",
     "text": [
      "The shape of the dataset result of data cleaning is : (1562161, 28)\n"
     ]
    }
   ],
   "source": [
    "print('The shape of the dataset result of data cleaning is : ' + str(df.shape))"
   ]
  },
  {
   "cell_type": "code",
   "execution_count": 470,
   "metadata": {},
   "outputs": [],
   "source": [
    "#Convert the variables to its corresponding data type\n",
    "cat_cols = ['Departamento', 'Orden', 'Sector', 'Rama','Entidad Centralizada', 'Estado Contrato', 'Tipo de Contrato', 'Modalidad de Contratacion',\n",
    "            'Es Grupo','Es Pyme', 'Destino Gasto', 'EsPostConflicto','Obligaciones Postconsumo','Obligación Ambiental', 'Delay']\n",
    "cat_values = {key:'category' for key in cat_cols}\n",
    "df = df.astype(cat_values)"
   ]
  },
  {
   "cell_type": "code",
   "execution_count": null,
   "metadata": {},
   "outputs": [],
   "source": [
    "y = df['Delay'].astype('category')\n",
    "\n",
    "X = df.drop(['Delay'], axis=1)"
   ]
  },
  {
   "cell_type": "code",
   "execution_count": null,
   "metadata": {},
   "outputs": [],
   "source": [
    "#Train Test Split\n",
    "X_train, X_test, y_train, y_test = train_test_split(X, y, test_size=0.33, random_state=42)"
   ]
  },
  {
   "cell_type": "code",
   "execution_count": null,
   "metadata": {
    "scrolled": true
   },
   "outputs": [],
   "source": [
    "# Importación y definición de modelo XGBClassifier\n",
    "\n",
    "from xgboost import XGBClassifier\n",
    "from sklearn import metrics \n",
    "\n",
    "clf = XGBClassifier(tree_method=\"hist\", enable_categorical=True)\n",
    "# Entrenamiento (fit) y desempeño del modelo XGBClassifier\n",
    "clf.fit(X_train, y_train)\n",
    "y_pred = clf.predict(X_test)"
   ]
  },
  {
   "cell_type": "code",
   "execution_count": null,
   "metadata": {},
   "outputs": [],
   "source": [
    "metrics.f1_score(y_pred, y_test, average= 'macro')"
   ]
  },
  {
   "cell_type": "code",
   "execution_count": null,
   "metadata": {},
   "outputs": [],
   "source": [
    "pickle.dump(clf, open('dash_app/assets/model/clf_model.pkl', 'wb'))"
   ]
  },
  {
   "cell_type": "code",
   "execution_count": 473,
   "metadata": {},
   "outputs": [],
   "source": [
    "# Asi lo cargas\n",
    "pickled_model = pickle.load(open('dash_app/assets/model/model_downsampling.pkl', 'rb'))\n",
    "job_model = joblib.load(open('dash_app/assets/model/model_downsampling.pkl', 'rb'))\n",
    "#pickled_model = pickle.load(open('dash_app/assets/model/clf_model.pkl', 'rb'))\n",
    "# pickled_model.predict(X_test)"
   ]
  },
  {
   "cell_type": "markdown",
   "metadata": {},
   "source": [
    "# Prueba con PKL para un contrato"
   ]
  },
  {
   "cell_type": "code",
   "execution_count": 472,
   "metadata": {},
   "outputs": [],
   "source": [
    "input_data = {'Departamento': 'Bogotá, D.C.', \n",
    "              'Orden': 'Territorial', \n",
    "              'Sector': 'Salud y Protección Social', \n",
    "              'Rama': 'Ejecutivo', \n",
    "              'Entidad Centralizada': 'Descentralizada', \n",
    "              'Estado Contrato': 'Modificado', \n",
    "              'Tipo de Contrato': 'Prestación de servicios', \n",
    "              'Modalidad de Contratacion': 'Contratación régimen especial', \n",
    "              'Es Grupo': 'No', \n",
    "              'Es Pyme': 'No', \n",
    "              'Obligación Ambiental': 'No', \n",
    "              'Obligaciones Postconsumo': 'No', \n",
    "              'Valor del Contrato': 14248500, \n",
    "              'Valor de pago adelantado': 0, \n",
    "              'Valor Facturado': 0, \n",
    "              'Valor Pendiente de Pago': 14248500, \n",
    "              'Valor Amortizado': 0,           \n",
    "              'EsPostConflicto': 'No', \n",
    "              'Destino Gasto': 'Funcionamiento',\n",
    "              'PGN': 0, \n",
    "              'SGP': 0, \n",
    "              'SGR': 0, \n",
    "              'RP_AGR': 0, \n",
    "              'RP_NO_AGR': 0, \n",
    "              'RC': 0,\n",
    "              'Days_to_end_of_year': 312\n",
    "             }\n",
    "\n",
    "#df_input = pd.DataFrame([input_data])\n",
    "df_input = pd.DataFrame.from_dict(input_data, orient='index').T\n",
    "\n",
    "cat_cols = ['Departamento', 'Orden', 'Sector', 'Rama', 'Entidad Centralizada', 'Estado Contrato', 'Tipo de Contrato', \n",
    "            'Modalidad de Contratacion', 'Es Grupo','Es Pyme', 'Destino Gasto', 'EsPostConflicto',\n",
    "            'Obligaciones Postconsumo', 'Obligación Ambiental']\n",
    "\n",
    "cat_values = {key:'category' for key in cat_cols}\n",
    "df_input = df_input.astype(cat_values)\n",
    "\n",
    "cols = df_input.select_dtypes(include='object').columns\n",
    "df_input[cols] = df_input[cols].astype('int')"
   ]
  },
  {
   "cell_type": "code",
   "execution_count": 474,
   "metadata": {},
   "outputs": [
    {
     "data": {
      "text/plain": [
       "array([0], dtype=int64)"
      ]
     },
     "execution_count": 474,
     "metadata": {},
     "output_type": "execute_result"
    }
   ],
   "source": [
    "job_model.predict(df_input)"
   ]
  },
  {
   "cell_type": "code",
   "execution_count": 522,
   "metadata": {},
   "outputs": [
    {
     "data": {
      "text/plain": [
       "array([0], dtype=int64)"
      ]
     },
     "execution_count": 522,
     "metadata": {},
     "output_type": "execute_result"
    }
   ],
   "source": [
    "pickled_model.predict(df_input)"
   ]
  },
  {
   "cell_type": "markdown",
   "metadata": {},
   "source": [
    "# Prueba con PKL para n contratos"
   ]
  },
  {
   "cell_type": "code",
   "execution_count": 582,
   "metadata": {
    "scrolled": true
   },
   "outputs": [],
   "source": [
    "cols = ['Departamento', 'Orden', 'Sector', 'Rama', 'Entidad Centralizada',\n",
    "       'Estado Contrato', 'Tipo de Contrato', 'Modalidad de Contratacion',\n",
    "       'Es Grupo', 'Es Pyme', 'Obligación Ambiental',\n",
    "       'Obligaciones Postconsumo', 'Valor del Contrato',\n",
    "       'Valor de pago adelantado', 'Valor Facturado',\n",
    "       'Valor Pendiente de Pago', 'Valor Amortizado', 'EsPostConflicto',\n",
    "       'Destino Gasto', 'PGN', 'SGP', 'SGR', 'RP_AGR', 'RP_NO_AGR', 'RC', 'Days_to_end_of_year']\n",
    "new_df = df[df[\"Delay\"] == 3][cols].head(1)"
   ]
  },
  {
   "cell_type": "code",
   "execution_count": 575,
   "metadata": {
    "scrolled": false
   },
   "outputs": [
    {
     "data": {
      "text/plain": [
       "array([3], dtype=int64)"
      ]
     },
     "execution_count": 575,
     "metadata": {},
     "output_type": "execute_result"
    }
   ],
   "source": [
    "pickled_model.predict(new_df)"
   ]
  },
  {
   "cell_type": "code",
   "execution_count": 583,
   "metadata": {},
   "outputs": [],
   "source": [
    "index = new_df.iloc[[0]].index\n",
    "new_df.loc[index, \"Departamento\"] = \"Bogotá, D.C.\"\n",
    "new_df.loc[index, \"Orden\"] = \"Territorial\"\n",
    "new_df.loc[index, \"Sector\"] = \"Salud y Protección Social\"\n",
    "new_df.loc[index, \"Rama\"] = \"Ejecutivo\"\n",
    "new_df.loc[index, \"Entidad Centralizada\"] = \"Descentralizada\"\n",
    "new_df.loc[index, \"Estado Contrato\"] = \"Modificado\"\n",
    "new_df.loc[index, \"Tipo de Contrato\"] = \"Prestación de servicios\"\n",
    "new_df.loc[index, \"Modalidad de Contratacion\"] = \"Contratación régimen especial\"\n",
    "new_df.loc[index, \"Es Grupo\"] = \"No\"\n",
    "new_df.loc[index, \"Es Pyme\"] = \"No\"\n",
    "new_df.loc[index, \"Obligación Ambiental\"] = \"No\"\n",
    "new_df.loc[index, \"Obligaciones Postconsumo\"] = \"No\"\n",
    "new_df.loc[index, \"Valor del Contrato\"] = 14248500\n",
    "new_df.loc[index, \"Valor de pago adelantado\"] = 0\n",
    "new_df.loc[index, \"Valor Facturado\"] = 0\n",
    "new_df.loc[index, \"Valor Pendiente de Pago\"] = 14248500\n",
    "new_df.loc[index, \"Valor Amortizado\"] = 0\n",
    "new_df.loc[index, \"EsPostConflicto\"] = \"No\"\n",
    "new_df.loc[index, \"Destino Gasto\"] = None\n",
    "new_df.loc[index, \"PGN\"] = 0\n",
    "new_df.loc[index, \"SGP\"] = 0\n",
    "new_df.loc[index, \"SGR\"] = 0\n",
    "new_df.loc[index, \"RP_AGR\"] = 0\n",
    "new_df.loc[index, \"RP_NO_AGR\"] = 0\n",
    "new_df.loc[index, \"RC\"] = 0\n",
    "new_df.loc[index, \"Days_to_end_of_year\"] = 312\n",
    "\n",
    "#new_df.info()"
   ]
  },
  {
   "cell_type": "code",
   "execution_count": 581,
   "metadata": {},
   "outputs": [
    {
     "data": {
      "text/plain": [
       "3"
      ]
     },
     "execution_count": 581,
     "metadata": {},
     "output_type": "execute_result"
    }
   ],
   "source": [
    "pickled_model.predict(new_df)[0]"
   ]
  },
  {
   "cell_type": "markdown",
   "metadata": {},
   "source": [
    "**NEW**"
   ]
  },
  {
   "cell_type": "code",
   "execution_count": null,
   "metadata": {},
   "outputs": [],
   "source": [
    "pd.Categorical(new_df[\"Estado Contrato\"]).unique()"
   ]
  },
  {
   "cell_type": "code",
   "execution_count": null,
   "metadata": {},
   "outputs": [],
   "source": [
    "nums = [1,2,4]\n",
    "val = [1]\n",
    "\n",
    "[x == y for x in nums for y in val]"
   ]
  },
  {
   "cell_type": "code",
   "execution_count": null,
   "metadata": {},
   "outputs": [],
   "source": [
    "cat_cols = ['Departamento', 'Orden', 'Sector', 'Rama', 'Entidad Centralizada', 'Estado Contrato', 'Tipo de Contrato', \n",
    "            'Modalidad de Contratacion', 'Es Grupo','Es Pyme', 'Destino Gasto', 'EsPostConflicto',\n",
    "            'Obligaciones Postconsumo', 'Obligación Ambiental']\n",
    "\n",
    "regnum = new_df.shape[0]\n",
    "new_df.loc[regnum] = new_df.iloc[regnum-1]\n",
    "\n",
    "for col in cat_cols:\n",
    "    cats = np.array(pd.Categorical(new_df[col]).unique())\n",
    "    choosen_cat = np.array([x == y for x in cats for y in df_input[col]])\n",
    "    #print(cats[choosen_cat])\n",
    "    #print(cats[choosen_cat][0])\n",
    "    #new_df.iloc[new_df.shape[0]-1, col] = cats[choosen_cat][0]\n",
    "    new_df[col][regnum].replace(cats[choosen_cat][0])\n",
    "\n",
    "new_df"
   ]
  },
  {
   "cell_type": "code",
   "execution_count": 466,
   "metadata": {},
   "outputs": [
    {
     "data": {
      "text/plain": [
       "0"
      ]
     },
     "execution_count": 466,
     "metadata": {},
     "output_type": "execute_result"
    }
   ],
   "source": [
    "cols = ['Departamento', 'Orden', 'Sector', 'Rama', 'Entidad Centralizada',\n",
    "       'Estado Contrato', 'Tipo de Contrato', 'Modalidad de Contratacion',\n",
    "       'Es Grupo', 'Es Pyme', 'Obligación Ambiental',\n",
    "       'Obligaciones Postconsumo', 'Valor del Contrato',\n",
    "       'Valor de pago adelantado', 'Valor Facturado',\n",
    "       'Valor Pendiente de Pago', 'Valor Amortizado', 'EsPostConflicto',\n",
    "       'Destino Gasto', 'PGN', 'SGP', 'SGR', 'RP_AGR', 'RP_NO_AGR', 'RC', 'Days_to_end_of_year']\n",
    "values = [['Bogotá, D.C.'], ['Territorial'], ['Salud y Protección Social'], ['Ejecutivo'], ['Descentralizada'], ['Modificado'], ['Prestación de servicios'], ['Contratación régimen especial'], ['No'], ['No'], ['No'], ['No'], [14248500], [0], [0], [14248500], [0], ['No'], ['Funcionamiento'], [0], [0], [0], [0], [0], [0], [312]]\n",
    "\n",
    "df_input = pd.DataFrame(values).T\n",
    "df_input.columns = cols\n",
    "\n",
    "cat_cols = ['Departamento', 'Orden', 'Sector', 'Rama', 'Entidad Centralizada', 'Estado Contrato', 'Tipo de Contrato', \n",
    "            'Modalidad de Contratacion', 'Es Grupo','Es Pyme', 'Destino Gasto', 'EsPostConflicto',\n",
    "            'Obligaciones Postconsumo', 'Obligación Ambiental']\n",
    "\n",
    "cat_values = {key:'category' for key in cat_cols}\n",
    "df_input = df_input.astype(cat_values)\n",
    "\n",
    "cols = df_input.select_dtypes(include='object').columns\n",
    "df_input[cols] = df_input[cols].astype('int')\n",
    "\n",
    "#df_input.info()\n",
    "pickled_model.predict(df_input)[0]"
   ]
  },
  {
   "cell_type": "code",
   "execution_count": null,
   "metadata": {},
   "outputs": [],
   "source": [
    "from pandas.api.types import union_categoricals\n",
    "\n",
    "cat_cols = ['Departamento', 'Orden', 'Sector', 'Rama', 'Entidad Centralizada', 'Estado Contrato', 'Tipo de Contrato', \n",
    "            'Modalidad de Contratacion', 'Es Grupo','Es Pyme', 'Destino Gasto', 'EsPostConflicto',\n",
    "            'Obligaciones Postconsumo', 'Obligación Ambiental']\n",
    "\n",
    "uc = {}\n",
    "\n",
    "for col in cat_cols:\n",
    "    uc[col] = union_categoricals(new_df[col], df_input[col])\n",
    "    new_df[col] = pd.Categorical(new_df[col], categories=uc[col].categories)\n",
    "    df_input[col] = pd.Categorical(df_input[col], categories=uc[col].categories)\n",
    "\n",
    "#new_df = pd.concat(new_df, df_input)\n",
    "#new_df.info()"
   ]
  }
 ],
 "metadata": {
  "kernelspec": {
   "display_name": "Python 3 (ipykernel)",
   "language": "python",
   "name": "python3"
  },
  "language_info": {
   "codemirror_mode": {
    "name": "ipython",
    "version": 3
   },
   "file_extension": ".py",
   "mimetype": "text/x-python",
   "name": "python",
   "nbconvert_exporter": "python",
   "pygments_lexer": "ipython3",
   "version": "3.8.10"
  },
  "vscode": {
   "interpreter": {
    "hash": "ad2bdc8ecc057115af97d19610ffacc2b4e99fae6737bb82f5d7fb13d2f2c186"
   }
  }
 },
 "nbformat": 4,
 "nbformat_minor": 4
}
