{
 "cells": [
  {
   "cell_type": "code",
   "execution_count": 1,
   "metadata": {},
   "outputs": [],
   "source": [
    "import pandas as pd\n",
    "import seaborn as sns\n",
    "import numpy as np\n",
    "from sklearn.model_selection import train_test_split\n",
    "import matplotlib.pyplot as plt\n",
    "import pickle"
   ]
  },
  {
   "cell_type": "code",
   "execution_count": 32,
   "metadata": {},
   "outputs": [],
   "source": [
    "drop = ['NormalizedDelay','Unnamed: 0', 'Nombre Entidad','Dias Adicionados', \n",
    "        'Fecha de Inicio del Contrato', 'Fecha de Fin del Contrato']\n",
    "\n",
    "df = pd.read_csv('dash_app/assets/csv/SECOP_Electronicos_Cleaned.csv').drop(drop, axis=1)"
   ]
  },
  {
   "cell_type": "code",
   "execution_count": 33,
   "metadata": {},
   "outputs": [
    {
     "name": "stdout",
     "output_type": "stream",
     "text": [
      "The shape of the dataset result of data cleaning is : (1562161, 29)\n"
     ]
    }
   ],
   "source": [
    "print('The shape of the dataset result of data cleaning is : ' + str(df.shape))"
   ]
  },
  {
   "cell_type": "code",
   "execution_count": 34,
   "metadata": {},
   "outputs": [
    {
     "name": "stdout",
     "output_type": "stream",
     "text": [
      "<class 'pandas.core.frame.DataFrame'>\n",
      "RangeIndex: 1562161 entries, 0 to 1562160\n",
      "Data columns (total 29 columns):\n",
      " #   Column                           Non-Null Count    Dtype   \n",
      "---  ------                           --------------    -----   \n",
      " 0   Departamento                     1562161 non-null  category\n",
      " 1   Orden                            1562161 non-null  category\n",
      " 2   Sector                           1562161 non-null  category\n",
      " 3   Rama                             1562161 non-null  category\n",
      " 4   Entidad Centralizada             1562161 non-null  category\n",
      " 5   Estado Contrato                  1562161 non-null  category\n",
      " 6   Tipo de Contrato                 1562161 non-null  category\n",
      " 7   Modalidad de Contratacion        1562161 non-null  category\n",
      " 8   Es Grupo                         1562161 non-null  category\n",
      " 9   Es Pyme                          1562161 non-null  category\n",
      " 10  Obligación Ambiental             1562161 non-null  category\n",
      " 11  Obligaciones Postconsumo         1562161 non-null  category\n",
      " 12  Valor del Contrato               1562161 non-null  int64   \n",
      " 13  Valor de pago adelantado         1562161 non-null  int64   \n",
      " 14  Valor Facturado                  1562161 non-null  int64   \n",
      " 15  Valor Pendiente de Pago          1562161 non-null  int64   \n",
      " 16  Valor Pagado                     1562161 non-null  int64   \n",
      " 17  Valor Amortizado                 1562161 non-null  int64   \n",
      " 18  Valor Pendiente de Amortizacion  1562161 non-null  int64   \n",
      " 19  Valor Pendiente de Ejecucion     1562161 non-null  int64   \n",
      " 20  EsPostConflicto                  1562161 non-null  category\n",
      " 21  Destino Gasto                    1562161 non-null  category\n",
      " 22  PGN                              1562161 non-null  int64   \n",
      " 23  SGP                              1562161 non-null  int64   \n",
      " 24  SGR                              1562161 non-null  int64   \n",
      " 25  RP_AGR                           1562161 non-null  int64   \n",
      " 26  RP_NO_AGR                        1562161 non-null  int64   \n",
      " 27  RC                               1562161 non-null  int64   \n",
      " 28  Delay                            1562161 non-null  category\n",
      "dtypes: category(15), int64(14)\n",
      "memory usage: 189.2 MB\n"
     ]
    }
   ],
   "source": [
    "#Convert the variables to its corresponding data type\n",
    "cat_cols = ['Departamento', 'Orden', 'Sector', 'Rama','Entidad Centralizada', 'Estado Contrato', 'Tipo de Contrato', 'Modalidad de Contratacion',\n",
    "            'Es Grupo','Es Pyme', 'Destino Gasto', 'EsPostConflicto','Obligaciones Postconsumo','Obligación Ambiental', 'Delay']\n",
    "cat_values = {key:'category' for key in cat_cols}\n",
    "df = df.astype(cat_values)\n",
    "df.info()"
   ]
  },
  {
   "cell_type": "code",
   "execution_count": 35,
   "metadata": {},
   "outputs": [],
   "source": [
    "y = df['Delay'].astype('category')\n",
    "\n",
    "X = df.drop(['Delay'], axis=1)"
   ]
  },
  {
   "cell_type": "code",
   "execution_count": 36,
   "metadata": {},
   "outputs": [],
   "source": [
    "#Train Test Split\n",
    "X_train, X_test, y_train, y_test = train_test_split(X, y, test_size=0.33, random_state=42)"
   ]
  },
  {
   "cell_type": "code",
   "execution_count": 8,
   "metadata": {
    "scrolled": true
   },
   "outputs": [],
   "source": [
    "# Importación y definición de modelo XGBClassifier\n",
    "\n",
    "from xgboost import XGBClassifier\n",
    "from sklearn import metrics \n",
    "\n",
    "clf = XGBClassifier(tree_method=\"hist\", enable_categorical=True)\n",
    "# Entrenamiento (fit) y desempeño del modelo XGBClassifier\n",
    "clf.fit(X_train, y_train)\n",
    "y_pred = clf.predict(X_test)"
   ]
  },
  {
   "cell_type": "code",
   "execution_count": 9,
   "metadata": {},
   "outputs": [
    {
     "data": {
      "text/plain": [
       "0.7256236363334121"
      ]
     },
     "execution_count": 9,
     "metadata": {},
     "output_type": "execute_result"
    }
   ],
   "source": [
    "metrics.f1_score(y_pred, y_test, average= 'macro')"
   ]
  },
  {
   "cell_type": "code",
   "execution_count": 23,
   "metadata": {},
   "outputs": [],
   "source": [
    "pickle.dump(clf, open('dash_app/assets/model/clf_model.pkl', 'wb'))"
   ]
  },
  {
   "cell_type": "code",
   "execution_count": 37,
   "metadata": {},
   "outputs": [],
   "source": [
    "# Asi lo cargas\n",
    "pickled_model = pickle.load(open('dash_app/assets/model/model_downsampling.pkl', 'rb'))\n",
    "# pickled_model.predict(X_test)"
   ]
  },
  {
   "cell_type": "markdown",
   "metadata": {},
   "source": [
    "# Prueba con PKL para un contrato"
   ]
  },
  {
   "cell_type": "code",
   "execution_count": 41,
   "metadata": {},
   "outputs": [],
   "source": [
    "input_data = {'Departamento': 'Bogotá, D.C.', \n",
    "              'Orden': 'Territorial', \n",
    "              'Sector': 'Inclusión Social y Reconciliación', \n",
    "              'Rama': 'Ejecutivo', \n",
    "              'Entidad Centralizada': 'Centralizada', \n",
    "              'Estado Contrato': 'Modificado', \n",
    "              'Tipo de Contrato': 'Prestación de servicios', \n",
    "              'Modalidad de Contratacion': 'Licitación pública', \n",
    "              'Es Grupo': \"No\", \n",
    "              'Es Pyme': \"Si\", \n",
    "              'Obligación Ambiental': \"No\", \n",
    "              'Obligaciones Postconsumo': \"No\", \n",
    "              'Valor del Contrato': 1105511349, \n",
    "              'Valor del Pago Adelantado': 0, \n",
    "              'Valor Facturado': 0, \n",
    "              'Valor Pendiente de Pago': 1105511349, \n",
    "              'Valor Amortizado': 0,           \n",
    "              'EsPostConflicto': \"No\", \n",
    "              'Destino Gasto': 'Funcionamiento',\n",
    "              'PGN': 0, \n",
    "              'SGP': 0, \n",
    "              'SGR': 0, \n",
    "              'RP_AGR': 0, \n",
    "              'RP_NO_AGR': 0, \n",
    "              'RC': 0,\n",
    "              'Days_to_end_of_year': 199\n",
    "             }\n",
    "\n",
    "#df_input = pd.DataFrame([input_data])\n",
    "df_input = pd.DataFrame.from_dict(input_data, orient='index').T\n",
    "\n",
    "cat_cols = ['Departamento', 'Orden', 'Sector', 'Rama', 'Entidad Centralizada', 'Estado Contrato', 'Tipo de Contrato', \n",
    "            'Modalidad de Contratacion', 'Es Grupo','Es Pyme', 'Destino Gasto', 'EsPostConflicto',\n",
    "            'Obligaciones Postconsumo', 'Obligación Ambiental']\n",
    "\n",
    "cat_values = {key:'category' for key in cat_cols}\n",
    "df_input = df_input.astype(cat_values)\n",
    "\n",
    "cols = df_input.select_dtypes(include='object').columns\n",
    "df_input[cols] = df_input[cols].astype('int')"
   ]
  },
  {
   "cell_type": "code",
   "execution_count": 42,
   "metadata": {},
   "outputs": [
    {
     "data": {
      "text/plain": [
       "0"
      ]
     },
     "execution_count": 42,
     "metadata": {},
     "output_type": "execute_result"
    }
   ],
   "source": [
    "pickled_model.predict(df_input)[0]"
   ]
  },
  {
   "cell_type": "markdown",
   "metadata": {},
   "source": [
    "# Prueba con PKL para n contratos"
   ]
  },
  {
   "cell_type": "code",
   "execution_count": 376,
   "metadata": {},
   "outputs": [],
   "source": [
    "df = pd.read_csv('data/SECOP_Electronicos_Cleaned.csv')"
   ]
  },
  {
   "cell_type": "code",
   "execution_count": 22,
   "metadata": {},
   "outputs": [
    {
     "data": {
      "text/html": [
       "<div>\n",
       "<style scoped>\n",
       "    .dataframe tbody tr th:only-of-type {\n",
       "        vertical-align: middle;\n",
       "    }\n",
       "\n",
       "    .dataframe tbody tr th {\n",
       "        vertical-align: top;\n",
       "    }\n",
       "\n",
       "    .dataframe thead th {\n",
       "        text-align: right;\n",
       "    }\n",
       "</style>\n",
       "<table border=\"1\" class=\"dataframe\">\n",
       "  <thead>\n",
       "    <tr style=\"text-align: right;\">\n",
       "      <th></th>\n",
       "      <th>Es Grupo</th>\n",
       "      <th>Es Pyme</th>\n",
       "      <th>Obligación Ambiental</th>\n",
       "      <th>Obligaciones Postconsumo</th>\n",
       "      <th>EsPostConflicto</th>\n",
       "      <th>PGN</th>\n",
       "    </tr>\n",
       "  </thead>\n",
       "  <tbody>\n",
       "    <tr>\n",
       "      <th>0</th>\n",
       "      <td>No</td>\n",
       "      <td>No</td>\n",
       "      <td>No</td>\n",
       "      <td>No</td>\n",
       "      <td>No</td>\n",
       "      <td>0</td>\n",
       "    </tr>\n",
       "    <tr>\n",
       "      <th>1</th>\n",
       "      <td>No</td>\n",
       "      <td>No</td>\n",
       "      <td>No</td>\n",
       "      <td>No</td>\n",
       "      <td>No</td>\n",
       "      <td>0</td>\n",
       "    </tr>\n",
       "    <tr>\n",
       "      <th>2</th>\n",
       "      <td>No</td>\n",
       "      <td>No</td>\n",
       "      <td>No</td>\n",
       "      <td>No</td>\n",
       "      <td>No</td>\n",
       "      <td>0</td>\n",
       "    </tr>\n",
       "    <tr>\n",
       "      <th>3</th>\n",
       "      <td>No</td>\n",
       "      <td>Si</td>\n",
       "      <td>No</td>\n",
       "      <td>No</td>\n",
       "      <td>No</td>\n",
       "      <td>0</td>\n",
       "    </tr>\n",
       "    <tr>\n",
       "      <th>4</th>\n",
       "      <td>No</td>\n",
       "      <td>No</td>\n",
       "      <td>No</td>\n",
       "      <td>No</td>\n",
       "      <td>No</td>\n",
       "      <td>0</td>\n",
       "    </tr>\n",
       "  </tbody>\n",
       "</table>\n",
       "</div>"
      ],
      "text/plain": [
       "  Es Grupo Es Pyme Obligación Ambiental Obligaciones Postconsumo  \\\n",
       "0       No      No                   No                       No   \n",
       "1       No      No                   No                       No   \n",
       "2       No      No                   No                       No   \n",
       "3       No      Si                   No                       No   \n",
       "4       No      No                   No                       No   \n",
       "\n",
       "  EsPostConflicto  PGN  \n",
       "0              No    0  \n",
       "1              No    0  \n",
       "2              No    0  \n",
       "3              No    0  \n",
       "4              No    0  "
      ]
     },
     "execution_count": 22,
     "metadata": {},
     "output_type": "execute_result"
    }
   ],
   "source": [
    "df[[\"Es Grupo\", \"Es Pyme\", \"Obligación Ambiental\", \"Obligaciones Postconsumo\", \"EsPostConflicto\", \"PGN\"]].head()"
   ]
  },
  {
   "cell_type": "code",
   "execution_count": 378,
   "metadata": {
    "scrolled": true
   },
   "outputs": [],
   "source": [
    "cols = ['Departamento', 'Orden', 'Sector', 'Rama', 'Entidad Centralizada',\n",
    "       'Estado Contrato', 'Tipo de Contrato', 'Modalidad de Contratacion',\n",
    "       'Es Grupo', 'Es Pyme', 'Obligación Ambiental',\n",
    "       'Obligaciones Postconsumo', 'Valor del Contrato',\n",
    "       'Valor de pago adelantado', 'Valor Facturado',\n",
    "       'Valor Pendiente de Pago', 'Valor Amortizado', 'EsPostConflicto',\n",
    "       'Destino Gasto', 'PGN', 'SGP', 'SGR', 'RP_AGR', 'RP_NO_AGR', 'RC', 'Days_to_end_of_year']\n",
    "new_df = df[df[\"Delay\"] != 0][cols].head(100)"
   ]
  },
  {
   "cell_type": "code",
   "execution_count": 379,
   "metadata": {},
   "outputs": [],
   "source": [
    "cat_cols = ['Departamento', 'Orden', 'Sector', 'Rama', 'Entidad Centralizada', 'Estado Contrato', 'Tipo de Contrato', \n",
    "            'Modalidad de Contratacion', 'Es Grupo','Es Pyme', 'Destino Gasto', 'EsPostConflicto',\n",
    "            'Obligaciones Postconsumo', 'Obligación Ambiental']\n",
    "\n",
    "cat_values = {key:'category' for key in cat_cols}\n",
    "new_df = new_df.astype(cat_values)\n",
    "\n",
    "cols = new_df.select_dtypes(include='object').columns\n",
    "new_df[cols] = new_df[cols].astype('int')"
   ]
  },
  {
   "cell_type": "code",
   "execution_count": 380,
   "metadata": {},
   "outputs": [
    {
     "data": {
      "text/plain": [
       "array([0, 0, 0, 0, 0, 0, 0, 0, 0, 0, 0, 0, 0, 0, 0, 0, 0, 0, 0, 0, 0, 0,\n",
       "       0, 0, 0, 0, 0, 0, 0, 0, 0, 0, 0, 0, 0, 0, 0, 0, 0, 0, 0, 0, 0, 0,\n",
       "       0, 0, 0, 0, 0, 0, 0, 0, 0, 0, 0, 0, 0, 0, 0, 0, 0, 0, 0, 0, 0, 0,\n",
       "       0, 0, 0, 0, 0, 0, 0, 0, 0, 0, 0, 0, 0, 0, 0, 0, 0, 0, 0, 0, 0, 0,\n",
       "       0, 0, 0, 0, 0, 0, 0, 0, 0, 0, 0, 0], dtype=int64)"
      ]
     },
     "execution_count": 380,
     "metadata": {},
     "output_type": "execute_result"
    }
   ],
   "source": [
    "pickled_model.predict(new_df)"
   ]
  }
 ],
 "metadata": {
  "kernelspec": {
   "display_name": "Python 3 (ipykernel)",
   "language": "python",
   "name": "python3"
  },
  "language_info": {
   "codemirror_mode": {
    "name": "ipython",
    "version": 3
   },
   "file_extension": ".py",
   "mimetype": "text/x-python",
   "name": "python",
   "nbconvert_exporter": "python",
   "pygments_lexer": "ipython3",
   "version": "3.8.10"
  },
  "vscode": {
   "interpreter": {
    "hash": "ad2bdc8ecc057115af97d19610ffacc2b4e99fae6737bb82f5d7fb13d2f2c186"
   }
  }
 },
 "nbformat": 4,
 "nbformat_minor": 4
}
