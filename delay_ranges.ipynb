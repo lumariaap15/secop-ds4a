{
 "cells": [
  {
   "cell_type": "code",
   "execution_count": 1,
   "metadata": {},
   "outputs": [],
   "source": [
    "#Import Libraries\n",
    "import pandas as pd\n",
    "import missingno as msn\n",
    "import seaborn as sns\n",
    "import warnings\n",
    "import matplotlib.pyplot as plt\n",
    "warnings.filterwarnings('ignore')"
   ]
  },
  {
   "cell_type": "code",
   "execution_count": 5,
   "metadata": {},
   "outputs": [],
   "source": [
    "#Read data file obtained from datos.gov.co\n",
    "# path = \"C:/Users/User/Downloads/ds4a-secopII/\" #path Carlos\n",
    "path = \"C:/Users/VMNR/Desktop/\" #path vicman\n",
    "# path = \"../data/\" #path GENERAL\n",
    "file_name = 'SECOP_Electronicos_Cleaned.csv'\n",
    "\n",
    "#Select the columns that we want to parse as dates.\n",
    "date_cols = ['Fecha de Inicio del Contrato', 'Fecha de Fin del Contrato']\n",
    "\n",
    "df = pd.read_csv(path+file_name, parse_dates=date_cols, low_memory=False)\n"
   ]
  },
  {
   "cell_type": "code",
   "execution_count": 6,
   "metadata": {},
   "outputs": [
    {
     "name": "stdout",
     "output_type": "stream",
     "text": [
      "The shape of the original dataset is : (1562161, 35)\n"
     ]
    }
   ],
   "source": [
    "\n",
    "print('The shape of the original dataset is : ' + str(df.shape))"
   ]
  },
  {
   "cell_type": "code",
   "execution_count": 9,
   "metadata": {},
   "outputs": [
    {
     "name": "stdout",
     "output_type": "stream",
     "text": [
      "<class 'pandas.core.frame.DataFrame'>\n",
      "RangeIndex: 1562161 entries, 0 to 1562160\n",
      "Data columns (total 35 columns):\n",
      " #   Column                           Non-Null Count    Dtype         \n",
      "---  ------                           --------------    -----         \n",
      " 0   Unnamed: 0                       1562161 non-null  int64         \n",
      " 1   Nombre Entidad                   1562161 non-null  object        \n",
      " 2   Departamento                     1562161 non-null  object        \n",
      " 3   Orden                            1562161 non-null  object        \n",
      " 4   Sector                           1562161 non-null  object        \n",
      " 5   Rama                             1562161 non-null  object        \n",
      " 6   Entidad Centralizada             1562161 non-null  object        \n",
      " 7   Estado Contrato                  1562161 non-null  object        \n",
      " 8   Tipo de Contrato                 1562161 non-null  object        \n",
      " 9   Modalidad de Contratacion        1562161 non-null  object        \n",
      " 10  Fecha de Inicio del Contrato     1562161 non-null  datetime64[ns]\n",
      " 11  Fecha de Fin del Contrato        1562161 non-null  datetime64[ns]\n",
      " 12  Es Grupo                         1562161 non-null  object        \n",
      " 13  Es Pyme                          1562161 non-null  object        \n",
      " 14  Obligación Ambiental             1562161 non-null  object        \n",
      " 15  Obligaciones Postconsumo         1562161 non-null  object        \n",
      " 16  Valor del Contrato               1562161 non-null  int64         \n",
      " 17  Valor de pago adelantado         1562161 non-null  int64         \n",
      " 18  Valor Facturado                  1562161 non-null  int64         \n",
      " 19  Valor Pendiente de Pago          1562161 non-null  int64         \n",
      " 20  Valor Pagado                     1562161 non-null  int64         \n",
      " 21  Valor Amortizado                 1562161 non-null  int64         \n",
      " 22  Valor Pendiente de Amortizacion  1562161 non-null  int64         \n",
      " 23  Valor Pendiente de Ejecucion     1562161 non-null  int64         \n",
      " 24  EsPostConflicto                  1562161 non-null  object        \n",
      " 25  Destino Gasto                    1562161 non-null  object        \n",
      " 26  Dias Adicionados                 1562161 non-null  int64         \n",
      " 27  PGN                              1562161 non-null  int64         \n",
      " 28  SGP                              1562161 non-null  int64         \n",
      " 29  SGR                              1562161 non-null  int64         \n",
      " 30  RP_AGR                           1562161 non-null  int64         \n",
      " 31  RP_NO_AGR                        1562161 non-null  int64         \n",
      " 32  RC                               1562161 non-null  int64         \n",
      " 33  Delay                            1562161 non-null  int64         \n",
      " 34  NormalizedDelay                  1562161 non-null  float64       \n",
      "dtypes: datetime64[ns](2), float64(1), int64(17), object(15)\n",
      "memory usage: 417.1+ MB\n"
     ]
    }
   ],
   "source": [
    "df.info()"
   ]
  },
  {
   "cell_type": "code",
   "execution_count": 10,
   "metadata": {},
   "outputs": [],
   "source": [
    "cat_cols = ['Departamento', 'Orden', 'Sector', 'Rama','Entidad Centralizada', 'Estado Contrato', 'Tipo de Contrato', 'Modalidad de Contratacion',\n",
    "            'Es Grupo','Es Pyme', 'Destino Gasto', 'EsPostConflicto', 'Delay']\n",
    "cat_values = {key:'category' for key in cat_cols}\n",
    "df = df.astype(cat_values)"
   ]
  },
  {
   "cell_type": "code",
   "execution_count": 11,
   "metadata": {},
   "outputs": [
    {
     "name": "stdout",
     "output_type": "stream",
     "text": [
      "<class 'pandas.core.frame.DataFrame'>\n",
      "RangeIndex: 1562161 entries, 0 to 1562160\n",
      "Data columns (total 35 columns):\n",
      " #   Column                           Non-Null Count    Dtype         \n",
      "---  ------                           --------------    -----         \n",
      " 0   Unnamed: 0                       1562161 non-null  int64         \n",
      " 1   Nombre Entidad                   1562161 non-null  object        \n",
      " 2   Departamento                     1562161 non-null  category      \n",
      " 3   Orden                            1562161 non-null  category      \n",
      " 4   Sector                           1562161 non-null  category      \n",
      " 5   Rama                             1562161 non-null  category      \n",
      " 6   Entidad Centralizada             1562161 non-null  category      \n",
      " 7   Estado Contrato                  1562161 non-null  category      \n",
      " 8   Tipo de Contrato                 1562161 non-null  category      \n",
      " 9   Modalidad de Contratacion        1562161 non-null  category      \n",
      " 10  Fecha de Inicio del Contrato     1562161 non-null  datetime64[ns]\n",
      " 11  Fecha de Fin del Contrato        1562161 non-null  datetime64[ns]\n",
      " 12  Es Grupo                         1562161 non-null  category      \n",
      " 13  Es Pyme                          1562161 non-null  category      \n",
      " 14  Obligación Ambiental             1562161 non-null  object        \n",
      " 15  Obligaciones Postconsumo         1562161 non-null  object        \n",
      " 16  Valor del Contrato               1562161 non-null  int64         \n",
      " 17  Valor de pago adelantado         1562161 non-null  int64         \n",
      " 18  Valor Facturado                  1562161 non-null  int64         \n",
      " 19  Valor Pendiente de Pago          1562161 non-null  int64         \n",
      " 20  Valor Pagado                     1562161 non-null  int64         \n",
      " 21  Valor Amortizado                 1562161 non-null  int64         \n",
      " 22  Valor Pendiente de Amortizacion  1562161 non-null  int64         \n",
      " 23  Valor Pendiente de Ejecucion     1562161 non-null  int64         \n",
      " 24  EsPostConflicto                  1562161 non-null  category      \n",
      " 25  Destino Gasto                    1562161 non-null  category      \n",
      " 26  Dias Adicionados                 1562161 non-null  int64         \n",
      " 27  PGN                              1562161 non-null  int64         \n",
      " 28  SGP                              1562161 non-null  int64         \n",
      " 29  SGR                              1562161 non-null  int64         \n",
      " 30  RP_AGR                           1562161 non-null  int64         \n",
      " 31  RP_NO_AGR                        1562161 non-null  int64         \n",
      " 32  RC                               1562161 non-null  int64         \n",
      " 33  Delay                            1562161 non-null  category      \n",
      " 34  NormalizedDelay                  1562161 non-null  float64       \n",
      "dtypes: category(13), datetime64[ns](2), float64(1), int64(16), object(3)\n",
      "memory usage: 281.6+ MB\n"
     ]
    }
   ],
   "source": [
    "df.info()"
   ]
  },
  {
   "cell_type": "code",
   "execution_count": 12,
   "metadata": {},
   "outputs": [
    {
     "name": "stdout",
     "output_type": "stream",
     "text": [
      "<class 'pandas.core.frame.DataFrame'>\n",
      "Int64Index: 231621 entries, 17 to 1562154\n",
      "Data columns (total 35 columns):\n",
      " #   Column                           Non-Null Count   Dtype         \n",
      "---  ------                           --------------   -----         \n",
      " 0   Unnamed: 0                       231621 non-null  int64         \n",
      " 1   Nombre Entidad                   231621 non-null  object        \n",
      " 2   Departamento                     231621 non-null  category      \n",
      " 3   Orden                            231621 non-null  category      \n",
      " 4   Sector                           231621 non-null  category      \n",
      " 5   Rama                             231621 non-null  category      \n",
      " 6   Entidad Centralizada             231621 non-null  category      \n",
      " 7   Estado Contrato                  231621 non-null  category      \n",
      " 8   Tipo de Contrato                 231621 non-null  category      \n",
      " 9   Modalidad de Contratacion        231621 non-null  category      \n",
      " 10  Fecha de Inicio del Contrato     231621 non-null  datetime64[ns]\n",
      " 11  Fecha de Fin del Contrato        231621 non-null  datetime64[ns]\n",
      " 12  Es Grupo                         231621 non-null  category      \n",
      " 13  Es Pyme                          231621 non-null  category      \n",
      " 14  Obligación Ambiental             231621 non-null  object        \n",
      " 15  Obligaciones Postconsumo         231621 non-null  object        \n",
      " 16  Valor del Contrato               231621 non-null  int64         \n",
      " 17  Valor de pago adelantado         231621 non-null  int64         \n",
      " 18  Valor Facturado                  231621 non-null  int64         \n",
      " 19  Valor Pendiente de Pago          231621 non-null  int64         \n",
      " 20  Valor Pagado                     231621 non-null  int64         \n",
      " 21  Valor Amortizado                 231621 non-null  int64         \n",
      " 22  Valor Pendiente de Amortizacion  231621 non-null  int64         \n",
      " 23  Valor Pendiente de Ejecucion     231621 non-null  int64         \n",
      " 24  EsPostConflicto                  231621 non-null  category      \n",
      " 25  Destino Gasto                    231621 non-null  category      \n",
      " 26  Dias Adicionados                 231621 non-null  int64         \n",
      " 27  PGN                              231621 non-null  int64         \n",
      " 28  SGP                              231621 non-null  int64         \n",
      " 29  SGR                              231621 non-null  int64         \n",
      " 30  RP_AGR                           231621 non-null  int64         \n",
      " 31  RP_NO_AGR                        231621 non-null  int64         \n",
      " 32  RC                               231621 non-null  int64         \n",
      " 33  Delay                            231621 non-null  category      \n",
      " 34  NormalizedDelay                  231621 non-null  float64       \n",
      "dtypes: category(13), datetime64[ns](2), float64(1), int64(16), object(3)\n",
      "memory usage: 43.5+ MB\n"
     ]
    }
   ],
   "source": [
    "df2 = df[df['Dias Adicionados']>0]\n",
    "df2.info()"
   ]
  },
  {
   "cell_type": "code",
   "execution_count": null,
   "metadata": {},
   "outputs": [],
   "source": [
    "df2"
   ]
  }
 ],
 "metadata": {
  "kernelspec": {
   "display_name": "Python 3 (ipykernel)",
   "language": "python",
   "name": "python3"
  },
  "language_info": {
   "codemirror_mode": {
    "name": "ipython",
    "version": 3
   },
   "file_extension": ".py",
   "mimetype": "text/x-python",
   "name": "python",
   "nbconvert_exporter": "python",
   "pygments_lexer": "ipython3",
   "version": "3.8.10"
  },
  "vscode": {
   "interpreter": {
    "hash": "03b0dd66a651b80ff0ba04b778b8c073f2c364864c9a1e8c2e10ba309a544eaa"
   }
  }
 },
 "nbformat": 4,
 "nbformat_minor": 4
}
