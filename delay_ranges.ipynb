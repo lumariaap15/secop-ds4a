{
 "cells": [
  {
   "cell_type": "code",
   "execution_count": 2,
   "metadata": {},
   "outputs": [],
   "source": [
    "# !pip install abc-analysis\n",
    "# !pip install sklearn\n",
    "# !pip install sklearn\n",
    "# !pip install xgboost"
   ]
  },
  {
   "cell_type": "markdown",
   "metadata": {},
   "source": [
    "# Delay_ABC\n",
    "\n",
    "The column **Delay_ABC** is determined by dividing the range of **NormalizedDelay**>0 based on the Pareto Principle by using the ABC Analysis. This is done by classifying the delays in these categories:\n",
    "\n",
    "0: Contracts of 0 days added\n",
    "\n",
    "1: Contracts with **NormalizedDelay** belonging to category **A** on the ABC Analysis\n",
    "\n",
    "2: Contracts with **NormalizedDelay** belonging to category **B** on the ABC Analysis\n",
    "\n",
    "3: Contracts with **NormalizedDelay** belonging to category **C** on the ABC Analysis"
   ]
  },
  {
   "cell_type": "code",
   "execution_count": 3,
   "metadata": {},
   "outputs": [],
   "source": [
    "#Import Libraries\n",
    "import pandas as pd\n",
    "import missingno as msn\n",
    "import seaborn as sns\n",
    "import warnings\n",
    "import matplotlib.pyplot as plt\n",
    "warnings.filterwarnings('ignore')\n",
    "\n",
    "# Para realizar el análisis ABC\n",
    "from abc_analysis import abc_analysis as abc"
   ]
  },
  {
   "cell_type": "code",
   "execution_count": 4,
   "metadata": {},
   "outputs": [],
   "source": [
    "#Read data file obtained from datos.gov.co\n",
    "# path = \"C:/Users/User/Downloads/ds4a-secopII/\" #path Carlos\n",
    "path = \"C:/Users/VMNR/Desktop/\" #path vicman\n",
    "# path = \"../data/\" #path GENERAL\n",
    "# path = \"../../git/secop-ds4a/dash_app/assets/csv/\"   #path de la maquina\n",
    "file_name = 'SECOP_Electronicos_Cleaned.csv'\n",
    "\n",
    "#Select the columns that we want to parse as dates.\n",
    "date_cols = ['Fecha de Inicio del Contrato', 'Fecha de Fin del Contrato']\n",
    "\n",
    "df = pd.read_csv(path+file_name, parse_dates=date_cols, low_memory=False)\n"
   ]
  },
  {
   "cell_type": "code",
   "execution_count": 5,
   "metadata": {},
   "outputs": [
    {
     "name": "stdout",
     "output_type": "stream",
     "text": [
      "The shape of the original dataset is : (1562161, 35)\n"
     ]
    }
   ],
   "source": [
    "\n",
    "print('The shape of the original dataset is : ' + str(df.shape))"
   ]
  },
  {
   "cell_type": "code",
   "execution_count": 6,
   "metadata": {},
   "outputs": [],
   "source": [
    "# df.info()"
   ]
  },
  {
   "cell_type": "code",
   "execution_count": 7,
   "metadata": {},
   "outputs": [],
   "source": [
    "cat_cols = ['Departamento', 'Orden', 'Sector', 'Rama','Entidad Centralizada', 'Estado Contrato', 'Tipo de Contrato', 'Modalidad de Contratacion',\n",
    "            'Es Grupo','Es Pyme', 'Destino Gasto', 'EsPostConflicto', 'Delay']\n",
    "cat_values = {key:'category' for key in cat_cols}\n",
    "df = df.astype(cat_values)"
   ]
  },
  {
   "cell_type": "code",
   "execution_count": 8,
   "metadata": {},
   "outputs": [],
   "source": [
    "df.drop(columns='Unnamed: 0', inplace=True)"
   ]
  },
  {
   "cell_type": "code",
   "execution_count": 9,
   "metadata": {},
   "outputs": [],
   "source": [
    "# df.info()"
   ]
  },
  {
   "cell_type": "code",
   "execution_count": 10,
   "metadata": {},
   "outputs": [
    {
     "name": "stdout",
     "output_type": "stream",
     "text": [
      "<class 'pandas.core.frame.DataFrame'>\n",
      "Int64Index: 231621 entries, 17 to 1562154\n",
      "Data columns (total 34 columns):\n",
      " #   Column                           Non-Null Count   Dtype         \n",
      "---  ------                           --------------   -----         \n",
      " 0   Nombre Entidad                   231621 non-null  object        \n",
      " 1   Departamento                     231621 non-null  category      \n",
      " 2   Orden                            231621 non-null  category      \n",
      " 3   Sector                           231621 non-null  category      \n",
      " 4   Rama                             231621 non-null  category      \n",
      " 5   Entidad Centralizada             231621 non-null  category      \n",
      " 6   Estado Contrato                  231621 non-null  category      \n",
      " 7   Tipo de Contrato                 231621 non-null  category      \n",
      " 8   Modalidad de Contratacion        231621 non-null  category      \n",
      " 9   Fecha de Inicio del Contrato     231621 non-null  datetime64[ns]\n",
      " 10  Fecha de Fin del Contrato        231621 non-null  datetime64[ns]\n",
      " 11  Es Grupo                         231621 non-null  category      \n",
      " 12  Es Pyme                          231621 non-null  category      \n",
      " 13  Obligación Ambiental             231621 non-null  object        \n",
      " 14  Obligaciones Postconsumo         231621 non-null  object        \n",
      " 15  Valor del Contrato               231621 non-null  int64         \n",
      " 16  Valor de pago adelantado         231621 non-null  int64         \n",
      " 17  Valor Facturado                  231621 non-null  int64         \n",
      " 18  Valor Pendiente de Pago          231621 non-null  int64         \n",
      " 19  Valor Pagado                     231621 non-null  int64         \n",
      " 20  Valor Amortizado                 231621 non-null  int64         \n",
      " 21  Valor Pendiente de Amortizacion  231621 non-null  int64         \n",
      " 22  Valor Pendiente de Ejecucion     231621 non-null  int64         \n",
      " 23  EsPostConflicto                  231621 non-null  category      \n",
      " 24  Destino Gasto                    231621 non-null  category      \n",
      " 25  Dias Adicionados                 231621 non-null  int64         \n",
      " 26  PGN                              231621 non-null  int64         \n",
      " 27  SGP                              231621 non-null  int64         \n",
      " 28  SGR                              231621 non-null  int64         \n",
      " 29  RP_AGR                           231621 non-null  int64         \n",
      " 30  RP_NO_AGR                        231621 non-null  int64         \n",
      " 31  RC                               231621 non-null  int64         \n",
      " 32  Delay                            231621 non-null  category      \n",
      " 33  NormalizedDelay                  231621 non-null  float64       \n",
      "dtypes: category(13), datetime64[ns](2), float64(1), int64(15), object(3)\n",
      "memory usage: 41.8+ MB\n"
     ]
    }
   ],
   "source": [
    "df2 = df[df['Dias Adicionados']>0]\n",
    "df2.info()"
   ]
  },
  {
   "cell_type": "code",
   "execution_count": 11,
   "metadata": {},
   "outputs": [
    {
     "data": {
      "image/png": "[encoded data removed]",
      "text/plain": [
       "<Figure size 432x432 with 1 Axes>"
      ]
     },
     "metadata": {},
     "output_type": "display_data"
    }
   ],
   "source": [
    "df_de_ABC = abc(df2['NormalizedDelay'], True)"
   ]
  },
  {
   "cell_type": "code",
   "execution_count": 12,
   "metadata": {},
   "outputs": [],
   "source": [
    "#df_de_ABC"
   ]
  },
  {
   "cell_type": "code",
   "execution_count": 13,
   "metadata": {},
   "outputs": [
    {
     "data": {
      "text/plain": [
       "(0.3113636363636363, 0.5276645768025077)"
      ]
     },
     "execution_count": 13,
     "metadata": {},
     "output_type": "execute_result"
    }
   ],
   "source": [
    "#Crear columna vacía\n",
    "df['Delay_ABC'] = 0\n",
    "# Categorías\n",
    "limit_AB = df_de_ABC['ABLimit']\n",
    "limit_BC = df_de_ABC['BCLimit'] + limit_AB\n",
    "limit_AB,limit_BC\n"
   ]
  },
  {
   "cell_type": "markdown",
   "metadata": {},
   "source": [
    "## Intervalos\n",
    "\n",
    "0:  **NormalizedDelay** = 0\n",
    "\n",
    "1: 0 < **NormalizedDelay** $\\leq$ 0.3113636363636363\n",
    "\n",
    "2: 0.3113636363636363 < **NormalizedDelay** $\\leq$ 0.5276645768025077\n",
    "\n",
    "3:  **NormalizedDelay** > 0.5276645768025077"
   ]
  },
  {
   "cell_type": "code",
   "execution_count": 14,
   "metadata": {},
   "outputs": [
    {
     "data": {
      "text/plain": [
       "448498     0\n",
       "115307     0\n",
       "1205019    0\n",
       "779614     0\n",
       "4374       0\n",
       "Name: Delay_ABC, dtype: int64"
      ]
     },
     "execution_count": 14,
     "metadata": {},
     "output_type": "execute_result"
    }
   ],
   "source": [
    "df['Delay_ABC'].sample(5)"
   ]
  },
  {
   "cell_type": "code",
   "execution_count": 15,
   "metadata": {},
   "outputs": [],
   "source": [
    "df.loc[(df['NormalizedDelay'] > 0)& (df['NormalizedDelay'] <= limit_AB), 'Delay_ABC'] = 1\n",
    "df.loc[(df['NormalizedDelay'] > limit_AB) & (df['NormalizedDelay'] <= limit_BC), 'Delay_ABC']= 2\n",
    "df.loc[(df['NormalizedDelay'] > limit_BC), 'Delay_ABC'] = 3"
   ]
  },
  {
   "cell_type": "code",
   "execution_count": 16,
   "metadata": {},
   "outputs": [
    {
     "data": {
      "text/html": [
       "<div>\n",
       "<style scoped>\n",
       "    .dataframe tbody tr th:only-of-type {\n",
       "        vertical-align: middle;\n",
       "    }\n",
       "\n",
       "    .dataframe tbody tr th {\n",
       "        vertical-align: top;\n",
       "    }\n",
       "\n",
       "    .dataframe thead th {\n",
       "        text-align: right;\n",
       "    }\n",
       "</style>\n",
       "<table border=\"1\" class=\"dataframe\">\n",
       "  <thead>\n",
       "    <tr style=\"text-align: right;\">\n",
       "      <th></th>\n",
       "      <th>Nombre Entidad</th>\n",
       "      <th>Departamento</th>\n",
       "      <th>Orden</th>\n",
       "      <th>Sector</th>\n",
       "      <th>Rama</th>\n",
       "      <th>Entidad Centralizada</th>\n",
       "      <th>Estado Contrato</th>\n",
       "      <th>Tipo de Contrato</th>\n",
       "      <th>Modalidad de Contratacion</th>\n",
       "      <th>Fecha de Inicio del Contrato</th>\n",
       "      <th>...</th>\n",
       "      <th>Dias Adicionados</th>\n",
       "      <th>PGN</th>\n",
       "      <th>SGP</th>\n",
       "      <th>SGR</th>\n",
       "      <th>RP_AGR</th>\n",
       "      <th>RP_NO_AGR</th>\n",
       "      <th>RC</th>\n",
       "      <th>Delay</th>\n",
       "      <th>NormalizedDelay</th>\n",
       "      <th>Delay_ABC</th>\n",
       "    </tr>\n",
       "  </thead>\n",
       "  <tbody>\n",
       "    <tr>\n",
       "      <th>122515</th>\n",
       "      <td>INSTITUTO DISTRITAL DE PROTECCION Y BIENESTAR ...</td>\n",
       "      <td>Bogotá, D.C.</td>\n",
       "      <td>Territorial</td>\n",
       "      <td>Salud y Protección Social</td>\n",
       "      <td>Ejecutivo</td>\n",
       "      <td>Descentralizada</td>\n",
       "      <td>En ejecución</td>\n",
       "      <td>Prestación de servicios</td>\n",
       "      <td>Contratación directa</td>\n",
       "      <td>2020-09-29</td>\n",
       "      <td>...</td>\n",
       "      <td>0</td>\n",
       "      <td>0</td>\n",
       "      <td>0</td>\n",
       "      <td>0</td>\n",
       "      <td>1</td>\n",
       "      <td>0</td>\n",
       "      <td>0</td>\n",
       "      <td>0</td>\n",
       "      <td>0.0</td>\n",
       "      <td>0</td>\n",
       "    </tr>\n",
       "  </tbody>\n",
       "</table>\n",
       "<p>1 rows × 35 columns</p>\n",
       "</div>"
      ],
      "text/plain": [
       "                                           Nombre Entidad  Departamento  \\\n",
       "122515  INSTITUTO DISTRITAL DE PROTECCION Y BIENESTAR ...  Bogotá, D.C.   \n",
       "\n",
       "              Orden                     Sector       Rama  \\\n",
       "122515  Territorial  Salud y Protección Social  Ejecutivo   \n",
       "\n",
       "       Entidad Centralizada Estado Contrato         Tipo de Contrato  \\\n",
       "122515      Descentralizada    En ejecución  Prestación de servicios   \n",
       "\n",
       "       Modalidad de Contratacion Fecha de Inicio del Contrato  ...  \\\n",
       "122515      Contratación directa                   2020-09-29  ...   \n",
       "\n",
       "       Dias Adicionados PGN SGP SGR RP_AGR  RP_NO_AGR  RC  Delay  \\\n",
       "122515                0   0   0   0      1          0   0      0   \n",
       "\n",
       "        NormalizedDelay  Delay_ABC  \n",
       "122515              0.0          0  \n",
       "\n",
       "[1 rows x 35 columns]"
      ]
     },
     "execution_count": 16,
     "metadata": {},
     "output_type": "execute_result"
    }
   ],
   "source": [
    "df[df.Delay_ABC==0].sample()"
   ]
  },
  {
   "cell_type": "code",
   "execution_count": 17,
   "metadata": {},
   "outputs": [
    {
     "data": {
      "text/html": [
       "<div>\n",
       "<style scoped>\n",
       "    .dataframe tbody tr th:only-of-type {\n",
       "        vertical-align: middle;\n",
       "    }\n",
       "\n",
       "    .dataframe tbody tr th {\n",
       "        vertical-align: top;\n",
       "    }\n",
       "\n",
       "    .dataframe thead th {\n",
       "        text-align: right;\n",
       "    }\n",
       "</style>\n",
       "<table border=\"1\" class=\"dataframe\">\n",
       "  <thead>\n",
       "    <tr style=\"text-align: right;\">\n",
       "      <th></th>\n",
       "      <th>Nombre Entidad</th>\n",
       "      <th>Departamento</th>\n",
       "      <th>Orden</th>\n",
       "      <th>Sector</th>\n",
       "      <th>Rama</th>\n",
       "      <th>Entidad Centralizada</th>\n",
       "      <th>Estado Contrato</th>\n",
       "      <th>Tipo de Contrato</th>\n",
       "      <th>Modalidad de Contratacion</th>\n",
       "      <th>Fecha de Inicio del Contrato</th>\n",
       "      <th>...</th>\n",
       "      <th>Dias Adicionados</th>\n",
       "      <th>PGN</th>\n",
       "      <th>SGP</th>\n",
       "      <th>SGR</th>\n",
       "      <th>RP_AGR</th>\n",
       "      <th>RP_NO_AGR</th>\n",
       "      <th>RC</th>\n",
       "      <th>Delay</th>\n",
       "      <th>NormalizedDelay</th>\n",
       "      <th>Delay_ABC</th>\n",
       "    </tr>\n",
       "  </thead>\n",
       "  <tbody>\n",
       "    <tr>\n",
       "      <th>920690</th>\n",
       "      <td>SUBRED INTEGRADA DE SERVICIO DE SALUD CENTRO O...</td>\n",
       "      <td>Bogotá, D.C.</td>\n",
       "      <td>Territorial</td>\n",
       "      <td>Salud y Protección Social</td>\n",
       "      <td>Ejecutivo</td>\n",
       "      <td>Descentralizada</td>\n",
       "      <td>Modificado</td>\n",
       "      <td>Prestación de servicios</td>\n",
       "      <td>Contratación régimen especial</td>\n",
       "      <td>2022-02-16</td>\n",
       "      <td>...</td>\n",
       "      <td>15</td>\n",
       "      <td>0</td>\n",
       "      <td>0</td>\n",
       "      <td>0</td>\n",
       "      <td>0</td>\n",
       "      <td>1</td>\n",
       "      <td>0</td>\n",
       "      <td>1</td>\n",
       "      <td>0.12605</td>\n",
       "      <td>1</td>\n",
       "    </tr>\n",
       "  </tbody>\n",
       "</table>\n",
       "<p>1 rows × 35 columns</p>\n",
       "</div>"
      ],
      "text/plain": [
       "                                           Nombre Entidad  Departamento  \\\n",
       "920690  SUBRED INTEGRADA DE SERVICIO DE SALUD CENTRO O...  Bogotá, D.C.   \n",
       "\n",
       "              Orden                     Sector       Rama  \\\n",
       "920690  Territorial  Salud y Protección Social  Ejecutivo   \n",
       "\n",
       "       Entidad Centralizada Estado Contrato         Tipo de Contrato  \\\n",
       "920690      Descentralizada      Modificado  Prestación de servicios   \n",
       "\n",
       "            Modalidad de Contratacion Fecha de Inicio del Contrato  ...  \\\n",
       "920690  Contratación régimen especial                   2022-02-16  ...   \n",
       "\n",
       "       Dias Adicionados PGN SGP SGR RP_AGR  RP_NO_AGR  RC  Delay  \\\n",
       "920690               15   0   0   0      0          1   0      1   \n",
       "\n",
       "        NormalizedDelay  Delay_ABC  \n",
       "920690          0.12605          1  \n",
       "\n",
       "[1 rows x 35 columns]"
      ]
     },
     "execution_count": 17,
     "metadata": {},
     "output_type": "execute_result"
    }
   ],
   "source": [
    "df[df.Delay_ABC==1].sample()"
   ]
  },
  {
   "cell_type": "code",
   "execution_count": 18,
   "metadata": {},
   "outputs": [
    {
     "data": {
      "text/html": [
       "<div>\n",
       "<style scoped>\n",
       "    .dataframe tbody tr th:only-of-type {\n",
       "        vertical-align: middle;\n",
       "    }\n",
       "\n",
       "    .dataframe tbody tr th {\n",
       "        vertical-align: top;\n",
       "    }\n",
       "\n",
       "    .dataframe thead th {\n",
       "        text-align: right;\n",
       "    }\n",
       "</style>\n",
       "<table border=\"1\" class=\"dataframe\">\n",
       "  <thead>\n",
       "    <tr style=\"text-align: right;\">\n",
       "      <th></th>\n",
       "      <th>Nombre Entidad</th>\n",
       "      <th>Departamento</th>\n",
       "      <th>Orden</th>\n",
       "      <th>Sector</th>\n",
       "      <th>Rama</th>\n",
       "      <th>Entidad Centralizada</th>\n",
       "      <th>Estado Contrato</th>\n",
       "      <th>Tipo de Contrato</th>\n",
       "      <th>Modalidad de Contratacion</th>\n",
       "      <th>Fecha de Inicio del Contrato</th>\n",
       "      <th>...</th>\n",
       "      <th>Dias Adicionados</th>\n",
       "      <th>PGN</th>\n",
       "      <th>SGP</th>\n",
       "      <th>SGR</th>\n",
       "      <th>RP_AGR</th>\n",
       "      <th>RP_NO_AGR</th>\n",
       "      <th>RC</th>\n",
       "      <th>Delay</th>\n",
       "      <th>NormalizedDelay</th>\n",
       "      <th>Delay_ABC</th>\n",
       "    </tr>\n",
       "  </thead>\n",
       "  <tbody>\n",
       "    <tr>\n",
       "      <th>1537545</th>\n",
       "      <td>SANTIAGO DE CALI DISTRITO ESPECIAL - DEPARTAME...</td>\n",
       "      <td>Valle del Cauca</td>\n",
       "      <td>Territorial</td>\n",
       "      <td>Ambiente y Desarrollo Sostenible</td>\n",
       "      <td>Ejecutivo</td>\n",
       "      <td>Centralizada</td>\n",
       "      <td>Modificado</td>\n",
       "      <td>Prestación de servicios</td>\n",
       "      <td>Contratación directa</td>\n",
       "      <td>2020-07-21</td>\n",
       "      <td>...</td>\n",
       "      <td>58</td>\n",
       "      <td>0</td>\n",
       "      <td>0</td>\n",
       "      <td>0</td>\n",
       "      <td>1</td>\n",
       "      <td>0</td>\n",
       "      <td>0</td>\n",
       "      <td>2</td>\n",
       "      <td>0.3625</td>\n",
       "      <td>2</td>\n",
       "    </tr>\n",
       "  </tbody>\n",
       "</table>\n",
       "<p>1 rows × 35 columns</p>\n",
       "</div>"
      ],
      "text/plain": [
       "                                            Nombre Entidad     Departamento  \\\n",
       "1537545  SANTIAGO DE CALI DISTRITO ESPECIAL - DEPARTAME...  Valle del Cauca   \n",
       "\n",
       "               Orden                            Sector       Rama  \\\n",
       "1537545  Territorial  Ambiente y Desarrollo Sostenible  Ejecutivo   \n",
       "\n",
       "        Entidad Centralizada Estado Contrato         Tipo de Contrato  \\\n",
       "1537545         Centralizada      Modificado  Prestación de servicios   \n",
       "\n",
       "        Modalidad de Contratacion Fecha de Inicio del Contrato  ...  \\\n",
       "1537545      Contratación directa                   2020-07-21  ...   \n",
       "\n",
       "        Dias Adicionados PGN SGP SGR RP_AGR  RP_NO_AGR  RC  Delay  \\\n",
       "1537545               58   0   0   0      1          0   0      2   \n",
       "\n",
       "         NormalizedDelay  Delay_ABC  \n",
       "1537545           0.3625          2  \n",
       "\n",
       "[1 rows x 35 columns]"
      ]
     },
     "execution_count": 18,
     "metadata": {},
     "output_type": "execute_result"
    }
   ],
   "source": [
    "df[df.Delay_ABC==2].sample()"
   ]
  },
  {
   "cell_type": "code",
   "execution_count": 19,
   "metadata": {},
   "outputs": [
    {
     "data": {
      "text/html": [
       "<div>\n",
       "<style scoped>\n",
       "    .dataframe tbody tr th:only-of-type {\n",
       "        vertical-align: middle;\n",
       "    }\n",
       "\n",
       "    .dataframe tbody tr th {\n",
       "        vertical-align: top;\n",
       "    }\n",
       "\n",
       "    .dataframe thead th {\n",
       "        text-align: right;\n",
       "    }\n",
       "</style>\n",
       "<table border=\"1\" class=\"dataframe\">\n",
       "  <thead>\n",
       "    <tr style=\"text-align: right;\">\n",
       "      <th></th>\n",
       "      <th>Nombre Entidad</th>\n",
       "      <th>Departamento</th>\n",
       "      <th>Orden</th>\n",
       "      <th>Sector</th>\n",
       "      <th>Rama</th>\n",
       "      <th>Entidad Centralizada</th>\n",
       "      <th>Estado Contrato</th>\n",
       "      <th>Tipo de Contrato</th>\n",
       "      <th>Modalidad de Contratacion</th>\n",
       "      <th>Fecha de Inicio del Contrato</th>\n",
       "      <th>...</th>\n",
       "      <th>Dias Adicionados</th>\n",
       "      <th>PGN</th>\n",
       "      <th>SGP</th>\n",
       "      <th>SGR</th>\n",
       "      <th>RP_AGR</th>\n",
       "      <th>RP_NO_AGR</th>\n",
       "      <th>RC</th>\n",
       "      <th>Delay</th>\n",
       "      <th>NormalizedDelay</th>\n",
       "      <th>Delay_ABC</th>\n",
       "    </tr>\n",
       "  </thead>\n",
       "  <tbody>\n",
       "    <tr>\n",
       "      <th>1505427</th>\n",
       "      <td>DANE - DIRECCION TERRITORIAL CENTRO</td>\n",
       "      <td>Bogotá, D.C.</td>\n",
       "      <td>Nacional</td>\n",
       "      <td>Información Estadística</td>\n",
       "      <td>Corporación Autónoma</td>\n",
       "      <td>Centralizada</td>\n",
       "      <td>Modificado</td>\n",
       "      <td>Prestación de servicios</td>\n",
       "      <td>Contratación directa</td>\n",
       "      <td>2020-08-19</td>\n",
       "      <td>...</td>\n",
       "      <td>132</td>\n",
       "      <td>1</td>\n",
       "      <td>0</td>\n",
       "      <td>0</td>\n",
       "      <td>0</td>\n",
       "      <td>0</td>\n",
       "      <td>0</td>\n",
       "      <td>3</td>\n",
       "      <td>0.992481</td>\n",
       "      <td>3</td>\n",
       "    </tr>\n",
       "  </tbody>\n",
       "</table>\n",
       "<p>1 rows × 35 columns</p>\n",
       "</div>"
      ],
      "text/plain": [
       "                              Nombre Entidad  Departamento     Orden  \\\n",
       "1505427  DANE - DIRECCION TERRITORIAL CENTRO  Bogotá, D.C.  Nacional   \n",
       "\n",
       "                          Sector                  Rama Entidad Centralizada  \\\n",
       "1505427  Información Estadística  Corporación Autónoma         Centralizada   \n",
       "\n",
       "        Estado Contrato         Tipo de Contrato Modalidad de Contratacion  \\\n",
       "1505427      Modificado  Prestación de servicios      Contratación directa   \n",
       "\n",
       "        Fecha de Inicio del Contrato  ... Dias Adicionados PGN SGP SGR RP_AGR  \\\n",
       "1505427                   2020-08-19  ...              132   1   0   0      0   \n",
       "\n",
       "         RP_NO_AGR  RC  Delay  NormalizedDelay  Delay_ABC  \n",
       "1505427          0   0      3         0.992481          3  \n",
       "\n",
       "[1 rows x 35 columns]"
      ]
     },
     "execution_count": 19,
     "metadata": {},
     "output_type": "execute_result"
    }
   ],
   "source": [
    "df[df.Delay_ABC==3].sample()"
   ]
  },
  {
   "cell_type": "markdown",
   "metadata": {},
   "source": [
    "# Delay_EQ\n",
    "\n",
    "The column **Delay_EQ** is determined by dividing the range of **NormalizedDelay**>0 which is (0,1] into equal intervals.\n",
    "By that our categories below this criteria would be:\n",
    "\n",
    "0: Contracts of 0 days added\n",
    "\n",
    "1: Contracts with **NormalizedDelay** $\\leq$ 0.3333333333333333\n",
    "\n",
    "2: Contracts with **NormalizedDelay** $\\leq$ 0.6666666666666667\n",
    "\n",
    "3: Contracts with **NormalizedDelay** > 0.6666666666666667"
   ]
  },
  {
   "cell_type": "code",
   "execution_count": 20,
   "metadata": {},
   "outputs": [],
   "source": [
    "df['Delay_EQ'] = 0\n",
    "limit_1 = 0.3333333333333333\n",
    "limit_2 = 0.6666666666666667"
   ]
  },
  {
   "cell_type": "code",
   "execution_count": 21,
   "metadata": {},
   "outputs": [],
   "source": [
    "df.loc[(df['NormalizedDelay'] > 0)& (df['NormalizedDelay'] <= limit_1), 'Delay_EQ'] = 1\n",
    "df.loc[(df['NormalizedDelay'] > limit_1) & (df['NormalizedDelay'] <= limit_2), 'Delay_EQ']= 2\n",
    "df.loc[(df['NormalizedDelay'] > limit_2), 'Delay_EQ'] = 3"
   ]
  },
  {
   "cell_type": "code",
   "execution_count": 22,
   "metadata": {},
   "outputs": [
    {
     "data": {
      "text/html": [
       "<div>\n",
       "<style scoped>\n",
       "    .dataframe tbody tr th:only-of-type {\n",
       "        vertical-align: middle;\n",
       "    }\n",
       "\n",
       "    .dataframe tbody tr th {\n",
       "        vertical-align: top;\n",
       "    }\n",
       "\n",
       "    .dataframe thead th {\n",
       "        text-align: right;\n",
       "    }\n",
       "</style>\n",
       "<table border=\"1\" class=\"dataframe\">\n",
       "  <thead>\n",
       "    <tr style=\"text-align: right;\">\n",
       "      <th></th>\n",
       "      <th>Nombre Entidad</th>\n",
       "      <th>Departamento</th>\n",
       "      <th>Orden</th>\n",
       "      <th>Sector</th>\n",
       "      <th>Rama</th>\n",
       "      <th>Entidad Centralizada</th>\n",
       "      <th>Estado Contrato</th>\n",
       "      <th>Tipo de Contrato</th>\n",
       "      <th>Modalidad de Contratacion</th>\n",
       "      <th>Fecha de Inicio del Contrato</th>\n",
       "      <th>...</th>\n",
       "      <th>PGN</th>\n",
       "      <th>SGP</th>\n",
       "      <th>SGR</th>\n",
       "      <th>RP_AGR</th>\n",
       "      <th>RP_NO_AGR</th>\n",
       "      <th>RC</th>\n",
       "      <th>Delay</th>\n",
       "      <th>NormalizedDelay</th>\n",
       "      <th>Delay_ABC</th>\n",
       "      <th>Delay_EQ</th>\n",
       "    </tr>\n",
       "  </thead>\n",
       "  <tbody>\n",
       "    <tr>\n",
       "      <th>609070</th>\n",
       "      <td>DISTRITO ESPECIAL INDUSTRIAL Y PORTUARIO DE BA...</td>\n",
       "      <td>Atlántico</td>\n",
       "      <td>Territorial</td>\n",
       "      <td>Servicio Público</td>\n",
       "      <td>Ejecutivo</td>\n",
       "      <td>Descentralizada</td>\n",
       "      <td>En ejecución</td>\n",
       "      <td>Prestación de servicios</td>\n",
       "      <td>Contratación directa</td>\n",
       "      <td>2021-03-05</td>\n",
       "      <td>...</td>\n",
       "      <td>0</td>\n",
       "      <td>0</td>\n",
       "      <td>0</td>\n",
       "      <td>1</td>\n",
       "      <td>0</td>\n",
       "      <td>0</td>\n",
       "      <td>0</td>\n",
       "      <td>0.000000</td>\n",
       "      <td>0</td>\n",
       "      <td>0</td>\n",
       "    </tr>\n",
       "    <tr>\n",
       "      <th>438167</th>\n",
       "      <td>MUNICIPIO DE SAN JOSE DE CUCUTA</td>\n",
       "      <td>Norte de Santander</td>\n",
       "      <td>Territorial</td>\n",
       "      <td>Servicio Público</td>\n",
       "      <td>Ejecutivo</td>\n",
       "      <td>Centralizada</td>\n",
       "      <td>En ejecución</td>\n",
       "      <td>Prestación de servicios</td>\n",
       "      <td>Contratación directa</td>\n",
       "      <td>2021-08-31</td>\n",
       "      <td>...</td>\n",
       "      <td>0</td>\n",
       "      <td>0</td>\n",
       "      <td>0</td>\n",
       "      <td>1</td>\n",
       "      <td>0</td>\n",
       "      <td>0</td>\n",
       "      <td>0</td>\n",
       "      <td>0.000000</td>\n",
       "      <td>0</td>\n",
       "      <td>0</td>\n",
       "    </tr>\n",
       "    <tr>\n",
       "      <th>782892</th>\n",
       "      <td>SENA REGIONAL DISTRITO CAPITAL Grupo Administr...</td>\n",
       "      <td>Bogotá, D.C.</td>\n",
       "      <td>Nacional</td>\n",
       "      <td>Trabajo</td>\n",
       "      <td>Ejecutivo</td>\n",
       "      <td>Descentralizada</td>\n",
       "      <td>En ejecución</td>\n",
       "      <td>Prestación de servicios</td>\n",
       "      <td>Contratación directa</td>\n",
       "      <td>2020-10-29</td>\n",
       "      <td>...</td>\n",
       "      <td>1</td>\n",
       "      <td>0</td>\n",
       "      <td>0</td>\n",
       "      <td>0</td>\n",
       "      <td>0</td>\n",
       "      <td>0</td>\n",
       "      <td>0</td>\n",
       "      <td>0.000000</td>\n",
       "      <td>0</td>\n",
       "      <td>0</td>\n",
       "    </tr>\n",
       "    <tr>\n",
       "      <th>449123</th>\n",
       "      <td>SANTIAGO DE CALI DISTRITO ESPECIAL - SECRETARI...</td>\n",
       "      <td>Valle del Cauca</td>\n",
       "      <td>Territorial</td>\n",
       "      <td>No aplica/No pertenece</td>\n",
       "      <td>Ejecutivo</td>\n",
       "      <td>Centralizada</td>\n",
       "      <td>En ejecución</td>\n",
       "      <td>Prestación de servicios</td>\n",
       "      <td>Contratación directa</td>\n",
       "      <td>2022-01-20</td>\n",
       "      <td>...</td>\n",
       "      <td>0</td>\n",
       "      <td>0</td>\n",
       "      <td>0</td>\n",
       "      <td>1</td>\n",
       "      <td>0</td>\n",
       "      <td>0</td>\n",
       "      <td>0</td>\n",
       "      <td>0.000000</td>\n",
       "      <td>0</td>\n",
       "      <td>0</td>\n",
       "    </tr>\n",
       "    <tr>\n",
       "      <th>1014910</th>\n",
       "      <td>INSTITUTO DISTRITAL PARA LA PROTECCIÓN DE LA N...</td>\n",
       "      <td>Bogotá, D.C.</td>\n",
       "      <td>Territorial</td>\n",
       "      <td>Salud y Protección Social</td>\n",
       "      <td>Ejecutivo</td>\n",
       "      <td>Descentralizada</td>\n",
       "      <td>En ejecución</td>\n",
       "      <td>Prestación de servicios</td>\n",
       "      <td>Contratación directa</td>\n",
       "      <td>2021-05-05</td>\n",
       "      <td>...</td>\n",
       "      <td>0</td>\n",
       "      <td>0</td>\n",
       "      <td>0</td>\n",
       "      <td>1</td>\n",
       "      <td>0</td>\n",
       "      <td>0</td>\n",
       "      <td>0</td>\n",
       "      <td>0.000000</td>\n",
       "      <td>0</td>\n",
       "      <td>0</td>\n",
       "    </tr>\n",
       "    <tr>\n",
       "      <th>750472</th>\n",
       "      <td>MUNICIPIO DE SANTA ROSA DE CABAL</td>\n",
       "      <td>Risaralda</td>\n",
       "      <td>Territorial</td>\n",
       "      <td>Servicio Público</td>\n",
       "      <td>Ejecutivo</td>\n",
       "      <td>Descentralizada</td>\n",
       "      <td>En ejecución</td>\n",
       "      <td>Prestación de servicios</td>\n",
       "      <td>Contratación directa</td>\n",
       "      <td>2021-06-01</td>\n",
       "      <td>...</td>\n",
       "      <td>0</td>\n",
       "      <td>0</td>\n",
       "      <td>0</td>\n",
       "      <td>1</td>\n",
       "      <td>0</td>\n",
       "      <td>0</td>\n",
       "      <td>0</td>\n",
       "      <td>0.000000</td>\n",
       "      <td>0</td>\n",
       "      <td>0</td>\n",
       "    </tr>\n",
       "    <tr>\n",
       "      <th>353546</th>\n",
       "      <td>Secretaria Distrital de Integración Social - O...</td>\n",
       "      <td>Bogotá, D.C.</td>\n",
       "      <td>Territorial</td>\n",
       "      <td>Inclusión Social y Reconciliación</td>\n",
       "      <td>Ejecutivo</td>\n",
       "      <td>Centralizada</td>\n",
       "      <td>Modificado</td>\n",
       "      <td>Prestación de servicios</td>\n",
       "      <td>Contratación directa</td>\n",
       "      <td>2021-03-24</td>\n",
       "      <td>...</td>\n",
       "      <td>0</td>\n",
       "      <td>1</td>\n",
       "      <td>0</td>\n",
       "      <td>0</td>\n",
       "      <td>0</td>\n",
       "      <td>0</td>\n",
       "      <td>2</td>\n",
       "      <td>0.308390</td>\n",
       "      <td>1</td>\n",
       "      <td>1</td>\n",
       "    </tr>\n",
       "    <tr>\n",
       "      <th>1425906</th>\n",
       "      <td>COMANDO AÉREO DE COMBATE No. 1</td>\n",
       "      <td>Cundinamarca</td>\n",
       "      <td>Nacional</td>\n",
       "      <td>No aplica/No pertenece</td>\n",
       "      <td>Corporación Autónoma</td>\n",
       "      <td>Centralizada</td>\n",
       "      <td>Activo</td>\n",
       "      <td>Compraventa</td>\n",
       "      <td>Mínima cuantía</td>\n",
       "      <td>2019-07-08</td>\n",
       "      <td>...</td>\n",
       "      <td>0</td>\n",
       "      <td>0</td>\n",
       "      <td>0</td>\n",
       "      <td>0</td>\n",
       "      <td>0</td>\n",
       "      <td>0</td>\n",
       "      <td>0</td>\n",
       "      <td>0.000000</td>\n",
       "      <td>0</td>\n",
       "      <td>0</td>\n",
       "    </tr>\n",
       "    <tr>\n",
       "      <th>1321478</th>\n",
       "      <td>SUBRED INTEGRADA DE SERVICIOS DE SALUD NORTE E...</td>\n",
       "      <td>Bogotá, D.C.</td>\n",
       "      <td>Territorial</td>\n",
       "      <td>Salud y Protección Social</td>\n",
       "      <td>Corporación Autónoma</td>\n",
       "      <td>Descentralizada</td>\n",
       "      <td>Modificado</td>\n",
       "      <td>DecreeLaw092/2017</td>\n",
       "      <td>Contratación régimen especial</td>\n",
       "      <td>2020-07-20</td>\n",
       "      <td>...</td>\n",
       "      <td>0</td>\n",
       "      <td>0</td>\n",
       "      <td>0</td>\n",
       "      <td>0</td>\n",
       "      <td>1</td>\n",
       "      <td>0</td>\n",
       "      <td>3</td>\n",
       "      <td>0.890756</td>\n",
       "      <td>3</td>\n",
       "      <td>3</td>\n",
       "    </tr>\n",
       "    <tr>\n",
       "      <th>410141</th>\n",
       "      <td>SECRETARIA DISTRITAL DE DESARROLLO ECONOMICO</td>\n",
       "      <td>Bogotá, D.C.</td>\n",
       "      <td>Territorial</td>\n",
       "      <td>Industria</td>\n",
       "      <td>Ejecutivo</td>\n",
       "      <td>Centralizada</td>\n",
       "      <td>En ejecución</td>\n",
       "      <td>Prestación de servicios</td>\n",
       "      <td>Contratación directa</td>\n",
       "      <td>2021-02-25</td>\n",
       "      <td>...</td>\n",
       "      <td>0</td>\n",
       "      <td>0</td>\n",
       "      <td>0</td>\n",
       "      <td>1</td>\n",
       "      <td>0</td>\n",
       "      <td>0</td>\n",
       "      <td>0</td>\n",
       "      <td>0.000000</td>\n",
       "      <td>0</td>\n",
       "      <td>0</td>\n",
       "    </tr>\n",
       "  </tbody>\n",
       "</table>\n",
       "<p>10 rows × 36 columns</p>\n",
       "</div>"
      ],
      "text/plain": [
       "                                            Nombre Entidad  \\\n",
       "609070   DISTRITO ESPECIAL INDUSTRIAL Y PORTUARIO DE BA...   \n",
       "438167                     MUNICIPIO DE SAN JOSE DE CUCUTA   \n",
       "782892   SENA REGIONAL DISTRITO CAPITAL Grupo Administr...   \n",
       "449123   SANTIAGO DE CALI DISTRITO ESPECIAL - SECRETARI...   \n",
       "1014910  INSTITUTO DISTRITAL PARA LA PROTECCIÓN DE LA N...   \n",
       "750472                    MUNICIPIO DE SANTA ROSA DE CABAL   \n",
       "353546   Secretaria Distrital de Integración Social - O...   \n",
       "1425906                     COMANDO AÉREO DE COMBATE No. 1   \n",
       "1321478  SUBRED INTEGRADA DE SERVICIOS DE SALUD NORTE E...   \n",
       "410141        SECRETARIA DISTRITAL DE DESARROLLO ECONOMICO   \n",
       "\n",
       "               Departamento        Orden                             Sector  \\\n",
       "609070            Atlántico  Territorial                   Servicio Público   \n",
       "438167   Norte de Santander  Territorial                   Servicio Público   \n",
       "782892         Bogotá, D.C.     Nacional                            Trabajo   \n",
       "449123      Valle del Cauca  Territorial             No aplica/No pertenece   \n",
       "1014910        Bogotá, D.C.  Territorial          Salud y Protección Social   \n",
       "750472            Risaralda  Territorial                   Servicio Público   \n",
       "353546         Bogotá, D.C.  Territorial  Inclusión Social y Reconciliación   \n",
       "1425906        Cundinamarca     Nacional             No aplica/No pertenece   \n",
       "1321478        Bogotá, D.C.  Territorial          Salud y Protección Social   \n",
       "410141         Bogotá, D.C.  Territorial                          Industria   \n",
       "\n",
       "                         Rama Entidad Centralizada Estado Contrato  \\\n",
       "609070              Ejecutivo      Descentralizada    En ejecución   \n",
       "438167              Ejecutivo         Centralizada    En ejecución   \n",
       "782892              Ejecutivo      Descentralizada    En ejecución   \n",
       "449123              Ejecutivo         Centralizada    En ejecución   \n",
       "1014910             Ejecutivo      Descentralizada    En ejecución   \n",
       "750472              Ejecutivo      Descentralizada    En ejecución   \n",
       "353546              Ejecutivo         Centralizada      Modificado   \n",
       "1425906  Corporación Autónoma         Centralizada          Activo   \n",
       "1321478  Corporación Autónoma      Descentralizada      Modificado   \n",
       "410141              Ejecutivo         Centralizada    En ejecución   \n",
       "\n",
       "                Tipo de Contrato      Modalidad de Contratacion  \\\n",
       "609070   Prestación de servicios           Contratación directa   \n",
       "438167   Prestación de servicios           Contratación directa   \n",
       "782892   Prestación de servicios           Contratación directa   \n",
       "449123   Prestación de servicios           Contratación directa   \n",
       "1014910  Prestación de servicios           Contratación directa   \n",
       "750472   Prestación de servicios           Contratación directa   \n",
       "353546   Prestación de servicios           Contratación directa   \n",
       "1425906              Compraventa                 Mínima cuantía   \n",
       "1321478        DecreeLaw092/2017  Contratación régimen especial   \n",
       "410141   Prestación de servicios           Contratación directa   \n",
       "\n",
       "        Fecha de Inicio del Contrato  ... PGN SGP SGR RP_AGR RP_NO_AGR  RC  \\\n",
       "609070                    2021-03-05  ...   0   0   0      1         0   0   \n",
       "438167                    2021-08-31  ...   0   0   0      1         0   0   \n",
       "782892                    2020-10-29  ...   1   0   0      0         0   0   \n",
       "449123                    2022-01-20  ...   0   0   0      1         0   0   \n",
       "1014910                   2021-05-05  ...   0   0   0      1         0   0   \n",
       "750472                    2021-06-01  ...   0   0   0      1         0   0   \n",
       "353546                    2021-03-24  ...   0   1   0      0         0   0   \n",
       "1425906                   2019-07-08  ...   0   0   0      0         0   0   \n",
       "1321478                   2020-07-20  ...   0   0   0      0         1   0   \n",
       "410141                    2021-02-25  ...   0   0   0      1         0   0   \n",
       "\n",
       "         Delay  NormalizedDelay  Delay_ABC  Delay_EQ  \n",
       "609070       0         0.000000          0         0  \n",
       "438167       0         0.000000          0         0  \n",
       "782892       0         0.000000          0         0  \n",
       "449123       0         0.000000          0         0  \n",
       "1014910      0         0.000000          0         0  \n",
       "750472       0         0.000000          0         0  \n",
       "353546       2         0.308390          1         1  \n",
       "1425906      0         0.000000          0         0  \n",
       "1321478      3         0.890756          3         3  \n",
       "410141       0         0.000000          0         0  \n",
       "\n",
       "[10 rows x 36 columns]"
      ]
     },
     "execution_count": 22,
     "metadata": {},
     "output_type": "execute_result"
    }
   ],
   "source": [
    "df.sample(10)"
   ]
  },
  {
   "cell_type": "code",
   "execution_count": 23,
   "metadata": {},
   "outputs": [],
   "source": [
    "#!pip install xgboost"
   ]
  },
  {
   "cell_type": "code",
   "execution_count": 24,
   "metadata": {},
   "outputs": [],
   "source": [
    "# Importación y definición de modelo XGBClassifier\n",
    "\n",
    "from xgboost import XGBClassifier\n",
    "from sklearn import metrics \n"
   ]
  },
  {
   "cell_type": "markdown",
   "metadata": {},
   "source": [
    "# Modelo XGBoost-1 (Variable Delay)"
   ]
  },
  {
   "cell_type": "code",
   "execution_count": 25,
   "metadata": {},
   "outputs": [],
   "source": [
    "y = df['Delay'].astype('category')\n",
    "X = df.drop(['Delay'], axis=1)[['Departamento','Orden','Sector',\n",
    "                                            'Rama','Entidad Centralizada',\n",
    "                                            'Estado Contrato', 'Tipo de Contrato', 'Modalidad de Contratacion',\n",
    "                                            'Es Grupo','Es Pyme', 'Valor del Contrato', 'Valor de pago adelantado',\n",
    "                                             'Valor Facturado','Valor Pendiente de Pago', 'Valor Amortizado',\n",
    "                                            'EsPostConflicto', 'Destino Gasto',\n",
    "                                            'PGN','SGP','SGR','RP_AGR','RP_NO_AGR','RC']]"
   ]
  },
  {
   "cell_type": "code",
   "execution_count": 26,
   "metadata": {},
   "outputs": [],
   "source": [
    "# Separación de variables predictoras (X) y variable de interés (y) en set de entrenamiento y test usandola función train_test_split\n",
    "from sklearn.model_selection import train_test_split\n",
    "\n",
    "X_train, X_test, y_train, y_test = train_test_split(X, y, test_size=0.33, random_state=42)\n",
    "n_samples = X_train.shape[0]"
   ]
  },
  {
   "cell_type": "code",
   "execution_count": 27,
   "metadata": {},
   "outputs": [],
   "source": [
    "\n",
    "clf = XGBClassifier(tree_method=\"hist\", enable_categorical=True)\n",
    "\n",
    "# Entrenamiento (fit) y desempeño del modelo XGBClassifier\n",
    "clf.fit(X_train, y_train)\n",
    "y_pred = clf.predict(X_test)"
   ]
  },
  {
   "cell_type": "code",
   "execution_count": 28,
   "metadata": {},
   "outputs": [
    {
     "data": {
      "text/plain": [
       "(0.5923242156234809, 0.9037601306657045)"
      ]
     },
     "execution_count": 28,
     "metadata": {},
     "output_type": "execute_result"
    }
   ],
   "source": [
    "metrics.f1_score(y_pred, y_test.values, average= 'macro'), metrics.accuracy_score(y_pred, y_test.values)"
   ]
  },
  {
   "cell_type": "markdown",
   "metadata": {},
   "source": [
    "# Modelo XGBoost-2 Variable Delay_ABC"
   ]
  },
  {
   "cell_type": "code",
   "execution_count": 29,
   "metadata": {},
   "outputs": [],
   "source": [
    "# print(df.columns)"
   ]
  },
  {
   "cell_type": "code",
   "execution_count": 30,
   "metadata": {},
   "outputs": [],
   "source": [
    "y = df['Delay_ABC'].astype('category')"
   ]
  },
  {
   "cell_type": "code",
   "execution_count": 31,
   "metadata": {},
   "outputs": [],
   "source": [
    "# Separación de variables predictoras (X) y variable de interés (y) en set de entrenamiento y test usandola función train_test_split\n",
    "from sklearn.model_selection import train_test_split\n",
    "\n",
    "X_train, X_test, y_train, y_test = train_test_split(X, y, test_size=0.33, random_state=42)\n",
    "n_samples = X_train.shape[0]"
   ]
  },
  {
   "cell_type": "code",
   "execution_count": 32,
   "metadata": {},
   "outputs": [],
   "source": [
    "\n",
    "clf = XGBClassifier(tree_method=\"hist\", enable_categorical=True)\n",
    "\n",
    "# Entrenamiento (fit) y desempeño del modelo XGBClassifier\n",
    "clf.fit(X_train, y_train)\n",
    "y_pred = clf.predict(X_test)"
   ]
  },
  {
   "cell_type": "code",
   "execution_count": 33,
   "metadata": {},
   "outputs": [
    {
     "data": {
      "text/plain": [
       "(0.6120535911329996, 0.9071722591433017)"
      ]
     },
     "execution_count": 33,
     "metadata": {},
     "output_type": "execute_result"
    }
   ],
   "source": [
    "metrics.f1_score(y_pred, y_test.values, average= 'macro'), metrics.accuracy_score(y_pred, y_test.values)"
   ]
  },
  {
   "cell_type": "markdown",
   "metadata": {},
   "source": [
    "# Modelo XGBoost-3 Variable Delay_EQ"
   ]
  },
  {
   "cell_type": "code",
   "execution_count": 34,
   "metadata": {},
   "outputs": [],
   "source": [
    "y = df['Delay_EQ'].astype('category')"
   ]
  },
  {
   "cell_type": "code",
   "execution_count": 35,
   "metadata": {},
   "outputs": [],
   "source": [
    "X_train, X_test, y_train, y_test = train_test_split(X, y, test_size=0.33, random_state=42)\n",
    "n_samples = X_train.shape[0]"
   ]
  },
  {
   "cell_type": "code",
   "execution_count": 36,
   "metadata": {},
   "outputs": [],
   "source": [
    "clf2 = XGBClassifier(tree_method=\"hist\", enable_categorical=True)\n",
    "\n",
    "# Entrenamiento (fit) y desempeño del modelo XGBClassifier\n",
    "clf.fit(X_train, y_train)\n",
    "y_pred = clf.predict(X_test)"
   ]
  },
  {
   "cell_type": "code",
   "execution_count": 37,
   "metadata": {},
   "outputs": [
    {
     "data": {
      "text/plain": [
       "(0.6047590546102186, 0.9110945580527396)"
      ]
     },
     "execution_count": 37,
     "metadata": {},
     "output_type": "execute_result"
    }
   ],
   "source": [
    "metrics.f1_score(y_pred, y_test.values, average= 'macro'), metrics.accuracy_score(y_pred, y_test.values)"
   ]
  },
  {
   "cell_type": "markdown",
   "metadata": {},
   "source": [
    "# Modelo XGBoost-1 Ajustado con One Hot Encoding "
   ]
  },
  {
   "cell_type": "code",
   "execution_count": 38,
   "metadata": {},
   "outputs": [],
   "source": [
    "# X.info()"
   ]
  },
  {
   "cell_type": "code",
   "execution_count": 39,
   "metadata": {},
   "outputs": [],
   "source": [
    "X = pd.get_dummies(X, drop_first=True)"
   ]
  },
  {
   "cell_type": "code",
   "execution_count": 40,
   "metadata": {},
   "outputs": [],
   "source": [
    "y = df['Delay'].astype('category')"
   ]
  },
  {
   "cell_type": "code",
   "execution_count": 41,
   "metadata": {
    "jupyter": {
     "source_hidden": true
    },
    "tags": []
   },
   "outputs": [],
   "source": [
    "X_train, X_test, y_train, y_test = train_test_split(X, y, test_size=0.33, random_state=42)\n",
    "n_samples = X_train.shape[0]"
   ]
  },
  {
   "cell_type": "code",
   "execution_count": 42,
   "metadata": {},
   "outputs": [],
   "source": [
    "clf2 = XGBClassifier()\n",
    "\n",
    "# Entrenamiento (fit) y desempeño del modelo XGBClassifier\n",
    "clf.fit(X_train, y_train)\n",
    "y_pred = clf.predict(X_test)"
   ]
  },
  {
   "cell_type": "code",
   "execution_count": 43,
   "metadata": {},
   "outputs": [
    {
     "data": {
      "text/plain": [
       "(0.5800027375823203, 0.9010928898148256)"
      ]
     },
     "execution_count": 43,
     "metadata": {},
     "output_type": "execute_result"
    }
   ],
   "source": [
    "metrics.f1_score(y_pred, y_test.values, average= 'macro'), metrics.accuracy_score(y_pred, y_test.values)"
   ]
  },
  {
   "cell_type": "markdown",
   "metadata": {},
   "source": [
    "# Modelo XGBoost-2 Ajustado con One Hot Encoding"
   ]
  },
  {
   "cell_type": "code",
   "execution_count": 44,
   "metadata": {
    "tags": []
   },
   "outputs": [],
   "source": [
    "y = df['Delay_ABC'].astype('category')"
   ]
  },
  {
   "cell_type": "code",
   "execution_count": 45,
   "metadata": {
    "tags": []
   },
   "outputs": [],
   "source": [
    "X_train, X_test, y_train, y_test = train_test_split(X, y, test_size=0.33, random_state=42)\n",
    "n_samples = X_train.shape[0]"
   ]
  },
  {
   "cell_type": "code",
   "execution_count": 46,
   "metadata": {},
   "outputs": [],
   "source": [
    "clf2 = XGBClassifier()\n",
    "\n",
    "# Entrenamiento (fit) y desempeño del modelo XGBClassifier\n",
    "clf.fit(X_train, y_train)\n",
    "y_pred = clf.predict(X_test)"
   ]
  },
  {
   "cell_type": "code",
   "execution_count": 47,
   "metadata": {},
   "outputs": [
    {
     "data": {
      "text/plain": [
       "(0.5944275070063709, 0.9038241444461256)"
      ]
     },
     "execution_count": 47,
     "metadata": {},
     "output_type": "execute_result"
    }
   ],
   "source": [
    "metrics.f1_score(y_pred, y_test.values, average= 'macro'), metrics.accuracy_score(y_pred, y_test.values)"
   ]
  },
  {
   "cell_type": "markdown",
   "metadata": {},
   "source": [
    "Esto se hizo para comparar las particiones."
   ]
  },
  {
   "cell_type": "code",
   "execution_count": 51,
   "metadata": {},
   "outputs": [],
   "source": [
    "import numpy as np"
   ]
  },
  {
   "cell_type": "code",
   "execution_count": 52,
   "metadata": {},
   "outputs": [
    {
     "data": {
      "text/plain": [
       "780515.1612358321"
      ]
     },
     "execution_count": 52,
     "metadata": {},
     "output_type": "execute_result"
    }
   ],
   "source": [
    "np.mean(X_train.index)"
   ]
  },
  {
   "cell_type": "code",
   "execution_count": 53,
   "metadata": {
    "tags": []
   },
   "outputs": [],
   "source": [
    "y = df['Delay'].astype('category')"
   ]
  },
  {
   "cell_type": "code",
   "execution_count": 54,
   "metadata": {
    "tags": []
   },
   "outputs": [],
   "source": [
    "X_train, X_test, y_train, y_test = train_test_split(X, y, test_size=0.33, random_state=42)\n",
    "n_samples = X_train.shape[0]"
   ]
  },
  {
   "cell_type": "code",
   "execution_count": 55,
   "metadata": {},
   "outputs": [
    {
     "data": {
      "text/plain": [
       "780515.1612358321"
      ]
     },
     "execution_count": 55,
     "metadata": {},
     "output_type": "execute_result"
    }
   ],
   "source": [
    "np.mean(X_train.index)"
   ]
  },
  {
   "cell_type": "markdown",
   "metadata": {},
   "source": [
    "## -------------------------------------------------------------------------------------------------------------"
   ]
  },
  {
   "cell_type": "markdown",
   "metadata": {},
   "source": [
    "# Model XGBoost-4 $y$ = Delay ABC, $x$ = just categorical values"
   ]
  },
  {
   "cell_type": "code",
   "execution_count": 67,
   "metadata": {},
   "outputs": [],
   "source": [
    "y = df['Delay_ABC'].astype('category')\n",
    "X = df.drop(['Delay'], axis=1)[['Departamento','Orden','Sector',\n",
    "                                    'Rama','Entidad Centralizada',\n",
    "                                    'Estado Contrato', 'Tipo de Contrato', 'Modalidad de Contratacion',\n",
    "                                    'Es Grupo','Es Pyme',\n",
    "                                    'EsPostConflicto', 'Destino Gasto']]"
   ]
  },
  {
   "cell_type": "code",
   "execution_count": 68,
   "metadata": {},
   "outputs": [],
   "source": [
    "# Separación de variables predictoras (X) y variable de interés (y) en set de entrenamiento y test usandola función train_test_split\n",
    "X_train, X_test, y_train, y_test = train_test_split(X, y, test_size=0.33, random_state=42)\n",
    "n_samples = X_train.shape[0]"
   ]
  },
  {
   "cell_type": "code",
   "execution_count": 69,
   "metadata": {},
   "outputs": [],
   "source": [
    "clf = XGBClassifier(tree_method=\"hist\", enable_categorical=True)\n",
    "\n",
    "# Entrenamiento (fit) y desempeño del modelo XGBClassifier\n",
    "clf.fit(X_train, y_train)\n",
    "y_pred = clf.predict(X_test)"
   ]
  },
  {
   "cell_type": "code",
   "execution_count": 70,
   "metadata": {},
   "outputs": [
    {
     "data": {
      "text/plain": [
       "(0.47243442559758725, 0.8834677622722177)"
      ]
     },
     "execution_count": 70,
     "metadata": {},
     "output_type": "execute_result"
    }
   ],
   "source": [
    "metrics.f1_score(y_pred, y_test.values, average= 'macro'), metrics.accuracy_score(y_pred, y_test.values)"
   ]
  },
  {
   "cell_type": "markdown",
   "metadata": {},
   "source": [
    "# Model XGBoost-5 $y$ = Delay ABC, $x$ = just number values"
   ]
  },
  {
   "cell_type": "code",
   "execution_count": 71,
   "metadata": {},
   "outputs": [
    {
     "name": "stdout",
     "output_type": "stream",
     "text": [
      "<class 'pandas.core.frame.DataFrame'>\n",
      "RangeIndex: 1562161 entries, 0 to 1562160\n",
      "Data columns (total 36 columns):\n",
      " #   Column                           Non-Null Count    Dtype         \n",
      "---  ------                           --------------    -----         \n",
      " 0   Nombre Entidad                   1562161 non-null  object        \n",
      " 1   Departamento                     1562161 non-null  category      \n",
      " 2   Orden                            1562161 non-null  category      \n",
      " 3   Sector                           1562161 non-null  category      \n",
      " 4   Rama                             1562161 non-null  category      \n",
      " 5   Entidad Centralizada             1562161 non-null  category      \n",
      " 6   Estado Contrato                  1562161 non-null  category      \n",
      " 7   Tipo de Contrato                 1562161 non-null  category      \n",
      " 8   Modalidad de Contratacion        1562161 non-null  category      \n",
      " 9   Fecha de Inicio del Contrato     1562161 non-null  datetime64[ns]\n",
      " 10  Fecha de Fin del Contrato        1562161 non-null  datetime64[ns]\n",
      " 11  Es Grupo                         1562161 non-null  category      \n",
      " 12  Es Pyme                          1562161 non-null  category      \n",
      " 13  Obligación Ambiental             1562161 non-null  object        \n",
      " 14  Obligaciones Postconsumo         1562161 non-null  object        \n",
      " 15  Valor del Contrato               1562161 non-null  int64         \n",
      " 16  Valor de pago adelantado         1562161 non-null  int64         \n",
      " 17  Valor Facturado                  1562161 non-null  int64         \n",
      " 18  Valor Pendiente de Pago          1562161 non-null  int64         \n",
      " 19  Valor Pagado                     1562161 non-null  int64         \n",
      " 20  Valor Amortizado                 1562161 non-null  int64         \n",
      " 21  Valor Pendiente de Amortizacion  1562161 non-null  int64         \n",
      " 22  Valor Pendiente de Ejecucion     1562161 non-null  int64         \n",
      " 23  EsPostConflicto                  1562161 non-null  category      \n",
      " 24  Destino Gasto                    1562161 non-null  category      \n",
      " 25  Dias Adicionados                 1562161 non-null  int64         \n",
      " 26  PGN                              1562161 non-null  int64         \n",
      " 27  SGP                              1562161 non-null  int64         \n",
      " 28  SGR                              1562161 non-null  int64         \n",
      " 29  RP_AGR                           1562161 non-null  int64         \n",
      " 30  RP_NO_AGR                        1562161 non-null  int64         \n",
      " 31  RC                               1562161 non-null  int64         \n",
      " 32  Delay                            1562161 non-null  category      \n",
      " 33  NormalizedDelay                  1562161 non-null  float64       \n",
      " 34  Delay_ABC                        1562161 non-null  int64         \n",
      " 35  Delay_EQ                         1562161 non-null  int64         \n",
      "dtypes: category(13), datetime64[ns](2), float64(1), int64(17), object(3)\n",
      "memory usage: 293.5+ MB\n"
     ]
    }
   ],
   "source": [
    "df.info()"
   ]
  },
  {
   "cell_type": "code",
   "execution_count": 72,
   "metadata": {},
   "outputs": [],
   "source": [
    "y = df['Delay_ABC'].astype('category')\n",
    "X = df.drop(['Delay'], axis=1)[['Valor del Contrato', 'Valor de pago adelantado',\n",
    "                                'Valor Facturado','Valor Pendiente de Pago', 'Valor Amortizado',\n",
    "                                'PGN','SGP','SGR','RP_AGR','RP_NO_AGR','RC']]"
   ]
  },
  {
   "cell_type": "code",
   "execution_count": 73,
   "metadata": {},
   "outputs": [],
   "source": [
    "# Separación de variables predictoras (X) y variable de interés (y) en set de entrenamiento y test usandola función train_test_split\n",
    "X_train, X_test, y_train, y_test = train_test_split(X, y, test_size=0.33, random_state=42)\n",
    "n_samples = X_train.shape[0]"
   ]
  },
  {
   "cell_type": "code",
   "execution_count": 74,
   "metadata": {},
   "outputs": [],
   "source": [
    "clf = XGBClassifier(tree_method=\"hist\", enable_categorical=True)\n",
    "\n",
    "# Entrenamiento (fit) y desempeño del modelo XGBClassifier\n",
    "clf.fit(X_train, y_train)\n",
    "y_pred = clf.predict(X_test)"
   ]
  },
  {
   "cell_type": "code",
   "execution_count": 75,
   "metadata": {},
   "outputs": [
    {
     "data": {
      "text/plain": [
       "(0.2555759788712237, 0.8539865066710118)"
      ]
     },
     "execution_count": 75,
     "metadata": {},
     "output_type": "execute_result"
    }
   ],
   "source": [
    "metrics.f1_score(y_pred, y_test.values, average= 'macro'), metrics.accuracy_score(y_pred, y_test.values)"
   ]
  },
  {
   "cell_type": "markdown",
   "metadata": {},
   "source": [
    "# Model XGBoost-6x $y$ = Delay ABC, $x$ = All variables but one at the time"
   ]
  },
  {
   "cell_type": "code",
   "execution_count": 79,
   "metadata": {},
   "outputs": [],
   "source": [
    "#df.Rama.unique"
   ]
  },
  {
   "cell_type": "code",
   "execution_count": 80,
   "metadata": {},
   "outputs": [],
   "source": [
    "y = df['Delay_ABC'].astype('category')"
   ]
  },
  {
   "cell_type": "code",
   "execution_count": 81,
   "metadata": {},
   "outputs": [],
   "source": [
    "# Cuidado con esta celda\n",
    "# f1 = {}\n",
    "# preX = df.drop(['Delay'], axis=1)[['Departamento', 'Orden','Sector',\n",
    "#                             'Rama','Entidad Centralizada',\n",
    "#                             'Estado Contrato', 'Tipo de Contrato', 'Modalidad de Contratacion',\n",
    "#                             'Es Grupo','Es Pyme', 'Valor del Contrato', 'Valor de pago adelantado',\n",
    "#                             'Valor Facturado','Valor Pendiente de Pago', 'Valor Amortizado',\n",
    "#                             'EsPostConflicto', 'Destino Gasto',\n",
    "#                             'PGN','SGP','SGR','RP_AGR','RP_NO_AGR','RC']]\n",
    "\n",
    "# def xgb_no_col(col):\n",
    "#     X = preX.drop(col, axis=1)\n",
    "#     # Separación de variables predictoras (X) y variable de interés (y) en set de entrenamiento y test usandola función train_test_split\n",
    "#     X_train, X_test, y_train, y_test = train_test_split(X, y, test_size=0.33, random_state=42)\n",
    "#     n_samples = X_train.shape[0]\n",
    "#     clf = XGBClassifier(tree_method=\"hist\", enable_categorical=True)\n",
    "\n",
    "#     # Entrenamiento (fit) y desempeño del modelo XGBClassifier\n",
    "#     clf.fit(X_train, y_train)\n",
    "#     y_pred = clf.predict(X_test)\n",
    "#     val = f1_score(y_pred, y_test.values, average= 'macro')\n",
    "#     return val\n",
    "\n",
    "# for i in preX.columns:\n",
    "#     f1[i] = xgb_no_col(i)\n",
    "    "
   ]
  },
  {
   "cell_type": "code",
   "execution_count": 82,
   "metadata": {},
   "outputs": [
    {
     "data": {
      "text/plain": [
       "{'Orden': {'Orden': 0.5940113737409076},\n",
       " 'Sector': {'Sector': 0.5778518423434043},\n",
       " 'Rama': {'Rama': 0.5950230103446111},\n",
       " 'Entidad Centralizada': {'Entidad Centralizada': 0.5938698714108586},\n",
       " 'Estado Contrato': {'Estado Contrato': 0.3943225043723796},\n",
       " 'Tipo de Contrato': {'Tipo de Contrato': 0.5884076755985277},\n",
       " 'Modalidad de Contratacion': {'Modalidad de Contratacion': 0.595895148325488},\n",
       " 'Es Grupo': {'Es Grupo': 0.5989313104633025},\n",
       " 'Es Pyme': {'Es Pyme': 0.5981449598258602},\n",
       " 'Valor del Contrato': {'Valor del Contrato': 0.5834713963489796},\n",
       " 'Valor de pago adelantado': {'Valor de pago adelantado': 0.5978471228603323},\n",
       " 'Valor Facturado': {'Valor Facturado': 0.5900617635682841},\n",
       " 'Valor Pendiente de Pago': {'Valor Pendiente de Pago': 0.5941193008962493},\n",
       " 'Valor Amortizado': {'Valor Amortizado': 0.5952229244472738},\n",
       " 'EsPostConflicto': {'EsPostConflicto': 0.5977560436121007},\n",
       " 'Destino Gasto': {'Destino Gasto': 0.5984565763807134},\n",
       " 'PGN': {'PGN': 0.5958048479442903},\n",
       " 'SGP': {'SGP': 0.5951687311795475},\n",
       " 'SGR': {'SGR': 0.5987454981625449},\n",
       " 'RP_AGR': {'RP_AGR': 0.5790103744298106},\n",
       " 'RP_NO_AGR': {'RP_NO_AGR': 0.5424711716852426},\n",
       " 'RC': {'RC': 0.594238971023581}}"
      ]
     },
     "execution_count": 82,
     "metadata": {},
     "output_type": "execute_result"
    }
   ],
   "source": [
    "f1"
   ]
  },
  {
   "cell_type": "markdown",
   "metadata": {},
   "source": [
    "# Model XGBoost-7 $y$ = Delay ABC, $x$ = All variables and Days_to_end_of_years"
   ]
  },
  {
   "cell_type": "code",
   "execution_count": 120,
   "metadata": {},
   "outputs": [
    {
     "name": "stdout",
     "output_type": "stream",
     "text": [
      "<class 'pandas.core.frame.DataFrame'>\n",
      "RangeIndex: 1562161 entries, 0 to 1562160\n",
      "Data columns (total 3 columns):\n",
      " #   Column  Non-Null Count    Dtype        \n",
      "---  ------  --------------    -----        \n",
      " 0   year    1562161 non-null  period[A-DEC]\n",
      " 1   month   1562161 non-null  int64        \n",
      " 2   day     1562161 non-null  int64        \n",
      "dtypes: int64(2), period[A-DEC](1)\n",
      "memory usage: 35.8 MB\n",
      "<class 'pandas.core.frame.DataFrame'>\n",
      "RangeIndex: 1562161 entries, 0 to 1562160\n",
      "Data columns (total 3 columns):\n",
      " #   Column  Non-Null Count    Dtype\n",
      "---  ------  --------------    -----\n",
      " 0   year    1562161 non-null  int64\n",
      " 1   month   1562161 non-null  int64\n",
      " 2   day     1562161 non-null  int64\n",
      "dtypes: int64(3)\n",
      "memory usage: 35.8 MB\n"
     ]
    }
   ],
   "source": [
    "df_aux = pd.DataFrame({'year': df['Fecha de Fin del Contrato'].dt.to_period('Y'), 'month': 12, 'day': 31})\n",
    "df_aux.info()\n",
    "df_aux.year = df_aux.year.dt.strftime('%Y').astype('int64')\n",
    "df_aux.info()\n",
    "df['Days_to_end_of_year'] = (pd.to_datetime(df_aux) - df['Fecha de Fin del Contrato']).dt.days.astype('int64')"
   ]
  },
  {
   "cell_type": "code",
   "execution_count": 127,
   "metadata": {},
   "outputs": [
    {
     "data": {
      "text/plain": [
       "0         2022-12-31\n",
       "1         2020-12-31\n",
       "2         2021-12-31\n",
       "3         2018-12-31\n",
       "4         2022-12-31\n",
       "             ...    \n",
       "1562156   2021-12-31\n",
       "1562157   2021-12-31\n",
       "1562158   2021-12-31\n",
       "1562159   2021-12-31\n",
       "1562160   2021-12-31\n",
       "Length: 1562161, dtype: datetime64[ns]"
      ]
     },
     "execution_count": 127,
     "metadata": {},
     "output_type": "execute_result"
    }
   ],
   "source": [
    "pd.to_datetime(df_aux)"
   ]
  },
  {
   "cell_type": "code",
   "execution_count": 95,
   "metadata": {},
   "outputs": [],
   "source": [
    "\n",
    "X = df.drop(['Delay'], axis=1)[['Departamento','Orden','Sector',\n",
    "                                'Rama','Entidad Centralizada',\n",
    "                                'Estado Contrato', 'Tipo de Contrato', 'Modalidad de Contratacion',\n",
    "                                'Es Grupo','Es Pyme', 'Valor del Contrato', 'Valor de pago adelantado',\n",
    "                                    'Valor Facturado','Valor Pendiente de Pago', 'Valor Amortizado',\n",
    "                                'EsPostConflicto', 'Destino Gasto',\n",
    "                                'PGN','SGP','SGR','RP_AGR','RP_NO_AGR','RC', 'Duration']]"
   ]
  },
  {
   "cell_type": "code",
   "execution_count": 97,
   "metadata": {},
   "outputs": [],
   "source": [
    "# Separación de variables predictoras (X) y variable de interés (y) en set de entrenamiento y test usandola función train_test_split\n",
    "X_train, X_test, y_train, y_test = train_test_split(X, y, test_size=0.33, random_state=42)\n",
    "n_samples = X_train.shape[0]"
   ]
  },
  {
   "cell_type": "code",
   "execution_count": 98,
   "metadata": {},
   "outputs": [],
   "source": [
    "clf = XGBClassifier(tree_method=\"hist\", enable_categorical=True)\n",
    "\n",
    "# Entrenamiento (fit) y desempeño del modelo XGBClassifier\n",
    "clf.fit(X_train, y_train)\n",
    "y_pred = clf.predict(X_test)"
   ]
  },
  {
   "cell_type": "code",
   "execution_count": 99,
   "metadata": {},
   "outputs": [
    {
     "data": {
      "text/plain": [
       "(0.7238821112992415, 0.9255616724279069)"
      ]
     },
     "execution_count": 99,
     "metadata": {},
     "output_type": "execute_result"
    }
   ],
   "source": [
    "metrics.f1_score(y_pred, y_test.values, average= 'macro'), metrics.accuracy_score(y_pred, y_test.values)"
   ]
  },
  {
   "cell_type": "markdown",
   "metadata": {},
   "source": [
    "----------"
   ]
  },
  {
   "cell_type": "code",
   "execution_count": 123,
   "metadata": {},
   "outputs": [],
   "source": [
    "\n",
    "X = df.drop(['Delay'], axis=1)[['Departamento','Orden','Sector',\n",
    "                                'Rama','Entidad Centralizada',\n",
    "                                'Estado Contrato', 'Tipo de Contrato', 'Modalidad de Contratacion',\n",
    "                                'Es Grupo','Es Pyme', 'Valor del Contrato', 'Valor de pago adelantado',\n",
    "                                    'Valor Facturado','Valor Pendiente de Pago', 'Valor Amortizado',\n",
    "                                'EsPostConflicto', 'Destino Gasto',\n",
    "                                'PGN','SGP','SGR','RP_AGR','RP_NO_AGR','RC', 'Days_to_end_of_year']]"
   ]
  },
  {
   "cell_type": "code",
   "execution_count": 124,
   "metadata": {},
   "outputs": [],
   "source": [
    "# Separación de variables predictoras (X) y variable de interés (y) en set de entrenamiento y test usandola función train_test_split\n",
    "X_train, X_test, y_train, y_test = train_test_split(X, y, test_size=0.33, random_state=42)\n",
    "n_samples = X_train.shape[0]"
   ]
  },
  {
   "cell_type": "code",
   "execution_count": 125,
   "metadata": {},
   "outputs": [],
   "source": [
    "clf = XGBClassifier(tree_method=\"hist\", enable_categorical=True)\n",
    "\n",
    "# Entrenamiento (fit) y desempeño del modelo XGBClassifier\n",
    "clf.fit(X_train, y_train)\n",
    "y_pred = clf.predict(X_test)"
   ]
  },
  {
   "cell_type": "code",
   "execution_count": 126,
   "metadata": {},
   "outputs": [
    {
     "data": {
      "text/plain": [
       "(0.7246628621594816, 0.9260117087023825)"
      ]
     },
     "execution_count": 126,
     "metadata": {},
     "output_type": "execute_result"
    }
   ],
   "source": [
    "metrics.f1_score(y_pred, y_test.values, average= 'macro'), metrics.accuracy_score(y_pred, y_test.values)"
   ]
  }
 ],
 "metadata": {
  "kernelspec": {
   "display_name": "Python 3 (ipykernel)",
   "language": "python",
   "name": "python3"
  },
  "language_info": {
   "codemirror_mode": {
    "name": "ipython",
    "version": 3
   },
   "file_extension": ".py",
   "mimetype": "text/x-python",
   "name": "python",
   "nbconvert_exporter": "python",
   "pygments_lexer": "ipython3",
   "version": "3.9.7"
  },
  "vscode": {
   "interpreter": {
    "hash": "03b0dd66a651b80ff0ba04b778b8c073f2c364864c9a1e8c2e10ba309a544eaa"
   }
  }
 },
 "nbformat": 4,
 "nbformat_minor": 4
}
