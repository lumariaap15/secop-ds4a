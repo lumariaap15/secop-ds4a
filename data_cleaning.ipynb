{
 "cells": [
  {
   "cell_type": "code",
   "execution_count": 72,
   "metadata": {},
   "outputs": [],
   "source": [
    "#Import Libraries\n",
    "import pandas as pd\n",
    "import missingno as msn\n",
    "import seaborn as sns"
   ]
  },
  {
   "cell_type": "code",
   "execution_count": 5,
   "metadata": {},
   "outputs": [
    {
     "name": "stdout",
     "output_type": "stream",
     "text": [
      "The shape of the original dataset is : (1711833, 71)\n"
     ]
    }
   ],
   "source": [
    "#Read data file obtained from datos.gov\n",
    "\n",
    "#Select the columns that we want to parse as dates.\n",
    "date_cols = [ 'Ultima Actualizacion','Fecha Inicio Liquidacion', 'Codigo Proveedor','Fecha de Firma', 'Fecha de Inicio del Contrato',\n",
    "              'Fecha de Inicio de Ejecucion','Fecha de Fin de Ejecucion']\n",
    "\n",
    "df = pd.read_csv('../data/SECOP_II_-_Contratos_Electr_nicos.csv', parse_dates=date_cols, low_memory=False)\n",
    "print('The shape of the original dataset is : ' + str(df.shape))"
   ]
  },
  {
   "cell_type": "code",
   "execution_count": null,
   "metadata": {},
   "outputs": [],
   "source": [
    "#Check for missing values within the dataset\n",
    "msn.bar(df.sample(300000))"
   ]
  },
  {
   "cell_type": "code",
   "execution_count": 74,
   "metadata": {},
   "outputs": [],
   "source": [
    "#Select Columns to delete.\n",
    "\n",
    "delete_list = [ 'Nit Entidad', 'Proceso de Compra', \n",
    "                'Localización','Ciudad','ID Contrato','Referencia del Contrato','Codigo de Categoria Principal'\n",
    "                ,'Descripcion del Proceso', 'Fecha de Firma','Justificacion Modalidad de Contratacion',\n",
    "                #'Fecha de Inicio de Ejecucion','Fecha de Fin de Ejecucion',\n",
    "                'Condiciones de Entrega',\n",
    "                'TipoDocProveedor', 'Documento Proveedor','Proveedor Adjudicado',\n",
    "                'Habilita Pago Adelantado','Liquidación','Reversion','Estado BPIN','Código BPIN','Anno BPIN', 'Saldo CDP', 'Saldo Vigencia',\n",
    "                'URLProceso','Puntos del Acuerdo','Pilares del Acuerdo','Nombre Representante Legal',\n",
    "                'Nacionalidad Representante Legal','Tipo de Identificación Representante Legal','Género Representante Legal',\n",
    "                'Ultima Actualizacion','Codigo Entidad','Fecha Inicio Liquidacion','Fecha Fin Liquidacion',\n",
    "                'Codigo Proveedor','Objeto del Contrato','Identificación Representante Legal']\n",
    "\n",
    "#Dataset cleaned version 1\n",
    "df_cleanv1 = df.drop(delete_list, axis=1)"
   ]
  },
  {
   "cell_type": "code",
   "execution_count": 75,
   "metadata": {},
   "outputs": [
    {
     "data": {
      "text/plain": [
       "(1711833, 36)"
      ]
     },
     "execution_count": 75,
     "metadata": {},
     "output_type": "execute_result"
    }
   ],
   "source": [
    "df_cleanv1.shape"
   ]
  },
  {
   "cell_type": "code",
   "execution_count": 76,
   "metadata": {},
   "outputs": [],
   "source": [
    "#Normalizing 'Departamento' column\n",
    "dic = {'Distrito Capital de Bogotá':'Bogotá, D.C.', 'Quindío':'Quindio',\n",
    "       'San Andrés, Providencia y Santa Catalina':'Archipiélago De San Andrés, Providencia Y Santa Catalina'}\n",
    "\n",
    "df_cleanv1['Departamento'] = df_cleanv1.Departamento.replace(dic)\n"
   ]
  },
  {
   "cell_type": "code",
   "execution_count": 71,
   "metadata": {},
   "outputs": [
    {
     "data": {
      "text/plain": [
       "(8675, 35)"
      ]
     },
     "execution_count": 71,
     "metadata": {},
     "output_type": "execute_result"
    }
   ],
   "source": [
    "df_cleanv1[(df_cleanv1[\"Departamento\"] == \"No Definido\") & (df_cleanv1[\"Dias Adicionados\"] == 0)].shape"
   ]
  },
  {
   "cell_type": "code",
   "execution_count": 82,
   "metadata": {},
   "outputs": [],
   "source": [
    "#Dataset cleaned version 2\n",
    "#df_cleanv2 = df_cleanv1[df_cleanv1['Departamento']!=\"No Definido\"]\n",
    "df_cleanv2 = df_cleanv1[(df_cleanv1[\"Departamento\"] != \"No Definido\") | (df_cleanv1[\"Dias Adicionados\"] != 0)]"
   ]
  },
  {
   "cell_type": "code",
   "execution_count": 89,
   "metadata": {},
   "outputs": [
    {
     "data": {
      "text/plain": [
       "(231621, 36)"
      ]
     },
     "execution_count": 89,
     "metadata": {},
     "output_type": "execute_result"
    }
   ],
   "source": [
    "df_cleanv2[df_cleanv2[\"Dias Adicionados\"] > 0].shape"
   ]
  },
  {
   "cell_type": "code",
   "execution_count": 92,
   "metadata": {},
   "outputs": [
    {
     "data": {
      "text/plain": [
       "(1675, 36)"
      ]
     },
     "execution_count": 92,
     "metadata": {},
     "output_type": "execute_result"
    }
   ],
   "source": [
    "df_cleanv2[(df_cleanv2[\"EsPostConflicto\"] == \"ND\") & (df_cleanv2[\"Dias Adicionados\"] == 0)].shape"
   ]
  },
  {
   "cell_type": "code",
   "execution_count": 91,
   "metadata": {},
   "outputs": [
    {
     "name": "stderr",
     "output_type": "stream",
     "text": [
      "C:\\Users\\WveimarLópezMarin\\AppData\\Local\\Temp\\ipykernel_23296\\1798727064.py:3: UserWarning: Boolean Series key will be reindexed to match DataFrame index.\n",
      "  df_cleanv3 = df_cleanv2[(df_cleanv2['EsPostConflicto']!='ND') | (df_cleanv1[\"Dias Adicionados\"] != 0)]\n"
     ]
    },
    {
     "data": {
      "text/plain": [
       "(1701483, 36)"
      ]
     },
     "execution_count": 91,
     "metadata": {},
     "output_type": "execute_result"
    }
   ],
   "source": [
    "#Cleaning missing or undefined values in columns\n",
    "#df_cleanv3 = df_cleanv2[df_cleanv2['EsPostConflicto']!='ND']\n",
    "df_cleanv3 = df_cleanv2[(df_cleanv2['EsPostConflicto']!='ND') | (df_cleanv1[\"Dias Adicionados\"] != 0)]\n",
    "df_cleanv3.shape"
   ]
  },
  {
   "cell_type": "code",
   "execution_count": 93,
   "metadata": {},
   "outputs": [
    {
     "name": "stderr",
     "output_type": "stream",
     "text": [
      "C:\\Users\\WveimarLópezMarin\\AppData\\Local\\Temp\\ipykernel_23296\\2776378509.py:2: UserWarning: Boolean Series key will be reindexed to match DataFrame index.\n",
      "  df_cleanv4 = df_cleanv3[(df_cleanv3['Orden']!='No Definido') | (df_cleanv1[\"Dias Adicionados\"] != 0)]\n"
     ]
    },
    {
     "data": {
      "text/plain": [
       "(1701480, 36)"
      ]
     },
     "execution_count": 93,
     "metadata": {},
     "output_type": "execute_result"
    }
   ],
   "source": [
    "#df_cleanv4 = df_cleanv3[df_cleanv3['Orden']!='No Definido']\n",
    "df_cleanv4 = df_cleanv3[(df_cleanv3['Orden']!='No Definido') | (df_cleanv1[\"Dias Adicionados\"] != 0)]\n",
    "df_cleanv4.shape"
   ]
  },
  {
   "cell_type": "code",
   "execution_count": 97,
   "metadata": {},
   "outputs": [
    {
     "data": {
      "text/plain": [
       "(1701480, 36)"
      ]
     },
     "execution_count": 97,
     "metadata": {},
     "output_type": "execute_result"
    }
   ],
   "source": [
    "#No elimina datos\n",
    "#df_cleanv5 = df_cleanv4[df_cleanv4['Sector']!='No Definido']\n",
    "df_cleanv5 = df_cleanv4[(df_cleanv4['Sector']!='No Definido')]# | (df_cleanv1[\"Dias Adicionados\"] != 0)]\n",
    "df_cleanv5.shape"
   ]
  },
  {
   "cell_type": "code",
   "execution_count": 99,
   "metadata": {},
   "outputs": [
    {
     "data": {
      "text/plain": [
       "(1701480, 36)"
      ]
     },
     "execution_count": 99,
     "metadata": {},
     "output_type": "execute_result"
    }
   ],
   "source": [
    "#No elimina datos\n",
    "#df_cleanv6 = df_cleanv5[df_cleanv5['Rama']!='No Definido']\n",
    "df_cleanv6 = df_cleanv5[(df_cleanv5['Rama']!='No Definido') | (df_cleanv1[\"Dias Adicionados\"] != 0)]\n",
    "df_cleanv6.shape"
   ]
  },
  {
   "cell_type": "code",
   "execution_count": 101,
   "metadata": {},
   "outputs": [
    {
     "name": "stderr",
     "output_type": "stream",
     "text": [
      "C:\\Users\\WveimarLópezMarin\\AppData\\Local\\Temp\\ipykernel_23296\\453259235.py:2: UserWarning: Boolean Series key will be reindexed to match DataFrame index.\n",
      "  df_cleanv7 = df_cleanv6[(df_cleanv6['Tipo de Contrato']!='No Especificado') | (df_cleanv1[\"Dias Adicionados\"] != 0)]\n"
     ]
    },
    {
     "data": {
      "text/plain": [
       "(1699729, 36)"
      ]
     },
     "execution_count": 101,
     "metadata": {},
     "output_type": "execute_result"
    }
   ],
   "source": [
    "#df_cleanv7 = df_cleanv6[df_cleanv6['Tipo de Contrato']!='No Especificado']\n",
    "df_cleanv7 = df_cleanv6[(df_cleanv6['Tipo de Contrato']!='No Especificado') | (df_cleanv1[\"Dias Adicionados\"] != 0)]\n",
    "df_cleanv7.shape"
   ]
  },
  {
   "cell_type": "code",
   "execution_count": 102,
   "metadata": {},
   "outputs": [
    {
     "name": "stderr",
     "output_type": "stream",
     "text": [
      "C:\\Users\\WveimarLópezMarin\\AppData\\Local\\Temp\\ipykernel_23296\\2767979334.py:2: UserWarning: Boolean Series key will be reindexed to match DataFrame index.\n",
      "  df_cleanv8 = df_cleanv7[(df_cleanv7['Modalidad de Contratacion']!=\"Concurso de méritos con precalificación\") | (df_cleanv1[\"Dias Adicionados\"] != 0)]\n"
     ]
    },
    {
     "data": {
      "text/plain": [
       "(1699729, 36)"
      ]
     },
     "execution_count": 102,
     "metadata": {},
     "output_type": "execute_result"
    }
   ],
   "source": [
    "#No elimina datos\n",
    "#df_cleanv8 = df_cleanv7[df_cleanv7['Modalidad de Contratacion']!=\"Concurso de méritos con precalificación\"]\n",
    "df_cleanv8 = df_cleanv7[(df_cleanv7['Modalidad de Contratacion']!=\"Concurso de méritos con precalificación\") | (df_cleanv1[\"Dias Adicionados\"] != 0)]\n",
    "df_cleanv8.shape\n",
    "#Dataset cleaned version 8"
   ]
  },
  {
   "cell_type": "code",
   "execution_count": 103,
   "metadata": {},
   "outputs": [],
   "source": [
    "#Normalizing 'Modalidad de Contratacion' column\n",
    "dic = {'Enajenación de bienes con sobre cerrado':'Enajenación de bienes', \n",
    "        'Enajenación de bienes con subasta':'Enajenación de bienes'}\n",
    "\n",
    "df_cleanv8['Modalidad de Contratacion'] = df_cleanv8['Modalidad de Contratacion'].replace(dic)"
   ]
  },
  {
   "cell_type": "code",
   "execution_count": 106,
   "metadata": {},
   "outputs": [
    {
     "name": "stderr",
     "output_type": "stream",
     "text": [
      "C:\\Users\\WveimarLópezMarin\\AppData\\Local\\Temp\\ipykernel_23296\\2213612808.py:1: UserWarning: Boolean Series key will be reindexed to match DataFrame index.\n",
      "  df_cleanv8[(df_cleanv8['Fecha de Inicio del Contrato'].isna()==False) | (df_cleanv1[\"Dias Adicionados\"] != 0)].shape\n"
     ]
    },
    {
     "data": {
      "text/plain": [
       "(1583882, 36)"
      ]
     },
     "execution_count": 106,
     "metadata": {},
     "output_type": "execute_result"
    }
   ],
   "source": [
    "df_cleanv8[(df_cleanv8['Fecha de Inicio del Contrato'].isna()==False) | (df_cleanv1[\"Dias Adicionados\"] != 0)].shape"
   ]
  },
  {
   "cell_type": "code",
   "execution_count": 108,
   "metadata": {},
   "outputs": [
    {
     "name": "stderr",
     "output_type": "stream",
     "text": [
      "C:\\Users\\WveimarLópezMarin\\AppData\\Local\\Temp\\ipykernel_23296\\1898027260.py:1: UserWarning: Boolean Series key will be reindexed to match DataFrame index.\n",
      "  df_cleanv9[(df_cleanv9['Fecha de Fin del Contrato'].isna()==False) | (df_cleanv1[\"Dias Adicionados\"] != 0)].shape\n"
     ]
    },
    {
     "data": {
      "text/plain": [
       "(1583874, 36)"
      ]
     },
     "execution_count": 108,
     "metadata": {},
     "output_type": "execute_result"
    }
   ],
   "source": [
    "df_cleanv9[(df_cleanv9['Fecha de Fin del Contrato'].isna()==False) | (df_cleanv1[\"Dias Adicionados\"] != 0)].shape"
   ]
  },
  {
   "cell_type": "code",
   "execution_count": 104,
   "metadata": {},
   "outputs": [],
   "source": [
    "# Cleaning Nulls in date columns\n",
    "df_cleanv9 = df_cleanv8[df_cleanv8['Fecha de Inicio del Contrato'].isna()==False]\n",
    "df_cleanv10 = df_cleanv9[df_cleanv9['Fecha de Fin del Contrato'].isna()==False]\n",
    "#Dataset cleaned version 10"
   ]
  },
  {
   "cell_type": "code",
   "execution_count": 105,
   "metadata": {},
   "outputs": [
    {
     "data": {
      "text/plain": [
       "(1583874, 36)"
      ]
     },
     "execution_count": 105,
     "metadata": {},
     "output_type": "execute_result"
    }
   ],
   "source": [
    "df_cleanv10.shape"
   ]
  },
  {
   "cell_type": "code",
   "execution_count": 111,
   "metadata": {},
   "outputs": [
    {
     "data": {
      "text/plain": [
       "(332684, 36)"
      ]
     },
     "execution_count": 111,
     "metadata": {},
     "output_type": "execute_result"
    }
   ],
   "source": [
    "df_cleanv10[df_cleanv10['Fecha de Inicio del Contrato'].dt.year <= 2019].shape"
   ]
  },
  {
   "cell_type": "code",
   "execution_count": 113,
   "metadata": {},
   "outputs": [
    {
     "name": "stderr",
     "output_type": "stream",
     "text": [
      "C:\\Users\\WveimarLópezMarin\\AppData\\Local\\Temp\\ipykernel_23296\\1863136191.py:1: UserWarning: Boolean Series key will be reindexed to match DataFrame index.\n",
      "  df_cleanv10[(df_cleanv10['Fecha de Inicio del Contrato'].dt.year <= 2019) & (df_cleanv1[\"Dias Adicionados\"] != 0)].shape\n"
     ]
    },
    {
     "data": {
      "text/plain": [
       "(22470, 36)"
      ]
     },
     "execution_count": 113,
     "metadata": {},
     "output_type": "execute_result"
    }
   ],
   "source": [
    "df_cleanv10[(df_cleanv10['Fecha de Inicio del Contrato'].dt.year <= 2019) & (df_cleanv1[\"Dias Adicionados\"] != 0)].shape"
   ]
  },
  {
   "cell_type": "code",
   "execution_count": 120,
   "metadata": {},
   "outputs": [
    {
     "data": {
      "text/plain": [
       "1679890    01/01/2017\n",
       "320671     01/01/2017\n",
       "1280653    01/01/2017\n",
       "956735     01/01/2017\n",
       "1705876    01/01/2017\n",
       "Name: Fecha de Fin del Contrato, dtype: object"
      ]
     },
     "execution_count": 120,
     "metadata": {},
     "output_type": "execute_result"
    }
   ],
   "source": [
    "df_cleanv10.sort_values(by=\"Fecha de Fin del Contrato\")[\"Fecha de Fin del Contrato\"].head()"
   ]
  },
  {
   "cell_type": "code",
   "execution_count": 121,
   "metadata": {
    "scrolled": true
   },
   "outputs": [
    {
     "name": "stderr",
     "output_type": "stream",
     "text": [
      "C:\\Users\\WveimarLópezMarin\\AppData\\Local\\Temp\\ipykernel_23296\\489955390.py:1: SettingWithCopyWarning: \n",
      "A value is trying to be set on a copy of a slice from a DataFrame.\n",
      "Try using .loc[row_indexer,col_indexer] = value instead\n",
      "\n",
      "See the caveats in the documentation: https://pandas.pydata.org/pandas-docs/stable/user_guide/indexing.html#returning-a-view-versus-a-copy\n",
      "  df_cleanv10[\"Fecha de Fin del Contrato\"] = pd.to_datetime(df_cleanv10[\"Fecha de Fin del Contrato\"], errors = 'coerce')\n"
     ]
    }
   ],
   "source": [
    "df_cleanv10[\"Fecha de Fin del Contrato\"] = pd.to_datetime(df_cleanv10[\"Fecha de Fin del Contrato\"], errors = 'coerce')"
   ]
  },
  {
   "cell_type": "code",
   "execution_count": 123,
   "metadata": {},
   "outputs": [],
   "source": [
    "df_cleanv11 = df_cleanv10"
   ]
  },
  {
   "cell_type": "code",
   "execution_count": 124,
   "metadata": {},
   "outputs": [
    {
     "name": "stderr",
     "output_type": "stream",
     "text": [
      "C:\\Users\\WveimarLópezMarin\\AppData\\Local\\Temp\\ipykernel_23296\\726040445.py:4: SettingWithCopyWarning: \n",
      "A value is trying to be set on a copy of a slice from a DataFrame.\n",
      "Try using .loc[row_indexer,col_indexer] = value instead\n",
      "\n",
      "See the caveats in the documentation: https://pandas.pydata.org/pandas-docs/stable/user_guide/indexing.html#returning-a-view-versus-a-copy\n",
      "  df_cleanv11['Fecha de Fin del Contrato'] = df_cleanv11['Fecha de Fin del Contrato'].astype('datetime64[ns]')\n"
     ]
    }
   ],
   "source": [
    "# No se eliminan registros anteriores a 2020\n",
    "# Select only records since 2020\n",
    "#df_cleanv11 = df_cleanv10[df_cleanv10['Fecha de Inicio del Contrato'].dt.year > 2019]\n",
    "df_cleanv11['Fecha de Fin del Contrato'] = df_cleanv11['Fecha de Fin del Contrato'].astype('datetime64[ns]')\n",
    "#Dataset cleaned version 11"
   ]
  },
  {
   "cell_type": "code",
   "execution_count": 125,
   "metadata": {},
   "outputs": [
    {
     "name": "stderr",
     "output_type": "stream",
     "text": [
      "C:\\Users\\WveimarLópezMarin\\AppData\\Local\\Temp\\ipykernel_23296\\2997640777.py:9: SettingWithCopyWarning: \n",
      "A value is trying to be set on a copy of a slice from a DataFrame.\n",
      "Try using .loc[row_indexer,col_indexer] = value instead\n",
      "\n",
      "See the caveats in the documentation: https://pandas.pydata.org/pandas-docs/stable/user_guide/indexing.html#returning-a-view-versus-a-copy\n",
      "  df_cleanv11[i] = (df_cleanv11[j] > 0).astype(int)\n",
      "C:\\Users\\WveimarLópezMarin\\AppData\\Local\\Temp\\ipykernel_23296\\2997640777.py:9: SettingWithCopyWarning: \n",
      "A value is trying to be set on a copy of a slice from a DataFrame.\n",
      "Try using .loc[row_indexer,col_indexer] = value instead\n",
      "\n",
      "See the caveats in the documentation: https://pandas.pydata.org/pandas-docs/stable/user_guide/indexing.html#returning-a-view-versus-a-copy\n",
      "  df_cleanv11[i] = (df_cleanv11[j] > 0).astype(int)\n",
      "C:\\Users\\WveimarLópezMarin\\AppData\\Local\\Temp\\ipykernel_23296\\2997640777.py:9: SettingWithCopyWarning: \n",
      "A value is trying to be set on a copy of a slice from a DataFrame.\n",
      "Try using .loc[row_indexer,col_indexer] = value instead\n",
      "\n",
      "See the caveats in the documentation: https://pandas.pydata.org/pandas-docs/stable/user_guide/indexing.html#returning-a-view-versus-a-copy\n",
      "  df_cleanv11[i] = (df_cleanv11[j] > 0).astype(int)\n",
      "C:\\Users\\WveimarLópezMarin\\AppData\\Local\\Temp\\ipykernel_23296\\2997640777.py:9: SettingWithCopyWarning: \n",
      "A value is trying to be set on a copy of a slice from a DataFrame.\n",
      "Try using .loc[row_indexer,col_indexer] = value instead\n",
      "\n",
      "See the caveats in the documentation: https://pandas.pydata.org/pandas-docs/stable/user_guide/indexing.html#returning-a-view-versus-a-copy\n",
      "  df_cleanv11[i] = (df_cleanv11[j] > 0).astype(int)\n",
      "C:\\Users\\WveimarLópezMarin\\AppData\\Local\\Temp\\ipykernel_23296\\2997640777.py:9: SettingWithCopyWarning: \n",
      "A value is trying to be set on a copy of a slice from a DataFrame.\n",
      "Try using .loc[row_indexer,col_indexer] = value instead\n",
      "\n",
      "See the caveats in the documentation: https://pandas.pydata.org/pandas-docs/stable/user_guide/indexing.html#returning-a-view-versus-a-copy\n",
      "  df_cleanv11[i] = (df_cleanv11[j] > 0).astype(int)\n",
      "C:\\Users\\WveimarLópezMarin\\AppData\\Local\\Temp\\ipykernel_23296\\2997640777.py:9: SettingWithCopyWarning: \n",
      "A value is trying to be set on a copy of a slice from a DataFrame.\n",
      "Try using .loc[row_indexer,col_indexer] = value instead\n",
      "\n",
      "See the caveats in the documentation: https://pandas.pydata.org/pandas-docs/stable/user_guide/indexing.html#returning-a-view-versus-a-copy\n",
      "  df_cleanv11[i] = (df_cleanv11[j] > 0).astype(int)\n"
     ]
    }
   ],
   "source": [
    "#Create new column Origen de los Recursos as multiple binary columns. \n",
    "\n",
    "variables_a_crear = ['PGN','SGP','SGR','RP_AGR','RP_NO_AGR','RC']\n",
    "variables_reales = ['Presupuesto General de la Nacion – PGN','Sistema General de Participaciones',\n",
    "                     'Sistema General de Regalías','Recursos Propios (Alcaldías, Gobernaciones y Resguardos Indígenas)',\n",
    "                     'Recursos Propios','Recursos de Credito']\n",
    "                     \n",
    "for i,j in zip(variables_a_crear,variables_reales):\n",
    "    df_cleanv11[i] = (df_cleanv11[j] > 0).astype(int)"
   ]
  },
  {
   "cell_type": "code",
   "execution_count": 126,
   "metadata": {},
   "outputs": [],
   "source": [
    "delete_list = [ 'Presupuesto General de la Nacion – PGN','Sistema General de Participaciones',\n",
    "                'Sistema General de Regalías','Recursos Propios (Alcaldías, Gobernaciones y Resguardos Indígenas)',\n",
    "                'Recursos Propios','Recursos de Credito', 'Origen de los Recursos']\n",
    "\n",
    "#Dataset cleaned version 1\n",
    "df_cleanv11 = df_cleanv11.drop(delete_list, axis=1)"
   ]
  },
  {
   "cell_type": "code",
   "execution_count": 127,
   "metadata": {},
   "outputs": [
    {
     "data": {
      "text/plain": [
       "(1583874, 35)"
      ]
     },
     "execution_count": 127,
     "metadata": {},
     "output_type": "execute_result"
    }
   ],
   "source": [
    "df_cleanv11.shape"
   ]
  },
  {
   "cell_type": "code",
   "execution_count": 130,
   "metadata": {},
   "outputs": [],
   "source": [
    "boolean_mask = (df_cleanv11.loc[:,['PGN','SGP','SGR','RP_AGR','RP_NO_AGR','RC']].sum(axis=1)) > 0\n",
    "#df_cleanv12 = df_cleanv11[ boolean_mask ]\n",
    "df_cleanv12 = df_cleanv11"
   ]
  },
  {
   "cell_type": "code",
   "execution_count": 131,
   "metadata": {},
   "outputs": [
    {
     "data": {
      "text/plain": [
       "(1583874, 35)"
      ]
     },
     "execution_count": 131,
     "metadata": {},
     "output_type": "execute_result"
    }
   ],
   "source": [
    "df_cleanv12.shape"
   ]
  },
  {
   "cell_type": "code",
   "execution_count": 132,
   "metadata": {},
   "outputs": [
    {
     "name": "stdout",
     "output_type": "stream",
     "text": [
      "Index(['Nombre Entidad', 'Departamento', 'Orden', 'Sector', 'Rama',\n",
      "       'Entidad Centralizada', 'Estado Contrato', 'Tipo de Contrato',\n",
      "       'Modalidad de Contratacion', 'Fecha de Inicio del Contrato',\n",
      "       'Fecha de Fin del Contrato', 'Fecha de Inicio de Ejecucion',\n",
      "       'Fecha de Fin de Ejecucion', 'Es Grupo', 'Es Pyme',\n",
      "       'Obligación Ambiental', 'Obligaciones Postconsumo',\n",
      "       'Valor del Contrato', 'Valor de pago adelantado', 'Valor Facturado',\n",
      "       'Valor Pendiente de Pago', 'Valor Pagado', 'Valor Amortizado',\n",
      "       'Valor Pendiente de Amortizacion', 'Valor Pendiente de Ejecucion',\n",
      "       'EsPostConflicto', 'Destino Gasto', 'Dias Adicionados', 'Delay', 'PGN',\n",
      "       'SGP', 'SGR', 'RP_AGR', 'RP_NO_AGR', 'RC'],\n",
      "      dtype='object')\n"
     ]
    }
   ],
   "source": [
    "print(df_cleanv12.columns)"
   ]
  },
  {
   "cell_type": "code",
   "execution_count": 133,
   "metadata": {},
   "outputs": [],
   "source": [
    "#Construct dependent variable Y \n",
    "def feature_engineer(days_added, date_init, date_finish):\n",
    "    \n",
    "    contract_duration = abs(date_init - date_finish).days\n",
    "    \n",
    "    if contract_duration == 0:\n",
    "        Normalized_Delay = 1 \n",
    "    else:\n",
    "        Normalized_Delay = days_added/contract_duration\n",
    "    \n",
    "    if Normalized_Delay == 0:\n",
    "        delay = 0\n",
    "    elif Normalized_Delay > 0 and Normalized_Delay < 0.2:\n",
    "        delay = 1\n",
    "    elif Normalized_Delay >= 0.2 and Normalized_Delay < 0.7:\n",
    "        delay = 2\n",
    "    elif Normalized_Delay >= 0.7: \n",
    "        delay = 3\n",
    "            \n",
    "    return delay"
   ]
  },
  {
   "cell_type": "code",
   "execution_count": 141,
   "metadata": {},
   "outputs": [],
   "source": [
    "df_cleanv12 = df_cleanv12[df_cleanv12['Fecha de Fin del Contrato'].isna() != True]"
   ]
  },
  {
   "cell_type": "code",
   "execution_count": 142,
   "metadata": {},
   "outputs": [],
   "source": [
    "df['Delay'] = df_cleanv12.apply(lambda x: feature_engineer(x['Dias Adicionados'],\n",
    "                                                  x['Fecha de Inicio del Contrato'],\n",
    "                                                  x['Fecha de Fin del Contrato']), axis=1)"
   ]
  },
  {
   "cell_type": "code",
   "execution_count": 143,
   "metadata": {},
   "outputs": [
    {
     "name": "stdout",
     "output_type": "stream",
     "text": [
      "The shape of the cleaned dataset is : (1583873, 35)\n"
     ]
    }
   ],
   "source": [
    "print('The shape of the cleaned dataset is : ' + str(df_cleanv12.shape))"
   ]
  },
  {
   "cell_type": "code",
   "execution_count": 144,
   "metadata": {},
   "outputs": [],
   "source": [
    "# Export the cleaned dataset to a csv file\n",
    "df_cleanv12.to_csv('../data/SECOP_Electronicos_Cleaned.csv')"
   ]
  },
  {
   "cell_type": "code",
   "execution_count": 145,
   "metadata": {},
   "outputs": [
    {
     "data": {
      "text/plain": [
       "<AxesSubplot:>"
      ]
     },
     "execution_count": 145,
     "metadata": {},
     "output_type": "execute_result"
    },
    {
     "data": {
      "image/png": "[encoded data removed]",
      "text/plain": [
       "<Figure size 1800x720 with 3 Axes>"
      ]
     },
     "metadata": {
      "needs_background": "light"
     },
     "output_type": "display_data"
    }
   ],
   "source": [
    "# NA analysis of cleaned dataset\n",
    "msn.bar(df_cleanv12.sample(300000))"
   ]
  },
  {
   "cell_type": "code",
   "execution_count": 146,
   "metadata": {},
   "outputs": [],
   "source": [
    "df_cleanedv13 = df_cleanv12[df_cleanv12[\"Fecha de Inicio del Contrato\"] == df_cleanv12[\"Fecha de Fin del Contrato\"]]"
   ]
  },
  {
   "cell_type": "code",
   "execution_count": 148,
   "metadata": {
    "scrolled": true
   },
   "outputs": [
    {
     "data": {
      "text/plain": [
       "(111, 5)"
      ]
     },
     "execution_count": 148,
     "metadata": {},
     "output_type": "execute_result"
    }
   ],
   "source": [
    "cols = [\"Fecha de Inicio del Contrato\", \"Fecha de Fin del Contrato\", \"Dias Adicionados\", \n",
    "        \"Fecha de Inicio de Ejecucion\", \"Fecha de Fin de Ejecucion\"]\n",
    "df_cleanedv13[df_cleanedv13[\"Dias Adicionados\"] > 0][cols].shape"
   ]
  },
  {
   "cell_type": "code",
   "execution_count": 156,
   "metadata": {},
   "outputs": [],
   "source": [
    "df_cleanv14 = df_cleanv12[(df_cleanv12[\"Fecha de Inicio de Ejecucion\"].isna() == False) | (df_cleanv12[\"Fecha de Fin de Ejecucion\"].isna() == False)]"
   ]
  },
  {
   "cell_type": "code",
   "execution_count": 150,
   "metadata": {},
   "outputs": [
    {
     "data": {
      "text/plain": [
       "(1583873, 35)"
      ]
     },
     "execution_count": 150,
     "metadata": {},
     "output_type": "execute_result"
    }
   ],
   "source": [
    "df_cleanv12.shape"
   ]
  },
  {
   "cell_type": "code",
   "execution_count": 151,
   "metadata": {},
   "outputs": [
    {
     "data": {
      "text/plain": [
       "(231621, 35)"
      ]
     },
     "execution_count": 151,
     "metadata": {},
     "output_type": "execute_result"
    }
   ],
   "source": [
    "df_cleanv12[df_cleanv12[\"Dias Adicionados\"] > 0].shape"
   ]
  },
  {
   "cell_type": "code",
   "execution_count": 157,
   "metadata": {
    "scrolled": true
   },
   "outputs": [
    {
     "data": {
      "text/html": [
       "<div>\n",
       "<style scoped>\n",
       "    .dataframe tbody tr th:only-of-type {\n",
       "        vertical-align: middle;\n",
       "    }\n",
       "\n",
       "    .dataframe tbody tr th {\n",
       "        vertical-align: top;\n",
       "    }\n",
       "\n",
       "    .dataframe thead th {\n",
       "        text-align: right;\n",
       "    }\n",
       "</style>\n",
       "<table border=\"1\" class=\"dataframe\">\n",
       "  <thead>\n",
       "    <tr style=\"text-align: right;\">\n",
       "      <th></th>\n",
       "      <th>Fecha de Inicio del Contrato</th>\n",
       "      <th>Fecha de Fin del Contrato</th>\n",
       "      <th>Dias Adicionados</th>\n",
       "      <th>Fecha de Inicio de Ejecucion</th>\n",
       "      <th>Fecha de Fin de Ejecucion</th>\n",
       "    </tr>\n",
       "  </thead>\n",
       "  <tbody>\n",
       "    <tr>\n",
       "      <th>1</th>\n",
       "      <td>2020-03-17</td>\n",
       "      <td>2020-12-17</td>\n",
       "      <td>0</td>\n",
       "      <td>2020-03-17</td>\n",
       "      <td>12/17/2020</td>\n",
       "    </tr>\n",
       "    <tr>\n",
       "      <th>3</th>\n",
       "      <td>2018-09-04</td>\n",
       "      <td>2018-12-20</td>\n",
       "      <td>0</td>\n",
       "      <td>2018-09-04</td>\n",
       "      <td>12/20/2018</td>\n",
       "    </tr>\n",
       "    <tr>\n",
       "      <th>9</th>\n",
       "      <td>2019-02-01</td>\n",
       "      <td>2019-12-31</td>\n",
       "      <td>0</td>\n",
       "      <td>2019-02-01</td>\n",
       "      <td>12/31/2019</td>\n",
       "    </tr>\n",
       "    <tr>\n",
       "      <th>11</th>\n",
       "      <td>2020-01-20</td>\n",
       "      <td>2020-02-19</td>\n",
       "      <td>0</td>\n",
       "      <td>2020-01-20</td>\n",
       "      <td>02/19/2020</td>\n",
       "    </tr>\n",
       "    <tr>\n",
       "      <th>13</th>\n",
       "      <td>2019-01-15</td>\n",
       "      <td>2019-12-30</td>\n",
       "      <td>0</td>\n",
       "      <td>2019-01-15</td>\n",
       "      <td>12/30/2019</td>\n",
       "    </tr>\n",
       "    <tr>\n",
       "      <th>...</th>\n",
       "      <td>...</td>\n",
       "      <td>...</td>\n",
       "      <td>...</td>\n",
       "      <td>...</td>\n",
       "      <td>...</td>\n",
       "    </tr>\n",
       "    <tr>\n",
       "      <th>1711790</th>\n",
       "      <td>2019-02-01</td>\n",
       "      <td>2019-04-30</td>\n",
       "      <td>0</td>\n",
       "      <td>2019-02-01</td>\n",
       "      <td>04/30/2019</td>\n",
       "    </tr>\n",
       "    <tr>\n",
       "      <th>1711810</th>\n",
       "      <td>2020-01-10</td>\n",
       "      <td>2020-12-31</td>\n",
       "      <td>0</td>\n",
       "      <td>2020-01-10</td>\n",
       "      <td>12/31/2020</td>\n",
       "    </tr>\n",
       "    <tr>\n",
       "      <th>1711813</th>\n",
       "      <td>2020-02-12</td>\n",
       "      <td>2020-07-19</td>\n",
       "      <td>49</td>\n",
       "      <td>2020-02-12</td>\n",
       "      <td>07/19/2020</td>\n",
       "    </tr>\n",
       "    <tr>\n",
       "      <th>1711815</th>\n",
       "      <td>2018-06-01</td>\n",
       "      <td>2018-09-30</td>\n",
       "      <td>0</td>\n",
       "      <td>2018-06-01</td>\n",
       "      <td>06/30/2018</td>\n",
       "    </tr>\n",
       "    <tr>\n",
       "      <th>1711816</th>\n",
       "      <td>2020-03-02</td>\n",
       "      <td>2020-12-31</td>\n",
       "      <td>0</td>\n",
       "      <td>2020-03-02</td>\n",
       "      <td>12/31/2020</td>\n",
       "    </tr>\n",
       "  </tbody>\n",
       "</table>\n",
       "<p>371169 rows × 5 columns</p>\n",
       "</div>"
      ],
      "text/plain": [
       "        Fecha de Inicio del Contrato Fecha de Fin del Contrato  \\\n",
       "1                         2020-03-17                2020-12-17   \n",
       "3                         2018-09-04                2018-12-20   \n",
       "9                         2019-02-01                2019-12-31   \n",
       "11                        2020-01-20                2020-02-19   \n",
       "13                        2019-01-15                2019-12-30   \n",
       "...                              ...                       ...   \n",
       "1711790                   2019-02-01                2019-04-30   \n",
       "1711810                   2020-01-10                2020-12-31   \n",
       "1711813                   2020-02-12                2020-07-19   \n",
       "1711815                   2018-06-01                2018-09-30   \n",
       "1711816                   2020-03-02                2020-12-31   \n",
       "\n",
       "         Dias Adicionados Fecha de Inicio de Ejecucion  \\\n",
       "1                       0                   2020-03-17   \n",
       "3                       0                   2018-09-04   \n",
       "9                       0                   2019-02-01   \n",
       "11                      0                   2020-01-20   \n",
       "13                      0                   2019-01-15   \n",
       "...                   ...                          ...   \n",
       "1711790                 0                   2019-02-01   \n",
       "1711810                 0                   2020-01-10   \n",
       "1711813                49                   2020-02-12   \n",
       "1711815                 0                   2018-06-01   \n",
       "1711816                 0                   2020-03-02   \n",
       "\n",
       "        Fecha de Fin de Ejecucion  \n",
       "1                      12/17/2020  \n",
       "3                      12/20/2018  \n",
       "9                      12/31/2019  \n",
       "11                     02/19/2020  \n",
       "13                     12/30/2019  \n",
       "...                           ...  \n",
       "1711790                04/30/2019  \n",
       "1711810                12/31/2020  \n",
       "1711813                07/19/2020  \n",
       "1711815                06/30/2018  \n",
       "1711816                12/31/2020  \n",
       "\n",
       "[371169 rows x 5 columns]"
      ]
     },
     "execution_count": 157,
     "metadata": {},
     "output_type": "execute_result"
    }
   ],
   "source": [
    "df_cleanv14[cols]"
   ]
  },
  {
   "cell_type": "code",
   "execution_count": 158,
   "metadata": {
    "scrolled": true
   },
   "outputs": [
    {
     "name": "stderr",
     "output_type": "stream",
     "text": [
      "C:\\Users\\WveimarLópezMarin\\AppData\\Local\\Temp\\ipykernel_23296\\1938899688.py:1: SettingWithCopyWarning: \n",
      "A value is trying to be set on a copy of a slice from a DataFrame.\n",
      "Try using .loc[row_indexer,col_indexer] = value instead\n",
      "\n",
      "See the caveats in the documentation: https://pandas.pydata.org/pandas-docs/stable/user_guide/indexing.html#returning-a-view-versus-a-copy\n",
      "  df_cleanv14['Fecha de Fin de Ejecucion'] = df_cleanv14['Fecha de Fin de Ejecucion'].astype('datetime64[ns]')\n"
     ]
    }
   ],
   "source": [
    "df_cleanv14['Fecha de Fin de Ejecucion'] = df_cleanv14['Fecha de Fin de Ejecucion'].astype('datetime64[ns]')"
   ]
  },
  {
   "cell_type": "code",
   "execution_count": 167,
   "metadata": {},
   "outputs": [
    {
     "data": {
      "text/plain": [
       "(60048, 5)"
      ]
     },
     "execution_count": 167,
     "metadata": {},
     "output_type": "execute_result"
    }
   ],
   "source": [
    "df_cleanv14[df_cleanv14[\"Fecha de Fin del Contrato\"] != df_cleanv14[\"Fecha de Fin de Ejecucion\"]][cols].shape"
   ]
  }
 ],
 "metadata": {
  "kernelspec": {
   "display_name": "Python 3 (ipykernel)",
   "language": "python",
   "name": "python3"
  },
  "language_info": {
   "codemirror_mode": {
    "name": "ipython",
    "version": 3
   },
   "file_extension": ".py",
   "mimetype": "text/x-python",
   "name": "python",
   "nbconvert_exporter": "python",
   "pygments_lexer": "ipython3",
   "version": "3.8.10"
  },
  "vscode": {
   "interpreter": {
    "hash": "ad2bdc8ecc057115af97d19610ffacc2b4e99fae6737bb82f5d7fb13d2f2c186"
   }
  }
 },
 "nbformat": 4,
 "nbformat_minor": 2
}
