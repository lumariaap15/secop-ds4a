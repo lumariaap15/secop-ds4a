{
 "cells": [
  {
   "cell_type": "code",
   "execution_count": null,
   "metadata": {},
   "outputs": [],
   "source": [
    "#Import Libraries\n",
    "import pandas as pd\n",
    "import missingno as msn\n",
    "import seaborn as sns\n",
    "import warnings\n",
    "import matplotlib.pyplot as plt\n",
    "warnings.filterwarnings('ignore')"
   ]
  },
  {
   "cell_type": "code",
   "execution_count": null,
   "metadata": {},
   "outputs": [],
   "source": [
    "#Read data file obtained from datos.gov.co\n",
    "\n",
    "#Select the columns that we want to parse as dates.\n",
    "date_cols = ['Fecha de Firma', 'Fecha de Inicio del Contrato', 'Fecha de Fin del Contrato', 'Fecha de Inicio de Ejecucion',\n",
    "             'Fecha de Fin de Ejecucion', 'Ultima Actualizacion', 'Fecha Inicio Liquidacion', 'Fecha Fin Liquidacion',]\n",
    "\n",
    "df = pd.read_csv(\"C:/Users/User/Downloads/ds4a-secopII/SECOP_II_-_Contratos_Electr_nicos.csv\", parse_dates=date_cols, low_memory=False)\n",
    "print('The shape of the original dataset is : ' + str(df.shape))"
   ]
  },
  {
   "cell_type": "code",
   "execution_count": null,
   "metadata": {},
   "outputs": [],
   "source": [
    "#Check for missing values within the dataset\n",
    "msn.bar(df.sample(300000))"
   ]
  },
  {
   "cell_type": "code",
   "execution_count": null,
   "metadata": {},
   "outputs": [],
   "source": [
    "#Select Columns to delete\n",
    "delete_list = ['Nit Entidad', 'Proceso de Compra', 'Localización', 'Ciudad', 'ID Contrato', 'Referencia del Contrato',\n",
    "               'Codigo de Categoria Principal', 'Descripcion del Proceso', 'Fecha de Firma', \n",
    "               'Justificacion Modalidad de Contratacion', 'Condiciones de Entrega', 'TipoDocProveedor', \n",
    "               'Documento Proveedor', 'Proveedor Adjudicado', 'Habilita Pago Adelantado', 'Liquidación',\n",
    "               'Reversion', 'Estado BPIN', 'Código BPIN', 'Anno BPIN', 'Saldo CDP', 'Saldo Vigencia',\n",
    "               'URLProceso', 'Puntos del Acuerdo', 'Pilares del Acuerdo', 'Nombre Representante Legal',\n",
    "               'Nacionalidad Representante Legal','Tipo de Identificación Representante Legal',\n",
    "               'Género Representante Legal', 'Ultima Actualizacion', 'Codigo Entidad', 'Fecha Inicio Liquidacion',\n",
    "               'Fecha Fin Liquidacion', 'Codigo Proveedor', 'Objeto del Contrato', 'Identificación Representante Legal']\n",
    "\n",
    "#Dataset cleaned version 1\n",
    "df_cleanv1 = df.drop(delete_list, axis=1)"
   ]
  },
  {
   "cell_type": "code",
   "execution_count": null,
   "metadata": {},
   "outputs": [],
   "source": [
    "df_cleanv1.shape"
   ]
  },
  {
   "cell_type": "code",
   "execution_count": null,
   "metadata": {},
   "outputs": [],
   "source": [
    "#Normalizing 'Departamento' column\n",
    "dic = {'Distrito Capital de Bogotá':'Bogotá, D.C.', 'Quindío':'Quindio',\n",
    "       'San Andrés, Providencia y Santa Catalina':'Archipiélago De San Andrés, Providencia Y Santa Catalina'}\n",
    "\n",
    "df_cleanv1['Departamento'] = df_cleanv1.Departamento.replace(dic)"
   ]
  },
  {
   "cell_type": "code",
   "execution_count": null,
   "metadata": {},
   "outputs": [],
   "source": [
    "#Dataset cleaned version 2. Cleaning missing or undefined values in column 'Departamento'\n",
    "df_cleanv2 = df_cleanv1[(df_cleanv1[\"Departamento\"] != \"No Definido\") | (df_cleanv1[\"Dias Adicionados\"] != 0)]\n",
    "df_cleanv2.shape"
   ]
  },
  {
   "cell_type": "code",
   "execution_count": null,
   "metadata": {},
   "outputs": [],
   "source": [
    "#Dataset cleaned version 3. Cleaning missing or undefined values in column 'EsPostConflicto'\n",
    "df_cleanv3 = df_cleanv2[(df_cleanv2['EsPostConflicto']!='ND') | (df_cleanv1[\"Dias Adicionados\"] != 0)]\n",
    "df_cleanv3.shape"
   ]
  },
  {
   "cell_type": "code",
   "execution_count": null,
   "metadata": {},
   "outputs": [],
   "source": [
    "#Dataset cleaned version 4. Cleaning missing or undefined values in column 'Orden'\n",
    "df_cleanv4 = df_cleanv3[(df_cleanv3['Orden']!='No Definido') | (df_cleanv1[\"Dias Adicionados\"] != 0)]\n",
    "df_cleanv4.shape"
   ]
  },
  {
   "cell_type": "code",
   "execution_count": null,
   "metadata": {},
   "outputs": [],
   "source": [
    "#Dataset cleaned version 5. Cleaning missing or undefined values in column 'Sector'. No deleted rows\n",
    "df_cleanv5 = df_cleanv4[(df_cleanv4['Sector']!='No Definido') | (df_cleanv1[\"Dias Adicionados\"] != 0)]\n",
    "df_cleanv5.shape"
   ]
  },
  {
   "cell_type": "code",
   "execution_count": null,
   "metadata": {},
   "outputs": [],
   "source": [
    "#Dataset cleaned version 6. Cleaning missing or undefined values in column 'Rama'. No deleted rows\n",
    "df_cleanv6 = df_cleanv5[(df_cleanv5['Rama']!='No Definido') | (df_cleanv1[\"Dias Adicionados\"] != 0)]\n",
    "df_cleanv6.shape"
   ]
  },
  {
   "cell_type": "code",
   "execution_count": null,
   "metadata": {},
   "outputs": [],
   "source": [
    "#Dataset cleaned version 7. Cleaning missing or undefined values in column 'Tipo de Contrato'.\n",
    "df_cleanv7 = df_cleanv6[(df_cleanv6['Tipo de Contrato']!='No Especificado') | (df_cleanv1[\"Dias Adicionados\"] != 0)]\n",
    "df_cleanv7.shape"
   ]
  },
  {
   "cell_type": "code",
   "execution_count": null,
   "metadata": {},
   "outputs": [],
   "source": [
    "#Dataset cleaned version 8. Cleaning missing or undefined values in column 'Modalidad de Contratacion'.\n",
    "df_cleanv8 = df_cleanv7[(df_cleanv7['Modalidad de Contratacion']!=\"Concurso de méritos con precalificación\") | (df_cleanv1[\"Dias Adicionados\"] != 0)]\n",
    "df_cleanv8.shape"
   ]
  },
  {
   "cell_type": "code",
   "execution_count": null,
   "metadata": {},
   "outputs": [],
   "source": [
    "#Normalizing 'Modalidad de Contratacion' column\n",
    "dic = {'Enajenación de bienes con sobre cerrado':'Enajenación de bienes', \n",
    "        'Enajenación de bienes con subasta':'Enajenación de bienes'}\n",
    "\n",
    "df_cleanv8['Modalidad de Contratacion'] = df_cleanv8['Modalidad de Contratacion'].replace(dic)"
   ]
  },
  {
   "cell_type": "code",
   "execution_count": null,
   "metadata": {},
   "outputs": [],
   "source": [
    "df_cleanv8[(df_cleanv8['Fecha de Inicio del Contrato'].isna()==False) | (df_cleanv1[\"Dias Adicionados\"] != 0)].shape"
   ]
  },
  {
   "cell_type": "code",
   "execution_count": null,
   "metadata": {},
   "outputs": [],
   "source": [
    "#Dataset cleaned version 9 and 10. Cleaning Nulls in 'Fecha de Inicio del Contrato' and 'Fecha de Fin del Contrato' columns\n",
    "df_cleanv9 = df_cleanv8[df_cleanv8['Fecha de Inicio del Contrato'].isna()==False]\n",
    "df_cleanv10 = df_cleanv9[df_cleanv9['Fecha de Fin del Contrato'].isna()==False]\n",
    "df_cleanv10.shape"
   ]
  },
  {
   "cell_type": "code",
   "execution_count": null,
   "metadata": {},
   "outputs": [],
   "source": [
    "df_cleanv9[(df_cleanv9['Fecha de Fin del Contrato'].isna()==False) | (df_cleanv1[\"Dias Adicionados\"] != 0)].shape"
   ]
  },
  {
   "cell_type": "code",
   "execution_count": null,
   "metadata": {},
   "outputs": [],
   "source": [
    "df_cleanv10[df_cleanv10['Fecha de Inicio del Contrato'].dt.year <= 2019].shape"
   ]
  },
  {
   "cell_type": "code",
   "execution_count": null,
   "metadata": {},
   "outputs": [],
   "source": [
    "df_cleanv10[(df_cleanv10['Fecha de Inicio del Contrato'].dt.year <= 2019) & (df_cleanv1[\"Dias Adicionados\"] != 0)].shape"
   ]
  },
  {
   "cell_type": "code",
   "execution_count": null,
   "metadata": {},
   "outputs": [],
   "source": [
    "#Dataset cleaned version 11. Convert 'Fecha de Fin del Contrato' and 'Fecha de Fin de Ejecucion' as date data types\n",
    "df_cleanv10['Fecha de Fin del Contrato'] = pd.to_datetime(df_cleanv10['Fecha de Fin del Contrato'], errors = 'coerce')\n",
    "df_cleanv10['Fecha de Fin de Ejecucion'] = pd.to_datetime(df_cleanv10['Fecha de Fin de Ejecucion'], errors = 'coerce')\n",
    "\n",
    "df_cleanv10['Fecha de Fin del Contrato'] = df_cleanv10['Fecha de Fin del Contrato'].astype('datetime64[ns]')\n",
    "df_cleanv10['Fecha de Fin de Ejecucion'] = df_cleanv10['Fecha de Fin de Ejecucion'].astype('datetime64[ns]')"
   ]
  },
  {
   "cell_type": "code",
   "execution_count": null,
   "metadata": {},
   "outputs": [],
   "source": [
    "#Create new column Origen de los Recursos as multiple binary columns.\n",
    "variables_a_crear = ['PGN', 'SGP', 'SGR', 'RP_AGR', 'RP_NO_AGR', 'RC']\n",
    "variables_reales = ['Presupuesto General de la Nacion – PGN','Sistema General de Participaciones',\n",
    "                     'Sistema General de Regalías','Recursos Propios (Alcaldías, Gobernaciones y Resguardos Indígenas)',\n",
    "                     'Recursos Propios','Recursos de Credito']\n",
    "                     \n",
    "for i,j in zip(variables_a_crear,variables_reales):\n",
    "    df_cleanv10[i] = (df_cleanv10[j] > 0).astype(int)"
   ]
  },
  {
   "cell_type": "code",
   "execution_count": null,
   "metadata": {},
   "outputs": [],
   "source": [
    "#Dataset cleaned version 12. Delete columns previously binarized\n",
    "delete_list = [ 'Presupuesto General de la Nacion – PGN','Sistema General de Participaciones',\n",
    "                'Sistema General de Regalías','Recursos Propios (Alcaldías, Gobernaciones y Resguardos Indígenas)',\n",
    "                'Recursos Propios','Recursos de Credito', 'Origen de los Recursos']\n",
    "\n",
    "df_cleanv11 = df_cleanv10.drop(delete_list, axis=1)\n",
    "df_cleanv11.shape"
   ]
  },
  {
   "cell_type": "code",
   "execution_count": null,
   "metadata": {},
   "outputs": [],
   "source": [
    "#Initial data clean included deletion of those projects with no money assigned\n",
    "#boolean_mask = (df_cleanv12.loc[:,['PGN','SGP','SGR','RP_AGR','RP_NO_AGR','RC']].sum(axis=1)) > 0\n",
    "#df_cleanv13 = df_cleanv12[ boolean_mask ]\n",
    "df_cleanv12 = df_cleanv11"
   ]
  },
  {
   "cell_type": "code",
   "execution_count": null,
   "metadata": {},
   "outputs": [],
   "source": [
    "df_cleanv12.shape"
   ]
  },
  {
   "cell_type": "code",
   "execution_count": null,
   "metadata": {},
   "outputs": [],
   "source": [
    "print(df_cleanv12.columns)"
   ]
  },
  {
   "cell_type": "code",
   "execution_count": null,
   "metadata": {},
   "outputs": [],
   "source": [
    "#Construct dependent variable Y \n",
    "def feature_engineer(days_added, date_init, date_finish):\n",
    "    \n",
    "    contract_duration = abs(date_init - date_finish).days\n",
    "    \n",
    "    if contract_duration == 0:\n",
    "        Normalized_Delay = 1 \n",
    "    else:\n",
    "        Normalized_Delay = days_added/contract_duration\n",
    "    \n",
    "    if Normalized_Delay == 0:\n",
    "        delay = 0\n",
    "    elif Normalized_Delay > 0 and Normalized_Delay < 0.2:\n",
    "        delay = 1\n",
    "    elif Normalized_Delay >= 0.2 and Normalized_Delay < 0.7:\n",
    "        delay = 2\n",
    "    elif Normalized_Delay >= 0.7: \n",
    "        delay = 3\n",
    "            \n",
    "    return delay"
   ]
  },
  {
   "cell_type": "code",
   "execution_count": null,
   "metadata": {},
   "outputs": [],
   "source": [
    "#Dataset cleaned version 14. Delete one record with NAT in 'Fecha de Fin del Contrato' column\n",
    "df_cleanv13 = df_cleanv12[df_cleanv12['Fecha de Fin del Contrato'].isna() != True]\n",
    "df_cleanv13.shape"
   ]
  },
  {
   "cell_type": "code",
   "execution_count": null,
   "metadata": {},
   "outputs": [],
   "source": [
    "df_cleanv13['Delay'] = df_cleanv13.apply(lambda x: feature_engineer(x['Dias Adicionados'],\n",
    "                                                  x['Fecha de Inicio del Contrato'],\n",
    "                                                  x['Fecha de Fin del Contrato']), axis=1)"
   ]
  },
  {
   "cell_type": "code",
   "execution_count": null,
   "metadata": {},
   "outputs": [],
   "source": [
    "print('The shape of the cleaned dataset is : ' + str(df_cleanv13.shape))"
   ]
  },
  {
   "cell_type": "code",
   "execution_count": null,
   "metadata": {},
   "outputs": [],
   "source": [
    "#Check for missing values within the dataset\n",
    "msn.bar(df_cleanv13)"
   ]
  },
  {
   "cell_type": "markdown",
   "metadata": {},
   "source": [
    "**Findings:**\n",
    "\n",
    "1. There are 366400 rows in column 'Fecha de Inicio de Ejecucion' with valid dates (no NAT)\n",
    "2. There are 370887 rows in column 'Fecha de Fin de Ejecucion' with valid dates (no NAT)"
   ]
  },
  {
   "cell_type": "code",
   "execution_count": null,
   "metadata": {},
   "outputs": [],
   "source": [
    "#Projects with same date in 'Fecha de Inicio del Contrato' and 'Fecha de Inicio de Ejecucion' columns\n",
    "df_cleanv13[df_cleanv13['Fecha de Inicio del Contrato'] == df_cleanv13['Fecha de Inicio de Ejecucion']].shape"
   ]
  },
  {
   "cell_type": "code",
   "execution_count": null,
   "metadata": {},
   "outputs": [],
   "source": [
    "#Projects with same date in 'Fecha de Fin del Contrato' and 'Fecha de Fin de Ejecucion' columns\n",
    "df_cleanv13[df_cleanv13['Fecha de Fin del Contrato'] == df_cleanv13['Fecha de Fin de Ejecucion']].shape"
   ]
  },
  {
   "cell_type": "code",
   "execution_count": null,
   "metadata": {},
   "outputs": [],
   "source": [
    "#Results in the two previous cells indicates that those dates are very similar most of the cases, so it is valid \n",
    "#to delete 'Fecha de Inicio de Ejecucion' and 'Fecha de Fin de Ejecucion' columns from dataframe\n",
    "df_cleanv14 = df_cleanv13.drop(['Fecha de Inicio de Ejecucion', 'Fecha de Fin de Ejecucion'], axis=1)\n",
    "df_cleanv14.shape"
   ]
  },
  {
   "cell_type": "code",
   "execution_count": null,
   "metadata": {},
   "outputs": [],
   "source": [
    "# Export the cleaned dataset to a csv file\n",
    "#df_cleanv14.to_csv('../SECOP_Electronicos_Cleaned.csv')"
   ]
  },
  {
   "cell_type": "code",
   "execution_count": null,
   "metadata": {},
   "outputs": [],
   "source": [
    "pre_X = df_cleanv14.drop(['Delay'], axis=1)[['Departamento','Orden','Sector',\n",
    "                                            'Rama','Entidad Centralizada',\n",
    "                                            'Estado Contrato', 'Tipo de Contrato', 'Modalidad de Contratacion',\n",
    "                                            'Es Grupo','Es Pyme', 'Valor del Contrato', 'Valor de pago adelantado',\n",
    "                                             'Valor Facturado','Valor Pendiente de Pago', 'Valor Pagado', 'Valor Amortizado',\n",
    "                                            'Valor Pendiente de Amortizacion', 'Valor Pendiente de Ejecucion',\n",
    "                                            'EsPostConflicto', 'Destino Gasto',\n",
    "                                            'PGN','SGP','SGR','RP_AGR','RP_NO_AGR','RC']]"
   ]
  },
  {
   "cell_type": "code",
   "execution_count": null,
   "metadata": {},
   "outputs": [],
   "source": [
    "corr = (pre_X.iloc[:,10:18]).corr()\n",
    "\n",
    "f, ax = plt.subplots(figsize=(15, 12))\n",
    "sns.heatmap(corr, annot=True)"
   ]
  },
  {
   "cell_type": "code",
   "execution_count": null,
   "metadata": {},
   "outputs": [],
   "source": [
    "pre_X2 =                              pre_X[['Departamento','Orden','Sector',\n",
    "                                            'Rama','Entidad Centralizada',\n",
    "                                            'Estado Contrato', 'Tipo de Contrato', 'Modalidad de Contratacion',\n",
    "                                            'Es Grupo','Es Pyme', 'Valor del Contrato', 'Valor de pago adelantado',\n",
    "                                             'Valor Facturado','Valor Pendiente de Pago', 'Valor Amortizado',\n",
    "                                            'EsPostConflicto', 'Destino Gasto',\n",
    "                                            'PGN','SGP','SGR','RP_AGR','RP_NO_AGR','RC']]"
   ]
  },
  {
   "cell_type": "code",
   "execution_count": null,
   "metadata": {},
   "outputs": [],
   "source": [
    "corr = (pre_X.loc[:,['Valor del Contrato', 'Valor de pago adelantado',\n",
    "                                             'Valor Facturado','Valor Pendiente de Pago', 'Valor Amortizado']]).corr()\n",
    "\n",
    "f, ax = plt.subplots(figsize=(15, 12))\n",
    "sns.heatmap(corr, annot=True)"
   ]
  },
  {
   "cell_type": "code",
   "execution_count": 74,
   "metadata": {},
   "outputs": [
    {
     "data": {
      "text/plain": [
       "Departamento                 object\n",
       "Orden                        object\n",
       "Sector                       object\n",
       "Rama                         object\n",
       "Entidad Centralizada         object\n",
       "Estado Contrato              object\n",
       "Tipo de Contrato             object\n",
       "Modalidad de Contratacion    object\n",
       "Es Grupo                     object\n",
       "Es Pyme                      object\n",
       "Valor del Contrato            int64\n",
       "Valor de pago adelantado      int64\n",
       "Valor Facturado               int64\n",
       "Valor Pendiente de Pago       int64\n",
       "Valor Amortizado              int64\n",
       "EsPostConflicto              object\n",
       "Destino Gasto                object\n",
       "PGN                           int32\n",
       "SGP                           int32\n",
       "SGR                           int32\n",
       "RP_AGR                        int32\n",
       "RP_NO_AGR                     int32\n",
       "RC                            int32\n",
       "dtype: object"
      ]
     },
     "execution_count": 74,
     "metadata": {},
     "output_type": "execute_result"
    }
   ],
   "source": [
    "pre_X2.dtypes"
   ]
  },
  {
   "cell_type": "code",
   "execution_count": null,
   "metadata": {},
   "outputs": [],
   "source": []
  },
  {
   "cell_type": "code",
   "execution_count": null,
   "metadata": {},
   "outputs": [],
   "source": [
    "y = df_cleanv14['Delay']"
   ]
  },
  {
   "cell_type": "code",
   "execution_count": null,
   "metadata": {},
   "outputs": [],
   "source": [
    "# Separación de variables predictoras (X) y variable de interés (y) en set de entrenamiento y test usandola función train_test_split\n",
    "from sklearn.model_selection import train_test_split\n",
    "\n",
    "X_train, X_test, y_train, y_test = train_test_split(X, y, test_size=0.33, random_state=42)\n",
    "n_samples = X_train.shape[0]"
   ]
  },
  {
   "cell_type": "code",
   "execution_count": null,
   "metadata": {},
   "outputs": [],
   "source": [
    "# Importación y definición de modelo XGBClassifier\n",
    "\n",
    "from xgboost import XGBClassifier\n",
    "from sklearn import metrics \n",
    "\n",
    "clf = XGBClassifier()\n",
    "clf\n",
    "\n",
    "# Entrenamiento (fit) y desempeño del modelo XGBClassifier\n",
    "clf.fit(X_train, y_train)\n",
    "y_pred = clf.predict(X_test)\n",
    "metrics.f1_score(y_pred, y_test.values), metrics.accuracy_score(y_pred, y_test.values)"
   ]
  },
  {
   "cell_type": "code",
   "execution_count": null,
   "metadata": {},
   "outputs": [],
   "source": []
  }
 ],
 "metadata": {
  "kernelspec": {
   "display_name": "Python 3 (ipykernel)",
   "language": "python",
   "name": "python3"
  },
  "language_info": {
   "codemirror_mode": {
    "name": "ipython",
    "version": 3
   },
   "file_extension": ".py",
   "mimetype": "text/x-python",
   "name": "python",
   "nbconvert_exporter": "python",
   "pygments_lexer": "ipython3",
   "version": "3.9.7"
  },
  "vscode": {
   "interpreter": {
    "hash": "ad2bdc8ecc057115af97d19610ffacc2b4e99fae6737bb82f5d7fb13d2f2c186"
   }
  }
 },
 "nbformat": 4,
 "nbformat_minor": 2
}
