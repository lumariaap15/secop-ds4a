{
 "cells": [
  {
   "cell_type": "code",
   "execution_count": 1,
   "metadata": {},
   "outputs": [
    {
     "name": "stdout",
     "output_type": "stream",
     "text": [
      "Requirement already satisfied: requests in /Users/luisaalzate/.local/lib/python3.9/site-packages (2.27.1)\n",
      "Requirement already satisfied: charset-normalizer~=2.0.0; python_version >= \"3\" in /Users/luisaalzate/.local/lib/python3.9/site-packages (from requests) (2.0.12)\n",
      "Requirement already satisfied: urllib3<1.27,>=1.21.1 in /Users/luisaalzate/.local/lib/python3.9/site-packages (from requests) (1.26.9)\n",
      "Requirement already satisfied: idna<4,>=2.5; python_version >= \"3\" in /Users/luisaalzate/.local/lib/python3.9/site-packages (from requests) (3.3)\n",
      "Requirement already satisfied: certifi>=2017.4.17 in /Users/luisaalzate/.local/lib/python3.9/site-packages (from requests) (2022.5.18.1)\n",
      "\u001b[33mWARNING: You are using pip version 20.2.3; however, version 22.1.2 is available.\n",
      "You should consider upgrading via the '/Users/luisaalzate/.pyenv/versions/3.9.2/bin/python -m pip install --upgrade pip' command.\u001b[0m\n",
      "Note: you may need to restart the kernel to use updated packages.\n"
     ]
    }
   ],
   "source": [
    "pip install requests"
   ]
  },
  {
   "cell_type": "code",
   "execution_count": 2,
   "metadata": {},
   "outputs": [
    {
     "name": "stdout",
     "output_type": "stream",
     "text": [
      "<Response [200]>\n"
     ]
    }
   ],
   "source": [
    "import requests\n",
    "response = requests.get(\"https://www.datos.gov.co/resource/p6dx-8zbt.json\")\n",
    "print(response)"
   ]
  },
  {
   "cell_type": "code",
   "execution_count": 7,
   "metadata": {},
   "outputs": [
    {
     "data": {
      "text/plain": [
       "{'entidad': 'ALCALDIA MUNICIPAL FUSAGASUGA',\n",
       " 'nit_entidad': '890680008',\n",
       " 'departamento_entidad': 'No Definido',\n",
       " 'ciudad_entidad': 'No Definido',\n",
       " 'ordenentidad': 'Territorial',\n",
       " 'codigo_pci': 'Si',\n",
       " 'id_del_proceso': 'CO1.REQ.1749934',\n",
       " 'referencia_del_proceso': 'CPSP 2020-0053',\n",
       " 'ppi': 'ND',\n",
       " 'id_del_portafolio': 'CO1.BDOS.1699744',\n",
       " 'nombre_del_procedimiento': 'PRESTACIÓN DE SERVICIOS DE APOYO A LA GESTION PARA EL TRAMITE DE LA DOCUMENTACIÓN INTERNA Y EXTERNA DE LOS PROCESOS DE LA SECRETARIA ADMINISTRATIVA Y DESPACHO DEL MUNICIPIO DE FUSAGASUGA',\n",
       " 'descripci_n_del_procedimiento': 'PRESTACIÓN DE SERVICIOS DE APOYO A LA GESTION PARA EL TRAMITE DE LA DOCUMENTACIÓN INTERNA Y EXTERNA DE LOS PROCESOS DE LA SECRETARIA ADMINISTRATIVA Y DESPACHO DEL MUNICIPIO DE FUSAGASUGA',\n",
       " 'fase': 'No Definido',\n",
       " 'precio_base': '12480000',\n",
       " 'modalidad_de_contratacion': 'Contratación directa',\n",
       " 'justificaci_n_modalidad_de': 'ServiciosProfesionales',\n",
       " 'duracion': '225',\n",
       " 'unidad_de_duracion': 'Dias',\n",
       " 'ciudad_de_la_unidad_de': 'Fusagasugá',\n",
       " 'nombre_de_la_unidad_de': 'Unidad de contratacion',\n",
       " 'proveedores_invitados': '0',\n",
       " 'proveedores_con_invitacion': '0',\n",
       " 'visualizaciones_del': '0',\n",
       " 'proveedores_que_manifestaron': '0',\n",
       " 'respuestas_al_procedimiento': '0',\n",
       " 'respuestas_externas': '0',\n",
       " 'conteo_de_respuestas_a_ofertas': '0',\n",
       " 'proveedores_unicos_con': '0',\n",
       " 'numero_de_lotes': '0',\n",
       " 'estado_del_procedimiento': 'No Definido',\n",
       " 'id_estado_del_procedimiento': '110',\n",
       " 'adjudicado': 'No',\n",
       " 'id_adjudicacion': 'No Adjudicado',\n",
       " 'codigoproveedor': 'No Adjudicado',\n",
       " 'departamento_proveedor': 'No aplica',\n",
       " 'ciudad_proveedor': 'No aplica',\n",
       " 'valor_total_adjudicacion': '0',\n",
       " 'nombre_del_adjudicador': 'No Adjudicado',\n",
       " 'nombre_del_proveedor': 'No Adjudicado',\n",
       " 'nit_del_proveedor_adjudicado': 'No Adjudicado',\n",
       " 'codigo_principal_de_categoria': 'V1.80111601',\n",
       " 'estado_de_apertura_del_proceso': 'Abierto',\n",
       " 'tipo_de_contrato': 'Servicios de aprovisionamiento',\n",
       " 'subtipo_de_contrato': 'No Especificado',\n",
       " 'categorias_adicionales': 'ND',\n",
       " 'codigo_entidad': '704059872',\n",
       " 'estadoresumen': 'No Definido'}"
      ]
     },
     "execution_count": 7,
     "metadata": {},
     "output_type": "execute_result"
    }
   ],
   "source": [
    "json = response.json()\n",
    "json[0]"
   ]
  }
 ],
 "metadata": {
  "kernelspec": {
   "display_name": "Python 3.9.2 64-bit ('3.9.2')",
   "language": "python",
   "name": "python3"
  },
  "language_info": {
   "codemirror_mode": {
    "name": "ipython",
    "version": 3
   },
   "file_extension": ".py",
   "mimetype": "text/x-python",
   "name": "python",
   "nbconvert_exporter": "python",
   "pygments_lexer": "ipython3",
   "version": "3.9.2"
  },
  "orig_nbformat": 4,
  "vscode": {
   "interpreter": {
    "hash": "33f13f9cc8c66cf0945ef0b6662832d7a911b73cd77e4e2de9579654c5f84d0f"
   }
  }
 },
 "nbformat": 4,
 "nbformat_minor": 2
}
