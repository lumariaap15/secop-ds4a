{
 "cells": [
  {
   "cell_type": "code",
   "execution_count": 1,
   "metadata": {},
   "outputs": [
    {
     "name": "stdout",
     "output_type": "stream",
     "text": [
      "Requirement already satisfied: requests in /Users/luisaalzate/.local/lib/python3.9/site-packages (2.27.1)\n",
      "Requirement already satisfied: charset-normalizer~=2.0.0; python_version >= \"3\" in /Users/luisaalzate/.local/lib/python3.9/site-packages (from requests) (2.0.12)\n",
      "Requirement already satisfied: urllib3<1.27,>=1.21.1 in /Users/luisaalzate/.local/lib/python3.9/site-packages (from requests) (1.26.9)\n",
      "Requirement already satisfied: idna<4,>=2.5; python_version >= \"3\" in /Users/luisaalzate/.local/lib/python3.9/site-packages (from requests) (3.3)\n",
      "Requirement already satisfied: certifi>=2017.4.17 in /Users/luisaalzate/.local/lib/python3.9/site-packages (from requests) (2022.5.18.1)\n",
      "\u001b[33mWARNING: You are using pip version 20.2.3; however, version 22.1.2 is available.\n",
      "You should consider upgrading via the '/Users/luisaalzate/.pyenv/versions/3.9.2/bin/python -m pip install --upgrade pip' command.\u001b[0m\n",
      "Note: you may need to restart the kernel to use updated packages.\n"
     ]
    }
   ],
   "source": [
    "pip install requests"
   ]
  },
  {
   "cell_type": "code",
   "execution_count": 8,
   "metadata": {},
   "outputs": [
    {
     "name": "stdout",
     "output_type": "stream",
     "text": [
      "<Response [200]>\n"
     ]
    }
   ],
   "source": [
    "import requests\n",
    "response = requests.get(\"https://www.datos.gov.co/resource/jbjy-vk9h.json\")\n",
    "print(response)"
   ]
  },
  {
   "cell_type": "code",
   "execution_count": 9,
   "metadata": {},
   "outputs": [
    {
     "data": {
      "text/plain": [
       "{'nombre_entidad': 'INSTITUTO DE PATRIMONIO Y CULTURAL DE CARTAGENA DE INDIAS - IPCC',\n",
       " 'nit_entidad': '806013631',\n",
       " 'departamento': 'Bolívar',\n",
       " 'ciudad': 'Cartagena',\n",
       " 'localizaci_n': 'Colombia,  Bolívar ,  Cartagena',\n",
       " 'orden': 'Territorial',\n",
       " 'sector': 'Cultura',\n",
       " 'rama': 'Ejecutivo',\n",
       " 'entidad_centralizada': 'Descentralizada',\n",
       " 'proceso_de_compra': 'CO1.BDOS.2568844',\n",
       " 'id_contrato': 'CO1.PCCNTR.3379270',\n",
       " 'referencia_del_contrato': 'CPS-IPCC-059-2022',\n",
       " 'estado_contrato': 'En ejecución',\n",
       " 'codigo_de_categoria_principal': 'V1.80111600',\n",
       " 'descripcion_del_proceso': 'PRESTAR SERVICIOS DE APOYO A LA GESTIÓN CON DESTINO AL INSTITUTO DE PATRIMONIO Y CULTURA -IPCC  como Bachiller  con mas de 5 años de experiencia',\n",
       " 'tipo_de_contrato': 'Prestación de servicios',\n",
       " 'modalidad_de_contratacion': 'Contratación directa',\n",
       " 'justificacion_modalidad_de': 'ServiciosProfesionales',\n",
       " 'fecha_de_firma': '2022-01-25T19:01:07.000',\n",
       " 'fecha_de_inicio_del_contrato': '2022-01-26T00:00:00.000',\n",
       " 'fecha_de_fin_del_contrato': '2022-09-26T00:00:00.000',\n",
       " 'condiciones_de_entrega': 'No Definido',\n",
       " 'tipodocproveedor': 'Cédula de Ciudadanía',\n",
       " 'documento_proveedor': '71946363',\n",
       " 'proveedor_adjudicado': 'WARNER RAFAEL MONTERROSA CUADRADO',\n",
       " 'es_grupo': 'No',\n",
       " 'es_pyme': 'No',\n",
       " 'habilita_pago_adelantado': 'No',\n",
       " 'liquidaci_n': 'No',\n",
       " 'obligaci_n_ambiental': 'No',\n",
       " 'obligaciones_postconsumo': 'No',\n",
       " 'reversion': 'No',\n",
       " 'valor_del_contrato': '18160000',\n",
       " 'valor_de_pago_adelantado': '0',\n",
       " 'valor_facturado': '9080000',\n",
       " 'valor_pendiente_de_pago': '18160000',\n",
       " 'valor_pagado': '0',\n",
       " 'valor_amortizado': '0',\n",
       " 'valor_pendiente_de': '0',\n",
       " 'valor_pendiente_de_ejecucion': '18160000',\n",
       " 'estado_bpin': 'Válido',\n",
       " 'c_digo_bpin': '2020130010218',\n",
       " 'anno_bpin': '2022',\n",
       " 'saldo_cdp': '400640000',\n",
       " 'saldo_vigencia': '0',\n",
       " 'espostconflicto': 'No',\n",
       " 'urlproceso': {'url': 'https://community.secop.gov.co/Public/Tendering/OpportunityDetail/Index?noticeUID=CO1.NTC.2677180&isFromPublicArea=True&isModal=true&asPopupView=true'},\n",
       " 'destino_gasto': 'Inversión',\n",
       " 'origen_de_los_recursos': 'Distribuido',\n",
       " 'dias_adicionados': '0',\n",
       " 'puntos_del_acuerdo': 'No aplica',\n",
       " 'pilares_del_acuerdo': 'No aplica',\n",
       " 'nombre_representante_legal': 'WARNER RAFAEL MONTERROSA CUADRADO',\n",
       " 'nacionalidad_representante_legal': 'COLOMBIANO',\n",
       " 'tipo_de_identificaci_n_representante_legal': 'No Definido',\n",
       " 'identificaci_n_representante_legal': '71946363',\n",
       " 'g_nero_representante_legal': 'No Definido',\n",
       " 'presupuesto_general_de_la_nacion_pgn': '0',\n",
       " 'sistema_general_de_participaciones': '0',\n",
       " 'sistema_general_de_regal_as': '0',\n",
       " 'recursos_propios_alcald_as_gobernaciones_y_resguardos_ind_genas_': '18160000',\n",
       " 'recursos_de_credito': '0',\n",
       " 'recursos_propios': '0',\n",
       " 'ultima_actualizacion': '2022-03-05T00:00:00.000',\n",
       " 'codigo_entidad': '702775123',\n",
       " 'fecha_fin_liquidacion': '710369513',\n",
       " 'objeto_del_contrato': 'PRESTAR SERVICIOS DE APOYO A LA GESTIÓN CON DESTINO AL INSTITUTO DE PATRIMONIO Y CULTURA IPCC'}"
      ]
     },
     "execution_count": 9,
     "metadata": {},
     "output_type": "execute_result"
    }
   ],
   "source": [
    "json = response.json()\n",
    "json[0]"
   ]
  },
  {
   "cell_type": "code",
   "execution_count": 10,
   "metadata": {},
   "outputs": [
    {
     "data": {
      "text/plain": [
       "1000"
      ]
     },
     "execution_count": 10,
     "metadata": {},
     "output_type": "execute_result"
    }
   ],
   "source": [
    "len(json)"
   ]
  },
  {
   "cell_type": "code",
   "execution_count": 11,
   "metadata": {},
   "outputs": [
    {
     "data": {
      "text/plain": [
       "{'nombre_entidad': 'SANTIAGO DE CALI  DISTRITO ESPECIAL - SECRETARIA DE CULTURA',\n",
       " 'nit_entidad': '890399011',\n",
       " 'departamento': 'Valle del Cauca',\n",
       " 'ciudad': 'Cali',\n",
       " 'localizaci_n': 'Colombia,  Valle del Cauca ,  Cali',\n",
       " 'orden': 'Territorial',\n",
       " 'sector': 'Cultura',\n",
       " 'rama': 'Ejecutivo',\n",
       " 'entidad_centralizada': 'Descentralizada',\n",
       " 'proceso_de_compra': 'CO1.BDOS.2194076',\n",
       " 'id_contrato': 'CO1.PCCNTR.2804706',\n",
       " 'referencia_del_contrato': '4148.010.26.1.709-2021',\n",
       " 'estado_contrato': 'Cerrado',\n",
       " 'codigo_de_categoria_principal': 'V1.80111501',\n",
       " 'descripcion_del_proceso': 'Prestar los servicios de apoyo a la gestión para realizar actividades afines a su perfil en los programas  planes y proyectos que adelanta la Secretaría de Cultura  con el fin de cumplir con sus cometidos misionales de conformidad con el proyecto denominado: \\x93DESARROLLO DE PROCESOS CULTURALES PARA E',\n",
       " 'tipo_de_contrato': 'Prestación de servicios',\n",
       " 'modalidad_de_contratacion': 'Contratación directa',\n",
       " 'justificacion_modalidad_de': 'ServiciosProfesionales',\n",
       " 'fecha_de_firma': '2021-08-31T20:08:26.000',\n",
       " 'fecha_de_inicio_del_contrato': '2021-09-02T00:00:00.000',\n",
       " 'fecha_de_fin_del_contrato': '2021-09-30T00:00:00.000',\n",
       " 'condiciones_de_entrega': 'Como acordado previamente',\n",
       " 'tipodocproveedor': 'Cédula de Ciudadanía',\n",
       " 'documento_proveedor': '1130630800',\n",
       " 'proveedor_adjudicado': 'ANGELICA RODRIGUEZ',\n",
       " 'es_grupo': 'No',\n",
       " 'es_pyme': 'No',\n",
       " 'habilita_pago_adelantado': 'No',\n",
       " 'liquidaci_n': 'No',\n",
       " 'obligaci_n_ambiental': 'No',\n",
       " 'obligaciones_postconsumo': 'No',\n",
       " 'reversion': 'No',\n",
       " 'valor_del_contrato': '4860000',\n",
       " 'valor_de_pago_adelantado': '0',\n",
       " 'valor_facturado': '0',\n",
       " 'valor_pendiente_de_pago': '4860000',\n",
       " 'valor_pagado': '0',\n",
       " 'valor_amortizado': '0',\n",
       " 'valor_pendiente_de': '0',\n",
       " 'valor_pendiente_de_ejecucion': '4860000',\n",
       " 'estado_bpin': 'Válido',\n",
       " 'c_digo_bpin': '2020760010767',\n",
       " 'anno_bpin': '2021',\n",
       " 'saldo_cdp': '165240000',\n",
       " 'saldo_vigencia': '0',\n",
       " 'espostconflicto': 'No',\n",
       " 'urlproceso': {'url': 'https://community.secop.gov.co/Public/Tendering/OpportunityDetail/Index?noticeUID=CO1.NTC.2208605&isFromPublicArea=True&isModal=true&asPopupView=true'},\n",
       " 'destino_gasto': 'Inversión',\n",
       " 'origen_de_los_recursos': 'Distribuido',\n",
       " 'dias_adicionados': '0',\n",
       " 'puntos_del_acuerdo': 'No aplica',\n",
       " 'pilares_del_acuerdo': 'No aplica',\n",
       " 'nombre_representante_legal': 'ANGELICA RODRIGUEZ RODRIGUEZ',\n",
       " 'nacionalidad_representante_legal': 'COLOMBIANA',\n",
       " 'tipo_de_identificaci_n_representante_legal': 'No Definido',\n",
       " 'identificaci_n_representante_legal': '1130630800',\n",
       " 'g_nero_representante_legal': 'No Definido',\n",
       " 'presupuesto_general_de_la_nacion_pgn': '0',\n",
       " 'sistema_general_de_participaciones': '0',\n",
       " 'sistema_general_de_regal_as': '0',\n",
       " 'recursos_propios_alcald_as_gobernaciones_y_resguardos_ind_genas_': '4860000',\n",
       " 'recursos_de_credito': '0',\n",
       " 'recursos_propios': '0',\n",
       " 'ultima_actualizacion': '2022-02-17T00:00:00.000',\n",
       " 'codigo_entidad': '702384207',\n",
       " 'fecha_fin_liquidacion': '705546083',\n",
       " 'objeto_del_contrato': 'Prestar los servicios de apoyo a la gestión para realizar actividades afines a su perfil en los programas planes y proyectos que adelanta la Secretaría de Cultura con el fin de cumplir con sus cometidos misionales de conformidad con el proyecto denominado DESARROLLO DE PROCESOS CULTURALES PARA EL ACCESO A LA INFORMACIÓN Y EL CONOCIMIENTO PARA LA POBLACIÓN EN SITUACIÓN DE DISCAPACIDAD EN SANTIAGO DE CALI BP26002835 vigencia 2021'}"
      ]
     },
     "execution_count": 11,
     "metadata": {},
     "output_type": "execute_result"
    }
   ],
   "source": [
    "json[12]"
   ]
  }
 ],
 "metadata": {
  "kernelspec": {
   "display_name": "Python 3.9.2 64-bit ('3.9.2')",
   "language": "python",
   "name": "python3"
  },
  "language_info": {
   "codemirror_mode": {
    "name": "ipython",
    "version": 3
   },
   "file_extension": ".py",
   "mimetype": "text/x-python",
   "name": "python",
   "nbconvert_exporter": "python",
   "pygments_lexer": "ipython3",
   "version": "3.9.2"
  },
  "orig_nbformat": 4,
  "vscode": {
   "interpreter": {
    "hash": "33f13f9cc8c66cf0945ef0b6662832d7a911b73cd77e4e2de9579654c5f84d0f"
   }
  }
 },
 "nbformat": 4,
 "nbformat_minor": 2
}
