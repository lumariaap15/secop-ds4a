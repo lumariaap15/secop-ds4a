{
 "cells": [
  {
   "cell_type": "code",
   "execution_count": 37,
   "metadata": {},
   "outputs": [
    {
     "name": "stdout",
     "output_type": "stream",
     "text": [
      "Requirement already satisfied: abc-analysis in /home/azureuser/.local/lib/python3.8/site-packages (0.1.21)\n",
      "Requirement already satisfied: numpy>=1.14 in /home/azureuser/.local/lib/python3.8/site-packages (from abc-analysis) (1.22.4)\n",
      "Requirement already satisfied: scipy>=1.1.0 in /home/azureuser/.local/lib/python3.8/site-packages (from abc-analysis) (1.8.1)\n",
      "Requirement already satisfied: pandas>=0.22 in /home/azureuser/.local/lib/python3.8/site-packages (from abc-analysis) (1.4.2)\n",
      "Requirement already satisfied: matplotlib>=2.2.2 in /home/azureuser/.local/lib/python3.8/site-packages (from abc-analysis) (3.5.2)\n",
      "Requirement already satisfied: python-dateutil>=2.8.1 in /home/azureuser/.local/lib/python3.8/site-packages (from pandas>=0.22->abc-analysis) (2.8.2)\n",
      "Requirement already satisfied: pytz>=2020.1 in /home/azureuser/.local/lib/python3.8/site-packages (from pandas>=0.22->abc-analysis) (2022.1)\n",
      "Requirement already satisfied: pillow>=6.2.0 in /home/azureuser/.local/lib/python3.8/site-packages (from matplotlib>=2.2.2->abc-analysis) (9.1.1)\n",
      "Requirement already satisfied: kiwisolver>=1.0.1 in /home/azureuser/.local/lib/python3.8/site-packages (from matplotlib>=2.2.2->abc-analysis) (1.4.3)\n",
      "Requirement already satisfied: fonttools>=4.22.0 in /home/azureuser/.local/lib/python3.8/site-packages (from matplotlib>=2.2.2->abc-analysis) (4.33.3)\n",
      "Requirement already satisfied: cycler>=0.10 in /home/azureuser/.local/lib/python3.8/site-packages (from matplotlib>=2.2.2->abc-analysis) (0.11.0)\n",
      "Requirement already satisfied: pyparsing>=2.2.1 in /home/azureuser/.local/lib/python3.8/site-packages (from matplotlib>=2.2.2->abc-analysis) (3.0.9)\n",
      "Requirement already satisfied: packaging>=20.0 in /home/azureuser/.local/lib/python3.8/site-packages (from matplotlib>=2.2.2->abc-analysis) (21.3)\n",
      "Requirement already satisfied: six>=1.5 in /usr/lib/python3/dist-packages (from python-dateutil>=2.8.1->pandas>=0.22->abc-analysis) (1.14.0)\n",
      "Requirement already satisfied: sklearn in /home/azureuser/.local/lib/python3.8/site-packages (0.0)\n",
      "Requirement already satisfied: scikit-learn in /home/azureuser/.local/lib/python3.8/site-packages (from sklearn) (1.1.1)\n",
      "Requirement already satisfied: numpy>=1.17.3 in /home/azureuser/.local/lib/python3.8/site-packages (from scikit-learn->sklearn) (1.22.4)\n",
      "Requirement already satisfied: joblib>=1.0.0 in /home/azureuser/.local/lib/python3.8/site-packages (from scikit-learn->sklearn) (1.1.0)\n",
      "Requirement already satisfied: scipy>=1.3.2 in /home/azureuser/.local/lib/python3.8/site-packages (from scikit-learn->sklearn) (1.8.1)\n",
      "Requirement already satisfied: threadpoolctl>=2.0.0 in /home/azureuser/.local/lib/python3.8/site-packages (from scikit-learn->sklearn) (3.1.0)\n",
      "Requirement already satisfied: sklearn in /home/azureuser/.local/lib/python3.8/site-packages (0.0)\n",
      "Requirement already satisfied: scikit-learn in /home/azureuser/.local/lib/python3.8/site-packages (from sklearn) (1.1.1)\n",
      "Requirement already satisfied: threadpoolctl>=2.0.0 in /home/azureuser/.local/lib/python3.8/site-packages (from scikit-learn->sklearn) (3.1.0)\n",
      "Requirement already satisfied: joblib>=1.0.0 in /home/azureuser/.local/lib/python3.8/site-packages (from scikit-learn->sklearn) (1.1.0)\n",
      "Requirement already satisfied: numpy>=1.17.3 in /home/azureuser/.local/lib/python3.8/site-packages (from scikit-learn->sklearn) (1.22.4)\n",
      "Requirement already satisfied: scipy>=1.3.2 in /home/azureuser/.local/lib/python3.8/site-packages (from scikit-learn->sklearn) (1.8.1)\n",
      "Collecting xgboost\n",
      "  Using cached xgboost-1.6.1-py3-none-manylinux2014_x86_64.whl (192.9 MB)\n",
      "Requirement already satisfied: numpy in /home/azureuser/.local/lib/python3.8/site-packages (from xgboost) (1.22.4)\n",
      "Requirement already satisfied: scipy in /home/azureuser/.local/lib/python3.8/site-packages (from xgboost) (1.8.1)\n",
      "Installing collected packages: xgboost\n",
      "Successfully installed xgboost-1.6.1\n"
     ]
    }
   ],
   "source": [
    "!pip install abc-analysis\n",
    "!pip install sklearn\n",
    "!pip install sklearn\n",
    "!pip install xgboost"
   ]
  },
  {
   "cell_type": "markdown",
   "metadata": {},
   "source": [
    "# Delay_ABC\n",
    "\n",
    "The column **Delay_ABC** is determined by dividing the range of **NormalizedDelay**>0 based on the Pareto Principle by using the ABC Analysis. This is done by classifying the delays in these categories:\n",
    "\n",
    "0: Contracts of 0 days added\n",
    "\n",
    "1: Contracts with **NormalizedDelay** belonging to category **A** on the ABC Analysis\n",
    "\n",
    "2: Contracts with **NormalizedDelay** belonging to category **B** on the ABC Analysis\n",
    "\n",
    "3: Contracts with **NormalizedDelay** belonging to category **C** on the ABC Analysis"
   ]
  },
  {
   "cell_type": "code",
   "execution_count": 4,
   "metadata": {},
   "outputs": [],
   "source": [
    "#Import Libraries\n",
    "import pandas as pd\n",
    "import missingno as msn\n",
    "import seaborn as sns\n",
    "import warnings\n",
    "import matplotlib.pyplot as plt\n",
    "warnings.filterwarnings('ignore')\n",
    "\n",
    "# Para realizar el análisis ABC\n",
    "from abc_analysis import abc_analysis as abc"
   ]
  },
  {
   "cell_type": "code",
   "execution_count": 8,
   "metadata": {},
   "outputs": [],
   "source": [
    "#Read data file obtained from datos.gov.co\n",
    "# path = \"C:/Users/User/Downloads/ds4a-secopII/\" #path Carlos\n",
    "#path = \"C:/Users/VMNR/Desktop/\" #path vicman\n",
    "# path = \"../data/\" #path GENERAL\n",
    "path = \"../../git/secop-ds4a/dash_app/assets/data/\"   #path de la maquina\n",
    "file_name = 'SECOP_Electronicos_Cleaned.csv'\n",
    "\n",
    "#Select the columns that we want to parse as dates.\n",
    "date_cols = ['Fecha de Inicio del Contrato', 'Fecha de Fin del Contrato']\n",
    "\n",
    "df = pd.read_csv(path+file_name, parse_dates=date_cols, low_memory=False)\n"
   ]
  },
  {
   "cell_type": "code",
   "execution_count": 10,
   "metadata": {},
   "outputs": [
    {
     "name": "stdout",
     "output_type": "stream",
     "text": [
      "The shape of the original dataset is : (1562161, 35)\n"
     ]
    }
   ],
   "source": [
    "\n",
    "print('The shape of the original dataset is : ' + str(df.shape))"
   ]
  },
  {
   "cell_type": "code",
   "execution_count": 11,
   "metadata": {},
   "outputs": [
    {
     "name": "stdout",
     "output_type": "stream",
     "text": [
      "<class 'pandas.core.frame.DataFrame'>\n",
      "RangeIndex: 1562161 entries, 0 to 1562160\n",
      "Data columns (total 35 columns):\n",
      " #   Column                           Non-Null Count    Dtype         \n",
      "---  ------                           --------------    -----         \n",
      " 0   Unnamed: 0                       1562161 non-null  int64         \n",
      " 1   Nombre Entidad                   1562161 non-null  object        \n",
      " 2   Departamento                     1562161 non-null  object        \n",
      " 3   Orden                            1562161 non-null  object        \n",
      " 4   Sector                           1562161 non-null  object        \n",
      " 5   Rama                             1562161 non-null  object        \n",
      " 6   Entidad Centralizada             1562161 non-null  object        \n",
      " 7   Estado Contrato                  1562161 non-null  object        \n",
      " 8   Tipo de Contrato                 1562161 non-null  object        \n",
      " 9   Modalidad de Contratacion        1562161 non-null  object        \n",
      " 10  Fecha de Inicio del Contrato     1562161 non-null  datetime64[ns]\n",
      " 11  Fecha de Fin del Contrato        1562161 non-null  datetime64[ns]\n",
      " 12  Es Grupo                         1562161 non-null  object        \n",
      " 13  Es Pyme                          1562161 non-null  object        \n",
      " 14  Obligación Ambiental             1562161 non-null  object        \n",
      " 15  Obligaciones Postconsumo         1562161 non-null  object        \n",
      " 16  Valor del Contrato               1562161 non-null  int64         \n",
      " 17  Valor de pago adelantado         1562161 non-null  int64         \n",
      " 18  Valor Facturado                  1562161 non-null  int64         \n",
      " 19  Valor Pendiente de Pago          1562161 non-null  int64         \n",
      " 20  Valor Pagado                     1562161 non-null  int64         \n",
      " 21  Valor Amortizado                 1562161 non-null  int64         \n",
      " 22  Valor Pendiente de Amortizacion  1562161 non-null  int64         \n",
      " 23  Valor Pendiente de Ejecucion     1562161 non-null  int64         \n",
      " 24  EsPostConflicto                  1562161 non-null  object        \n",
      " 25  Destino Gasto                    1562161 non-null  object        \n",
      " 26  Dias Adicionados                 1562161 non-null  int64         \n",
      " 27  PGN                              1562161 non-null  int64         \n",
      " 28  SGP                              1562161 non-null  int64         \n",
      " 29  SGR                              1562161 non-null  int64         \n",
      " 30  RP_AGR                           1562161 non-null  int64         \n",
      " 31  RP_NO_AGR                        1562161 non-null  int64         \n",
      " 32  RC                               1562161 non-null  int64         \n",
      " 33  Delay                            1562161 non-null  int64         \n",
      " 34  NormalizedDelay                  1562161 non-null  float64       \n",
      "dtypes: datetime64[ns](2), float64(1), int64(17), object(15)\n",
      "memory usage: 417.1+ MB\n"
     ]
    }
   ],
   "source": [
    "df.info()"
   ]
  },
  {
   "cell_type": "code",
   "execution_count": 12,
   "metadata": {},
   "outputs": [],
   "source": [
    "cat_cols = ['Departamento', 'Orden', 'Sector', 'Rama','Entidad Centralizada', 'Estado Contrato', 'Tipo de Contrato', 'Modalidad de Contratacion',\n",
    "            'Es Grupo','Es Pyme', 'Destino Gasto', 'EsPostConflicto', 'Delay']\n",
    "cat_values = {key:'category' for key in cat_cols}\n",
    "df = df.astype(cat_values)"
   ]
  },
  {
   "cell_type": "code",
   "execution_count": 13,
   "metadata": {},
   "outputs": [],
   "source": [
    "df.drop(columns='Unnamed: 0', inplace=True)"
   ]
  },
  {
   "cell_type": "code",
   "execution_count": 14,
   "metadata": {},
   "outputs": [
    {
     "name": "stdout",
     "output_type": "stream",
     "text": [
      "<class 'pandas.core.frame.DataFrame'>\n",
      "RangeIndex: 1562161 entries, 0 to 1562160\n",
      "Data columns (total 34 columns):\n",
      " #   Column                           Non-Null Count    Dtype         \n",
      "---  ------                           --------------    -----         \n",
      " 0   Nombre Entidad                   1562161 non-null  object        \n",
      " 1   Departamento                     1562161 non-null  category      \n",
      " 2   Orden                            1562161 non-null  category      \n",
      " 3   Sector                           1562161 non-null  category      \n",
      " 4   Rama                             1562161 non-null  category      \n",
      " 5   Entidad Centralizada             1562161 non-null  category      \n",
      " 6   Estado Contrato                  1562161 non-null  category      \n",
      " 7   Tipo de Contrato                 1562161 non-null  category      \n",
      " 8   Modalidad de Contratacion        1562161 non-null  category      \n",
      " 9   Fecha de Inicio del Contrato     1562161 non-null  datetime64[ns]\n",
      " 10  Fecha de Fin del Contrato        1562161 non-null  datetime64[ns]\n",
      " 11  Es Grupo                         1562161 non-null  category      \n",
      " 12  Es Pyme                          1562161 non-null  category      \n",
      " 13  Obligación Ambiental             1562161 non-null  object        \n",
      " 14  Obligaciones Postconsumo         1562161 non-null  object        \n",
      " 15  Valor del Contrato               1562161 non-null  int64         \n",
      " 16  Valor de pago adelantado         1562161 non-null  int64         \n",
      " 17  Valor Facturado                  1562161 non-null  int64         \n",
      " 18  Valor Pendiente de Pago          1562161 non-null  int64         \n",
      " 19  Valor Pagado                     1562161 non-null  int64         \n",
      " 20  Valor Amortizado                 1562161 non-null  int64         \n",
      " 21  Valor Pendiente de Amortizacion  1562161 non-null  int64         \n",
      " 22  Valor Pendiente de Ejecucion     1562161 non-null  int64         \n",
      " 23  EsPostConflicto                  1562161 non-null  category      \n",
      " 24  Destino Gasto                    1562161 non-null  category      \n",
      " 25  Dias Adicionados                 1562161 non-null  int64         \n",
      " 26  PGN                              1562161 non-null  int64         \n",
      " 27  SGP                              1562161 non-null  int64         \n",
      " 28  SGR                              1562161 non-null  int64         \n",
      " 29  RP_AGR                           1562161 non-null  int64         \n",
      " 30  RP_NO_AGR                        1562161 non-null  int64         \n",
      " 31  RC                               1562161 non-null  int64         \n",
      " 32  Delay                            1562161 non-null  category      \n",
      " 33  NormalizedDelay                  1562161 non-null  float64       \n",
      "dtypes: category(13), datetime64[ns](2), float64(1), int64(15), object(3)\n",
      "memory usage: 269.7+ MB\n"
     ]
    }
   ],
   "source": [
    "df.info()"
   ]
  },
  {
   "cell_type": "code",
   "execution_count": 15,
   "metadata": {},
   "outputs": [
    {
     "name": "stdout",
     "output_type": "stream",
     "text": [
      "<class 'pandas.core.frame.DataFrame'>\n",
      "Int64Index: 231621 entries, 17 to 1562154\n",
      "Data columns (total 34 columns):\n",
      " #   Column                           Non-Null Count   Dtype         \n",
      "---  ------                           --------------   -----         \n",
      " 0   Nombre Entidad                   231621 non-null  object        \n",
      " 1   Departamento                     231621 non-null  category      \n",
      " 2   Orden                            231621 non-null  category      \n",
      " 3   Sector                           231621 non-null  category      \n",
      " 4   Rama                             231621 non-null  category      \n",
      " 5   Entidad Centralizada             231621 non-null  category      \n",
      " 6   Estado Contrato                  231621 non-null  category      \n",
      " 7   Tipo de Contrato                 231621 non-null  category      \n",
      " 8   Modalidad de Contratacion        231621 non-null  category      \n",
      " 9   Fecha de Inicio del Contrato     231621 non-null  datetime64[ns]\n",
      " 10  Fecha de Fin del Contrato        231621 non-null  datetime64[ns]\n",
      " 11  Es Grupo                         231621 non-null  category      \n",
      " 12  Es Pyme                          231621 non-null  category      \n",
      " 13  Obligación Ambiental             231621 non-null  object        \n",
      " 14  Obligaciones Postconsumo         231621 non-null  object        \n",
      " 15  Valor del Contrato               231621 non-null  int64         \n",
      " 16  Valor de pago adelantado         231621 non-null  int64         \n",
      " 17  Valor Facturado                  231621 non-null  int64         \n",
      " 18  Valor Pendiente de Pago          231621 non-null  int64         \n",
      " 19  Valor Pagado                     231621 non-null  int64         \n",
      " 20  Valor Amortizado                 231621 non-null  int64         \n",
      " 21  Valor Pendiente de Amortizacion  231621 non-null  int64         \n",
      " 22  Valor Pendiente de Ejecucion     231621 non-null  int64         \n",
      " 23  EsPostConflicto                  231621 non-null  category      \n",
      " 24  Destino Gasto                    231621 non-null  category      \n",
      " 25  Dias Adicionados                 231621 non-null  int64         \n",
      " 26  PGN                              231621 non-null  int64         \n",
      " 27  SGP                              231621 non-null  int64         \n",
      " 28  SGR                              231621 non-null  int64         \n",
      " 29  RP_AGR                           231621 non-null  int64         \n",
      " 30  RP_NO_AGR                        231621 non-null  int64         \n",
      " 31  RC                               231621 non-null  int64         \n",
      " 32  Delay                            231621 non-null  category      \n",
      " 33  NormalizedDelay                  231621 non-null  float64       \n",
      "dtypes: category(13), datetime64[ns](2), float64(1), int64(15), object(3)\n",
      "memory usage: 41.8+ MB\n"
     ]
    }
   ],
   "source": [
    "df2 = df[df['Dias Adicionados']>0]\n",
    "df2.info()"
   ]
  },
  {
   "cell_type": "code",
   "execution_count": 16,
   "metadata": {},
   "outputs": [
    {
     "data": {
      "image/png": "[encoded data removed]",
      "text/plain": [
       "<Figure size 432x432 with 1 Axes>"
      ]
     },
     "metadata": {
      "needs_background": "light"
     },
     "output_type": "display_data"
    }
   ],
   "source": [
    "df_de_ABC = abc(df2['NormalizedDelay'], True)"
   ]
  },
  {
   "cell_type": "code",
   "execution_count": 17,
   "metadata": {},
   "outputs": [],
   "source": [
    "#df_de_ABC"
   ]
  },
  {
   "cell_type": "code",
   "execution_count": 18,
   "metadata": {},
   "outputs": [
    {
     "data": {
      "text/plain": [
       "(0.3113636363636363, 0.5276645768025077)"
      ]
     },
     "execution_count": 18,
     "metadata": {},
     "output_type": "execute_result"
    }
   ],
   "source": [
    "#Crear columna vacía\n",
    "df['Delay_ABC'] = 0\n",
    "# Categorías\n",
    "limit_AB = df_de_ABC['ABLimit']\n",
    "limit_BC = df_de_ABC['BCLimit'] + limit_AB\n",
    "limit_AB,limit_BC\n"
   ]
  },
  {
   "cell_type": "markdown",
   "metadata": {},
   "source": [
    "## Intervalos\n",
    "\n",
    "0:  **NormalizedDelay** = 0\n",
    "\n",
    "1: 0 < **NormalizedDelay** $\\leq$ 0.3113636363636363\n",
    "\n",
    "2: 0.3113636363636363 < **NormalizedDelay** $\\leq$ 0.5276645768025077\n",
    "\n",
    "3:  **NormalizedDelay** > 0.5276645768025077"
   ]
  },
  {
   "cell_type": "code",
   "execution_count": 19,
   "metadata": {},
   "outputs": [
    {
     "data": {
      "text/plain": [
       "1246407    0\n",
       "1273139    0\n",
       "1160988    0\n",
       "164460     0\n",
       "1075418    0\n",
       "Name: Delay_ABC, dtype: int64"
      ]
     },
     "execution_count": 19,
     "metadata": {},
     "output_type": "execute_result"
    }
   ],
   "source": [
    "df['Delay_ABC'].sample(5)"
   ]
  },
  {
   "cell_type": "code",
   "execution_count": 20,
   "metadata": {},
   "outputs": [],
   "source": [
    "df.loc[(df['NormalizedDelay'] > 0)& (df['NormalizedDelay'] <= limit_AB), 'Delay_ABC'] = 1\n",
    "df.loc[(df['NormalizedDelay'] > limit_AB) & (df['NormalizedDelay'] <= limit_BC), 'Delay_ABC']= 2\n",
    "df.loc[(df['NormalizedDelay'] > limit_BC), 'Delay_ABC'] = 3"
   ]
  },
  {
   "cell_type": "code",
   "execution_count": 21,
   "metadata": {},
   "outputs": [
    {
     "data": {
      "text/html": [
       "<div>\n",
       "<style scoped>\n",
       "    .dataframe tbody tr th:only-of-type {\n",
       "        vertical-align: middle;\n",
       "    }\n",
       "\n",
       "    .dataframe tbody tr th {\n",
       "        vertical-align: top;\n",
       "    }\n",
       "\n",
       "    .dataframe thead th {\n",
       "        text-align: right;\n",
       "    }\n",
       "</style>\n",
       "<table border=\"1\" class=\"dataframe\">\n",
       "  <thead>\n",
       "    <tr style=\"text-align: right;\">\n",
       "      <th></th>\n",
       "      <th>Nombre Entidad</th>\n",
       "      <th>Departamento</th>\n",
       "      <th>Orden</th>\n",
       "      <th>Sector</th>\n",
       "      <th>Rama</th>\n",
       "      <th>Entidad Centralizada</th>\n",
       "      <th>Estado Contrato</th>\n",
       "      <th>Tipo de Contrato</th>\n",
       "      <th>Modalidad de Contratacion</th>\n",
       "      <th>Fecha de Inicio del Contrato</th>\n",
       "      <th>...</th>\n",
       "      <th>Dias Adicionados</th>\n",
       "      <th>PGN</th>\n",
       "      <th>SGP</th>\n",
       "      <th>SGR</th>\n",
       "      <th>RP_AGR</th>\n",
       "      <th>RP_NO_AGR</th>\n",
       "      <th>RC</th>\n",
       "      <th>Delay</th>\n",
       "      <th>NormalizedDelay</th>\n",
       "      <th>Delay_ABC</th>\n",
       "    </tr>\n",
       "  </thead>\n",
       "  <tbody>\n",
       "    <tr>\n",
       "      <th>20096</th>\n",
       "      <td>SECRETARÍA DISTRITAL DE CULTURA  RECREACIÓN Y ...</td>\n",
       "      <td>Bogotá, D.C.</td>\n",
       "      <td>Territorial</td>\n",
       "      <td>Cultura</td>\n",
       "      <td>Ejecutivo</td>\n",
       "      <td>Centralizada</td>\n",
       "      <td>Activo</td>\n",
       "      <td>DecreeLaw092/2017</td>\n",
       "      <td>Contratación régimen especial</td>\n",
       "      <td>2020-03-24</td>\n",
       "      <td>...</td>\n",
       "      <td>0</td>\n",
       "      <td>0</td>\n",
       "      <td>0</td>\n",
       "      <td>0</td>\n",
       "      <td>0</td>\n",
       "      <td>0</td>\n",
       "      <td>0</td>\n",
       "      <td>0</td>\n",
       "      <td>0.0</td>\n",
       "      <td>0</td>\n",
       "    </tr>\n",
       "  </tbody>\n",
       "</table>\n",
       "<p>1 rows × 35 columns</p>\n",
       "</div>"
      ],
      "text/plain": [
       "                                          Nombre Entidad  Departamento  \\\n",
       "20096  SECRETARÍA DISTRITAL DE CULTURA  RECREACIÓN Y ...  Bogotá, D.C.   \n",
       "\n",
       "             Orden   Sector       Rama Entidad Centralizada Estado Contrato  \\\n",
       "20096  Territorial  Cultura  Ejecutivo         Centralizada          Activo   \n",
       "\n",
       "        Tipo de Contrato      Modalidad de Contratacion  \\\n",
       "20096  DecreeLaw092/2017  Contratación régimen especial   \n",
       "\n",
       "      Fecha de Inicio del Contrato  ... Dias Adicionados PGN SGP SGR RP_AGR  \\\n",
       "20096                   2020-03-24  ...                0   0   0   0      0   \n",
       "\n",
       "       RP_NO_AGR  RC  Delay  NormalizedDelay  Delay_ABC  \n",
       "20096          0   0      0              0.0          0  \n",
       "\n",
       "[1 rows x 35 columns]"
      ]
     },
     "execution_count": 21,
     "metadata": {},
     "output_type": "execute_result"
    }
   ],
   "source": [
    "df[df.Delay_ABC==0].sample()"
   ]
  },
  {
   "cell_type": "code",
   "execution_count": 22,
   "metadata": {},
   "outputs": [
    {
     "data": {
      "text/html": [
       "<div>\n",
       "<style scoped>\n",
       "    .dataframe tbody tr th:only-of-type {\n",
       "        vertical-align: middle;\n",
       "    }\n",
       "\n",
       "    .dataframe tbody tr th {\n",
       "        vertical-align: top;\n",
       "    }\n",
       "\n",
       "    .dataframe thead th {\n",
       "        text-align: right;\n",
       "    }\n",
       "</style>\n",
       "<table border=\"1\" class=\"dataframe\">\n",
       "  <thead>\n",
       "    <tr style=\"text-align: right;\">\n",
       "      <th></th>\n",
       "      <th>Nombre Entidad</th>\n",
       "      <th>Departamento</th>\n",
       "      <th>Orden</th>\n",
       "      <th>Sector</th>\n",
       "      <th>Rama</th>\n",
       "      <th>Entidad Centralizada</th>\n",
       "      <th>Estado Contrato</th>\n",
       "      <th>Tipo de Contrato</th>\n",
       "      <th>Modalidad de Contratacion</th>\n",
       "      <th>Fecha de Inicio del Contrato</th>\n",
       "      <th>...</th>\n",
       "      <th>Dias Adicionados</th>\n",
       "      <th>PGN</th>\n",
       "      <th>SGP</th>\n",
       "      <th>SGR</th>\n",
       "      <th>RP_AGR</th>\n",
       "      <th>RP_NO_AGR</th>\n",
       "      <th>RC</th>\n",
       "      <th>Delay</th>\n",
       "      <th>NormalizedDelay</th>\n",
       "      <th>Delay_ABC</th>\n",
       "    </tr>\n",
       "  </thead>\n",
       "  <tbody>\n",
       "    <tr>\n",
       "      <th>1553494</th>\n",
       "      <td>DISPENSARIO MEDICO NIVEL II BOGOTA</td>\n",
       "      <td>Bogotá, D.C.</td>\n",
       "      <td>Nacional</td>\n",
       "      <td>defensa</td>\n",
       "      <td>Ejecutivo</td>\n",
       "      <td>Centralizada</td>\n",
       "      <td>Modificado</td>\n",
       "      <td>Prestación de servicios</td>\n",
       "      <td>Contratación directa</td>\n",
       "      <td>2021-02-13</td>\n",
       "      <td>...</td>\n",
       "      <td>31</td>\n",
       "      <td>1</td>\n",
       "      <td>0</td>\n",
       "      <td>0</td>\n",
       "      <td>0</td>\n",
       "      <td>0</td>\n",
       "      <td>0</td>\n",
       "      <td>1</td>\n",
       "      <td>0.155779</td>\n",
       "      <td>1</td>\n",
       "    </tr>\n",
       "  </tbody>\n",
       "</table>\n",
       "<p>1 rows × 35 columns</p>\n",
       "</div>"
      ],
      "text/plain": [
       "                             Nombre Entidad  Departamento     Orden   Sector  \\\n",
       "1553494  DISPENSARIO MEDICO NIVEL II BOGOTA  Bogotá, D.C.  Nacional  defensa   \n",
       "\n",
       "              Rama Entidad Centralizada Estado Contrato  \\\n",
       "1553494  Ejecutivo         Centralizada      Modificado   \n",
       "\n",
       "                Tipo de Contrato Modalidad de Contratacion  \\\n",
       "1553494  Prestación de servicios      Contratación directa   \n",
       "\n",
       "        Fecha de Inicio del Contrato  ... Dias Adicionados PGN SGP SGR RP_AGR  \\\n",
       "1553494                   2021-02-13  ...               31   1   0   0      0   \n",
       "\n",
       "         RP_NO_AGR  RC  Delay  NormalizedDelay  Delay_ABC  \n",
       "1553494          0   0      1         0.155779          1  \n",
       "\n",
       "[1 rows x 35 columns]"
      ]
     },
     "execution_count": 22,
     "metadata": {},
     "output_type": "execute_result"
    }
   ],
   "source": [
    "df[df.Delay_ABC==1].sample()"
   ]
  },
  {
   "cell_type": "code",
   "execution_count": 23,
   "metadata": {},
   "outputs": [
    {
     "data": {
      "text/html": [
       "<div>\n",
       "<style scoped>\n",
       "    .dataframe tbody tr th:only-of-type {\n",
       "        vertical-align: middle;\n",
       "    }\n",
       "\n",
       "    .dataframe tbody tr th {\n",
       "        vertical-align: top;\n",
       "    }\n",
       "\n",
       "    .dataframe thead th {\n",
       "        text-align: right;\n",
       "    }\n",
       "</style>\n",
       "<table border=\"1\" class=\"dataframe\">\n",
       "  <thead>\n",
       "    <tr style=\"text-align: right;\">\n",
       "      <th></th>\n",
       "      <th>Nombre Entidad</th>\n",
       "      <th>Departamento</th>\n",
       "      <th>Orden</th>\n",
       "      <th>Sector</th>\n",
       "      <th>Rama</th>\n",
       "      <th>Entidad Centralizada</th>\n",
       "      <th>Estado Contrato</th>\n",
       "      <th>Tipo de Contrato</th>\n",
       "      <th>Modalidad de Contratacion</th>\n",
       "      <th>Fecha de Inicio del Contrato</th>\n",
       "      <th>...</th>\n",
       "      <th>Dias Adicionados</th>\n",
       "      <th>PGN</th>\n",
       "      <th>SGP</th>\n",
       "      <th>SGR</th>\n",
       "      <th>RP_AGR</th>\n",
       "      <th>RP_NO_AGR</th>\n",
       "      <th>RC</th>\n",
       "      <th>Delay</th>\n",
       "      <th>NormalizedDelay</th>\n",
       "      <th>Delay_ABC</th>\n",
       "    </tr>\n",
       "  </thead>\n",
       "  <tbody>\n",
       "    <tr>\n",
       "      <th>98998</th>\n",
       "      <td>SUBRED INTEGRADA DE SERVICIOS DE SALUD SUR E.S.E</td>\n",
       "      <td>Bogotá, D.C.</td>\n",
       "      <td>Territorial</td>\n",
       "      <td>Salud y Protección Social</td>\n",
       "      <td>Ejecutivo</td>\n",
       "      <td>Descentralizada</td>\n",
       "      <td>Modificado</td>\n",
       "      <td>Prestación de servicios</td>\n",
       "      <td>Contratación régimen especial</td>\n",
       "      <td>2022-02-02</td>\n",
       "      <td>...</td>\n",
       "      <td>91</td>\n",
       "      <td>0</td>\n",
       "      <td>0</td>\n",
       "      <td>0</td>\n",
       "      <td>0</td>\n",
       "      <td>1</td>\n",
       "      <td>0</td>\n",
       "      <td>2</td>\n",
       "      <td>0.50838</td>\n",
       "      <td>2</td>\n",
       "    </tr>\n",
       "  </tbody>\n",
       "</table>\n",
       "<p>1 rows × 35 columns</p>\n",
       "</div>"
      ],
      "text/plain": [
       "                                         Nombre Entidad  Departamento  \\\n",
       "98998  SUBRED INTEGRADA DE SERVICIOS DE SALUD SUR E.S.E  Bogotá, D.C.   \n",
       "\n",
       "             Orden                     Sector       Rama Entidad Centralizada  \\\n",
       "98998  Territorial  Salud y Protección Social  Ejecutivo      Descentralizada   \n",
       "\n",
       "      Estado Contrato         Tipo de Contrato      Modalidad de Contratacion  \\\n",
       "98998      Modificado  Prestación de servicios  Contratación régimen especial   \n",
       "\n",
       "      Fecha de Inicio del Contrato  ... Dias Adicionados PGN SGP SGR RP_AGR  \\\n",
       "98998                   2022-02-02  ...               91   0   0   0      0   \n",
       "\n",
       "       RP_NO_AGR  RC  Delay  NormalizedDelay  Delay_ABC  \n",
       "98998          1   0      2          0.50838          2  \n",
       "\n",
       "[1 rows x 35 columns]"
      ]
     },
     "execution_count": 23,
     "metadata": {},
     "output_type": "execute_result"
    }
   ],
   "source": [
    "df[df.Delay_ABC==2].sample()"
   ]
  },
  {
   "cell_type": "code",
   "execution_count": 24,
   "metadata": {},
   "outputs": [
    {
     "data": {
      "text/html": [
       "<div>\n",
       "<style scoped>\n",
       "    .dataframe tbody tr th:only-of-type {\n",
       "        vertical-align: middle;\n",
       "    }\n",
       "\n",
       "    .dataframe tbody tr th {\n",
       "        vertical-align: top;\n",
       "    }\n",
       "\n",
       "    .dataframe thead th {\n",
       "        text-align: right;\n",
       "    }\n",
       "</style>\n",
       "<table border=\"1\" class=\"dataframe\">\n",
       "  <thead>\n",
       "    <tr style=\"text-align: right;\">\n",
       "      <th></th>\n",
       "      <th>Nombre Entidad</th>\n",
       "      <th>Departamento</th>\n",
       "      <th>Orden</th>\n",
       "      <th>Sector</th>\n",
       "      <th>Rama</th>\n",
       "      <th>Entidad Centralizada</th>\n",
       "      <th>Estado Contrato</th>\n",
       "      <th>Tipo de Contrato</th>\n",
       "      <th>Modalidad de Contratacion</th>\n",
       "      <th>Fecha de Inicio del Contrato</th>\n",
       "      <th>...</th>\n",
       "      <th>Dias Adicionados</th>\n",
       "      <th>PGN</th>\n",
       "      <th>SGP</th>\n",
       "      <th>SGR</th>\n",
       "      <th>RP_AGR</th>\n",
       "      <th>RP_NO_AGR</th>\n",
       "      <th>RC</th>\n",
       "      <th>Delay</th>\n",
       "      <th>NormalizedDelay</th>\n",
       "      <th>Delay_ABC</th>\n",
       "    </tr>\n",
       "  </thead>\n",
       "  <tbody>\n",
       "    <tr>\n",
       "      <th>1136349</th>\n",
       "      <td>SUBRED INTEGRADA DE SERVICIOS DE SALUD NORTE E...</td>\n",
       "      <td>Bogotá, D.C.</td>\n",
       "      <td>Territorial</td>\n",
       "      <td>Salud y Protección Social</td>\n",
       "      <td>Corporación Autónoma</td>\n",
       "      <td>Descentralizada</td>\n",
       "      <td>Modificado</td>\n",
       "      <td>DecreeLaw092/2017</td>\n",
       "      <td>Contratación régimen especial</td>\n",
       "      <td>2021-02-24</td>\n",
       "      <td>...</td>\n",
       "      <td>31</td>\n",
       "      <td>0</td>\n",
       "      <td>0</td>\n",
       "      <td>0</td>\n",
       "      <td>0</td>\n",
       "      <td>1</td>\n",
       "      <td>0</td>\n",
       "      <td>3</td>\n",
       "      <td>0.885714</td>\n",
       "      <td>3</td>\n",
       "    </tr>\n",
       "  </tbody>\n",
       "</table>\n",
       "<p>1 rows × 35 columns</p>\n",
       "</div>"
      ],
      "text/plain": [
       "                                            Nombre Entidad  Departamento  \\\n",
       "1136349  SUBRED INTEGRADA DE SERVICIOS DE SALUD NORTE E...  Bogotá, D.C.   \n",
       "\n",
       "               Orden                     Sector                  Rama  \\\n",
       "1136349  Territorial  Salud y Protección Social  Corporación Autónoma   \n",
       "\n",
       "        Entidad Centralizada Estado Contrato   Tipo de Contrato  \\\n",
       "1136349      Descentralizada      Modificado  DecreeLaw092/2017   \n",
       "\n",
       "             Modalidad de Contratacion Fecha de Inicio del Contrato  ...  \\\n",
       "1136349  Contratación régimen especial                   2021-02-24  ...   \n",
       "\n",
       "        Dias Adicionados PGN SGP SGR RP_AGR  RP_NO_AGR  RC  Delay  \\\n",
       "1136349               31   0   0   0      0          1   0      3   \n",
       "\n",
       "         NormalizedDelay  Delay_ABC  \n",
       "1136349         0.885714          3  \n",
       "\n",
       "[1 rows x 35 columns]"
      ]
     },
     "execution_count": 24,
     "metadata": {},
     "output_type": "execute_result"
    }
   ],
   "source": [
    "df[df.Delay_ABC==3].sample()"
   ]
  },
  {
   "cell_type": "markdown",
   "metadata": {},
   "source": [
    "# Delay_EQ\n",
    "\n",
    "The column **Delay_EQ** is determined by dividing the range of **NormalizedDelay**>0 which is (0,1] into equal intervals.\n",
    "By that our categories below this criteria would be:\n",
    "\n",
    "0: Contracts of 0 days added\n",
    "\n",
    "1: Contracts with **NormalizedDelay** $\\leq$ 0.3333333333333333\n",
    "\n",
    "2: Contracts with **NormalizedDelay** $\\leq$ 0.6666666666666667\n",
    "\n",
    "3: Contracts with **NormalizedDelay** > 0.6666666666666667"
   ]
  },
  {
   "cell_type": "code",
   "execution_count": 25,
   "metadata": {},
   "outputs": [],
   "source": [
    "df['Delay_EQ'] = 0\n",
    "limit_1 = 0.3333333333333333\n",
    "limit_2 = 0.6666666666666667"
   ]
  },
  {
   "cell_type": "code",
   "execution_count": 26,
   "metadata": {},
   "outputs": [],
   "source": [
    "df.loc[(df['NormalizedDelay'] > 0)& (df['NormalizedDelay'] <= limit_1), 'Delay_EQ'] = 1\n",
    "df.loc[(df['NormalizedDelay'] > limit_1) & (df['NormalizedDelay'] <= limit_2), 'Delay_EQ']= 2\n",
    "df.loc[(df['NormalizedDelay'] > limit_2), 'Delay_EQ'] = 3"
   ]
  },
  {
   "cell_type": "code",
   "execution_count": 27,
   "metadata": {},
   "outputs": [
    {
     "data": {
      "text/html": [
       "<div>\n",
       "<style scoped>\n",
       "    .dataframe tbody tr th:only-of-type {\n",
       "        vertical-align: middle;\n",
       "    }\n",
       "\n",
       "    .dataframe tbody tr th {\n",
       "        vertical-align: top;\n",
       "    }\n",
       "\n",
       "    .dataframe thead th {\n",
       "        text-align: right;\n",
       "    }\n",
       "</style>\n",
       "<table border=\"1\" class=\"dataframe\">\n",
       "  <thead>\n",
       "    <tr style=\"text-align: right;\">\n",
       "      <th></th>\n",
       "      <th>Nombre Entidad</th>\n",
       "      <th>Departamento</th>\n",
       "      <th>Orden</th>\n",
       "      <th>Sector</th>\n",
       "      <th>Rama</th>\n",
       "      <th>Entidad Centralizada</th>\n",
       "      <th>Estado Contrato</th>\n",
       "      <th>Tipo de Contrato</th>\n",
       "      <th>Modalidad de Contratacion</th>\n",
       "      <th>Fecha de Inicio del Contrato</th>\n",
       "      <th>...</th>\n",
       "      <th>PGN</th>\n",
       "      <th>SGP</th>\n",
       "      <th>SGR</th>\n",
       "      <th>RP_AGR</th>\n",
       "      <th>RP_NO_AGR</th>\n",
       "      <th>RC</th>\n",
       "      <th>Delay</th>\n",
       "      <th>NormalizedDelay</th>\n",
       "      <th>Delay_ABC</th>\n",
       "      <th>Delay_EQ</th>\n",
       "    </tr>\n",
       "  </thead>\n",
       "  <tbody>\n",
       "    <tr>\n",
       "      <th>41960</th>\n",
       "      <td>GOBERNACION NORTE DE SANTANDER</td>\n",
       "      <td>Norte de Santander</td>\n",
       "      <td>Territorial</td>\n",
       "      <td>No aplica/No pertenece</td>\n",
       "      <td>Ejecutivo</td>\n",
       "      <td>Centralizada</td>\n",
       "      <td>Modificado</td>\n",
       "      <td>Prestación de servicios</td>\n",
       "      <td>Contratación directa</td>\n",
       "      <td>2022-01-28</td>\n",
       "      <td>...</td>\n",
       "      <td>0</td>\n",
       "      <td>0</td>\n",
       "      <td>0</td>\n",
       "      <td>1</td>\n",
       "      <td>0</td>\n",
       "      <td>0</td>\n",
       "      <td>0</td>\n",
       "      <td>0.000000</td>\n",
       "      <td>0</td>\n",
       "      <td>0</td>\n",
       "    </tr>\n",
       "    <tr>\n",
       "      <th>1421500</th>\n",
       "      <td>DEPARTAMENTO ADMINISTRATIVO NACIONAL DE ESTADÍ...</td>\n",
       "      <td>Atlántico</td>\n",
       "      <td>Nacional</td>\n",
       "      <td>Información Estadística</td>\n",
       "      <td>Ejecutivo</td>\n",
       "      <td>Descentralizada</td>\n",
       "      <td>En ejecución</td>\n",
       "      <td>Prestación de servicios</td>\n",
       "      <td>Contratación directa</td>\n",
       "      <td>2021-01-18</td>\n",
       "      <td>...</td>\n",
       "      <td>1</td>\n",
       "      <td>0</td>\n",
       "      <td>0</td>\n",
       "      <td>0</td>\n",
       "      <td>0</td>\n",
       "      <td>0</td>\n",
       "      <td>0</td>\n",
       "      <td>0.000000</td>\n",
       "      <td>0</td>\n",
       "      <td>0</td>\n",
       "    </tr>\n",
       "    <tr>\n",
       "      <th>1546700</th>\n",
       "      <td>MUNICIPIO DE LA UNION</td>\n",
       "      <td>Valle del Cauca</td>\n",
       "      <td>Territorial</td>\n",
       "      <td>No aplica/No pertenece</td>\n",
       "      <td>Ejecutivo</td>\n",
       "      <td>Centralizada</td>\n",
       "      <td>En ejecución</td>\n",
       "      <td>Prestación de servicios</td>\n",
       "      <td>Contratación directa</td>\n",
       "      <td>2021-04-23</td>\n",
       "      <td>...</td>\n",
       "      <td>0</td>\n",
       "      <td>1</td>\n",
       "      <td>0</td>\n",
       "      <td>0</td>\n",
       "      <td>0</td>\n",
       "      <td>0</td>\n",
       "      <td>0</td>\n",
       "      <td>0.000000</td>\n",
       "      <td>0</td>\n",
       "      <td>0</td>\n",
       "    </tr>\n",
       "    <tr>\n",
       "      <th>1351061</th>\n",
       "      <td>CONTRALORIA DEPARTAMENTAL DEL HUILA</td>\n",
       "      <td>Huila</td>\n",
       "      <td>Territorial</td>\n",
       "      <td>Servicio Público</td>\n",
       "      <td>Corporación Autónoma</td>\n",
       "      <td>Centralizada</td>\n",
       "      <td>Activo</td>\n",
       "      <td>Prestación de servicios</td>\n",
       "      <td>Selección Abreviada de Menor Cuantía</td>\n",
       "      <td>2018-10-31</td>\n",
       "      <td>...</td>\n",
       "      <td>0</td>\n",
       "      <td>0</td>\n",
       "      <td>0</td>\n",
       "      <td>0</td>\n",
       "      <td>0</td>\n",
       "      <td>0</td>\n",
       "      <td>0</td>\n",
       "      <td>0.000000</td>\n",
       "      <td>0</td>\n",
       "      <td>0</td>\n",
       "    </tr>\n",
       "    <tr>\n",
       "      <th>309085</th>\n",
       "      <td>SUBRED INTEGRADA DE SERVICIOS DE SALUD SUR OCC...</td>\n",
       "      <td>Bogotá, D.C.</td>\n",
       "      <td>Territorial</td>\n",
       "      <td>Salud y Protección Social</td>\n",
       "      <td>Ejecutivo</td>\n",
       "      <td>Descentralizada</td>\n",
       "      <td>Modificado</td>\n",
       "      <td>Prestación de servicios</td>\n",
       "      <td>Contratación régimen especial</td>\n",
       "      <td>2022-04-04</td>\n",
       "      <td>...</td>\n",
       "      <td>0</td>\n",
       "      <td>0</td>\n",
       "      <td>0</td>\n",
       "      <td>1</td>\n",
       "      <td>0</td>\n",
       "      <td>0</td>\n",
       "      <td>2</td>\n",
       "      <td>0.333333</td>\n",
       "      <td>2</td>\n",
       "      <td>1</td>\n",
       "    </tr>\n",
       "    <tr>\n",
       "      <th>429971</th>\n",
       "      <td>ALCALDIA DISTRITAL BARRANCABERMEJA</td>\n",
       "      <td>Santander</td>\n",
       "      <td>Territorial</td>\n",
       "      <td>Servicio Público</td>\n",
       "      <td>Ejecutivo</td>\n",
       "      <td>Centralizada</td>\n",
       "      <td>terminado</td>\n",
       "      <td>Prestación de servicios</td>\n",
       "      <td>Contratación directa</td>\n",
       "      <td>2021-07-28</td>\n",
       "      <td>...</td>\n",
       "      <td>0</td>\n",
       "      <td>0</td>\n",
       "      <td>0</td>\n",
       "      <td>1</td>\n",
       "      <td>0</td>\n",
       "      <td>0</td>\n",
       "      <td>0</td>\n",
       "      <td>0.000000</td>\n",
       "      <td>0</td>\n",
       "      <td>0</td>\n",
       "    </tr>\n",
       "    <tr>\n",
       "      <th>661860</th>\n",
       "      <td>INSTITUTO DE MOVILIDAD DE PEREIRA</td>\n",
       "      <td>Risaralda</td>\n",
       "      <td>Territorial</td>\n",
       "      <td>Transporte</td>\n",
       "      <td>Ejecutivo</td>\n",
       "      <td>Descentralizada</td>\n",
       "      <td>Modificado</td>\n",
       "      <td>Prestación de servicios</td>\n",
       "      <td>Contratación directa</td>\n",
       "      <td>2022-02-03</td>\n",
       "      <td>...</td>\n",
       "      <td>0</td>\n",
       "      <td>0</td>\n",
       "      <td>0</td>\n",
       "      <td>0</td>\n",
       "      <td>1</td>\n",
       "      <td>0</td>\n",
       "      <td>0</td>\n",
       "      <td>0.000000</td>\n",
       "      <td>0</td>\n",
       "      <td>0</td>\n",
       "    </tr>\n",
       "    <tr>\n",
       "      <th>1087886</th>\n",
       "      <td>JARDÍN BOTÁNICO JOSÉ CELESTINO MUTIS</td>\n",
       "      <td>Bogotá, D.C.</td>\n",
       "      <td>Territorial</td>\n",
       "      <td>Ambiente y Desarrollo Sostenible</td>\n",
       "      <td>Corporación Autónoma</td>\n",
       "      <td>Descentralizada</td>\n",
       "      <td>terminado</td>\n",
       "      <td>Prestación de servicios</td>\n",
       "      <td>Contratación directa</td>\n",
       "      <td>2019-02-22</td>\n",
       "      <td>...</td>\n",
       "      <td>0</td>\n",
       "      <td>0</td>\n",
       "      <td>0</td>\n",
       "      <td>0</td>\n",
       "      <td>0</td>\n",
       "      <td>0</td>\n",
       "      <td>0</td>\n",
       "      <td>0.000000</td>\n",
       "      <td>0</td>\n",
       "      <td>0</td>\n",
       "    </tr>\n",
       "    <tr>\n",
       "      <th>39930</th>\n",
       "      <td>MUNICIPIO DE VILLA DE LEYVA</td>\n",
       "      <td>Boyacá</td>\n",
       "      <td>Territorial</td>\n",
       "      <td>Servicio Público</td>\n",
       "      <td>Ejecutivo</td>\n",
       "      <td>Descentralizada</td>\n",
       "      <td>En ejecución</td>\n",
       "      <td>Prestación de servicios</td>\n",
       "      <td>Contratación directa</td>\n",
       "      <td>2021-11-12</td>\n",
       "      <td>...</td>\n",
       "      <td>0</td>\n",
       "      <td>0</td>\n",
       "      <td>0</td>\n",
       "      <td>1</td>\n",
       "      <td>0</td>\n",
       "      <td>0</td>\n",
       "      <td>0</td>\n",
       "      <td>0.000000</td>\n",
       "      <td>0</td>\n",
       "      <td>0</td>\n",
       "    </tr>\n",
       "    <tr>\n",
       "      <th>249293</th>\n",
       "      <td>PERSONERIA DE BOGOTA</td>\n",
       "      <td>Bogotá, D.C.</td>\n",
       "      <td>Corporación Autónoma</td>\n",
       "      <td>Trabajo</td>\n",
       "      <td>Corporación Autónoma</td>\n",
       "      <td>Centralizada</td>\n",
       "      <td>Cerrado</td>\n",
       "      <td>Prestación de servicios</td>\n",
       "      <td>Contratación directa</td>\n",
       "      <td>2020-01-09</td>\n",
       "      <td>...</td>\n",
       "      <td>0</td>\n",
       "      <td>0</td>\n",
       "      <td>0</td>\n",
       "      <td>0</td>\n",
       "      <td>0</td>\n",
       "      <td>0</td>\n",
       "      <td>0</td>\n",
       "      <td>0.000000</td>\n",
       "      <td>0</td>\n",
       "      <td>0</td>\n",
       "    </tr>\n",
       "  </tbody>\n",
       "</table>\n",
       "<p>10 rows × 36 columns</p>\n",
       "</div>"
      ],
      "text/plain": [
       "                                            Nombre Entidad  \\\n",
       "41960                       GOBERNACION NORTE DE SANTANDER   \n",
       "1421500  DEPARTAMENTO ADMINISTRATIVO NACIONAL DE ESTADÍ...   \n",
       "1546700                              MUNICIPIO DE LA UNION   \n",
       "1351061                CONTRALORIA DEPARTAMENTAL DEL HUILA   \n",
       "309085   SUBRED INTEGRADA DE SERVICIOS DE SALUD SUR OCC...   \n",
       "429971                  ALCALDIA DISTRITAL BARRANCABERMEJA   \n",
       "661860                   INSTITUTO DE MOVILIDAD DE PEREIRA   \n",
       "1087886               JARDÍN BOTÁNICO JOSÉ CELESTINO MUTIS   \n",
       "39930                          MUNICIPIO DE VILLA DE LEYVA   \n",
       "249293                                PERSONERIA DE BOGOTA   \n",
       "\n",
       "               Departamento                 Orden  \\\n",
       "41960    Norte de Santander           Territorial   \n",
       "1421500           Atlántico              Nacional   \n",
       "1546700     Valle del Cauca           Territorial   \n",
       "1351061               Huila           Territorial   \n",
       "309085         Bogotá, D.C.           Territorial   \n",
       "429971            Santander           Territorial   \n",
       "661860            Risaralda           Territorial   \n",
       "1087886        Bogotá, D.C.           Territorial   \n",
       "39930                Boyacá           Territorial   \n",
       "249293         Bogotá, D.C.  Corporación Autónoma   \n",
       "\n",
       "                                   Sector                  Rama  \\\n",
       "41960              No aplica/No pertenece             Ejecutivo   \n",
       "1421500           Información Estadística             Ejecutivo   \n",
       "1546700            No aplica/No pertenece             Ejecutivo   \n",
       "1351061                  Servicio Público  Corporación Autónoma   \n",
       "309085          Salud y Protección Social             Ejecutivo   \n",
       "429971                   Servicio Público             Ejecutivo   \n",
       "661860                         Transporte             Ejecutivo   \n",
       "1087886  Ambiente y Desarrollo Sostenible  Corporación Autónoma   \n",
       "39930                    Servicio Público             Ejecutivo   \n",
       "249293                            Trabajo  Corporación Autónoma   \n",
       "\n",
       "        Entidad Centralizada Estado Contrato         Tipo de Contrato  \\\n",
       "41960           Centralizada      Modificado  Prestación de servicios   \n",
       "1421500      Descentralizada    En ejecución  Prestación de servicios   \n",
       "1546700         Centralizada    En ejecución  Prestación de servicios   \n",
       "1351061         Centralizada          Activo  Prestación de servicios   \n",
       "309085       Descentralizada      Modificado  Prestación de servicios   \n",
       "429971          Centralizada       terminado  Prestación de servicios   \n",
       "661860       Descentralizada      Modificado  Prestación de servicios   \n",
       "1087886      Descentralizada       terminado  Prestación de servicios   \n",
       "39930        Descentralizada    En ejecución  Prestación de servicios   \n",
       "249293          Centralizada         Cerrado  Prestación de servicios   \n",
       "\n",
       "                    Modalidad de Contratacion Fecha de Inicio del Contrato  \\\n",
       "41960                    Contratación directa                   2022-01-28   \n",
       "1421500                  Contratación directa                   2021-01-18   \n",
       "1546700                  Contratación directa                   2021-04-23   \n",
       "1351061  Selección Abreviada de Menor Cuantía                   2018-10-31   \n",
       "309085          Contratación régimen especial                   2022-04-04   \n",
       "429971                   Contratación directa                   2021-07-28   \n",
       "661860                   Contratación directa                   2022-02-03   \n",
       "1087886                  Contratación directa                   2019-02-22   \n",
       "39930                    Contratación directa                   2021-11-12   \n",
       "249293                   Contratación directa                   2020-01-09   \n",
       "\n",
       "         ... PGN SGP SGR RP_AGR RP_NO_AGR  RC  Delay  NormalizedDelay  \\\n",
       "41960    ...   0   0   0      1         0   0      0         0.000000   \n",
       "1421500  ...   1   0   0      0         0   0      0         0.000000   \n",
       "1546700  ...   0   1   0      0         0   0      0         0.000000   \n",
       "1351061  ...   0   0   0      0         0   0      0         0.000000   \n",
       "309085   ...   0   0   0      1         0   0      2         0.333333   \n",
       "429971   ...   0   0   0      1         0   0      0         0.000000   \n",
       "661860   ...   0   0   0      0         1   0      0         0.000000   \n",
       "1087886  ...   0   0   0      0         0   0      0         0.000000   \n",
       "39930    ...   0   0   0      1         0   0      0         0.000000   \n",
       "249293   ...   0   0   0      0         0   0      0         0.000000   \n",
       "\n",
       "         Delay_ABC  Delay_EQ  \n",
       "41960            0         0  \n",
       "1421500          0         0  \n",
       "1546700          0         0  \n",
       "1351061          0         0  \n",
       "309085           2         1  \n",
       "429971           0         0  \n",
       "661860           0         0  \n",
       "1087886          0         0  \n",
       "39930            0         0  \n",
       "249293           0         0  \n",
       "\n",
       "[10 rows x 36 columns]"
      ]
     },
     "execution_count": 27,
     "metadata": {},
     "output_type": "execute_result"
    }
   ],
   "source": [
    "df.sample(10)"
   ]
  },
  {
   "cell_type": "markdown",
   "metadata": {},
   "source": [
    "# Modelo XGBoost-2 Variable Delay_ABC"
   ]
  },
  {
   "cell_type": "code",
   "execution_count": 28,
   "metadata": {},
   "outputs": [
    {
     "name": "stdout",
     "output_type": "stream",
     "text": [
      "Index(['Nombre Entidad', 'Departamento', 'Orden', 'Sector', 'Rama',\n",
      "       'Entidad Centralizada', 'Estado Contrato', 'Tipo de Contrato',\n",
      "       'Modalidad de Contratacion', 'Fecha de Inicio del Contrato',\n",
      "       'Fecha de Fin del Contrato', 'Es Grupo', 'Es Pyme',\n",
      "       'Obligación Ambiental', 'Obligaciones Postconsumo',\n",
      "       'Valor del Contrato', 'Valor de pago adelantado', 'Valor Facturado',\n",
      "       'Valor Pendiente de Pago', 'Valor Pagado', 'Valor Amortizado',\n",
      "       'Valor Pendiente de Amortizacion', 'Valor Pendiente de Ejecucion',\n",
      "       'EsPostConflicto', 'Destino Gasto', 'Dias Adicionados', 'PGN', 'SGP',\n",
      "       'SGR', 'RP_AGR', 'RP_NO_AGR', 'RC', 'Delay', 'NormalizedDelay',\n",
      "       'Delay_ABC', 'Delay_EQ'],\n",
      "      dtype='object')\n"
     ]
    }
   ],
   "source": [
    "print(df.columns)"
   ]
  },
  {
   "cell_type": "code",
   "execution_count": 29,
   "metadata": {},
   "outputs": [],
   "source": [
    "y = df['Delay_ABC'].astype('category')\n",
    "X = df.drop(['Delay'], axis=1)[['Departamento','Orden','Sector',\n",
    "                                            'Rama','Entidad Centralizada',\n",
    "                                            'Estado Contrato', 'Tipo de Contrato', 'Modalidad de Contratacion',\n",
    "                                            'Es Grupo','Es Pyme', 'Valor del Contrato', 'Valor de pago adelantado',\n",
    "                                             'Valor Facturado','Valor Pendiente de Pago', 'Valor Amortizado',\n",
    "                                            'EsPostConflicto', 'Destino Gasto',\n",
    "                                            'PGN','SGP','SGR','RP_AGR','RP_NO_AGR','RC']]"
   ]
  },
  {
   "cell_type": "code",
   "execution_count": 34,
   "metadata": {},
   "outputs": [],
   "source": [
    "# Separación de variables predictoras (X) y variable de interés (y) en set de entrenamiento y test usandola función train_test_split\n",
    "from sklearn.model_selection import train_test_split\n",
    "\n",
    "X_train, X_test, y_train, y_test = train_test_split(X, y, test_size=0.33, random_state=42)\n",
    "n_samples = X_train.shape[0]"
   ]
  },
  {
   "cell_type": "code",
   "execution_count": 35,
   "metadata": {},
   "outputs": [],
   "source": [
    "#!pip install xgboost"
   ]
  },
  {
   "cell_type": "code",
   "execution_count": 38,
   "metadata": {},
   "outputs": [],
   "source": [
    "# Importación y definición de modelo XGBClassifier\n",
    "\n",
    "from xgboost import XGBClassifier\n",
    "from sklearn import metrics \n",
    "\n",
    "clf = XGBClassifier(tree_method=\"hist\", enable_categorical=True)\n",
    "\n",
    "# Entrenamiento (fit) y desempeño del modelo XGBClassifier\n",
    "clf.fit(X_train, y_train)\n",
    "y_pred = clf.predict(X_test)"
   ]
  },
  {
   "cell_type": "code",
   "execution_count": 39,
   "metadata": {},
   "outputs": [
    {
     "data": {
      "text/plain": [
       "(0.6120535911329996, 0.9071722591433017)"
      ]
     },
     "execution_count": 39,
     "metadata": {},
     "output_type": "execute_result"
    }
   ],
   "source": [
    "metrics.f1_score(y_pred, y_test.values, average= 'macro'), metrics.accuracy_score(y_pred, y_test.values)"
   ]
  },
  {
   "cell_type": "markdown",
   "metadata": {},
   "source": [
    "# Modelo XGBoost-3 Variable Delay_EQ"
   ]
  },
  {
   "cell_type": "code",
   "execution_count": 40,
   "metadata": {},
   "outputs": [],
   "source": [
    "y = df['Delay_EQ'].astype('category')"
   ]
  },
  {
   "cell_type": "code",
   "execution_count": 41,
   "metadata": {},
   "outputs": [],
   "source": [
    "X_train, X_test, y_train, y_test = train_test_split(X, y, test_size=0.33, random_state=42)\n",
    "n_samples = X_train.shape[0]"
   ]
  },
  {
   "cell_type": "code",
   "execution_count": 42,
   "metadata": {},
   "outputs": [],
   "source": [
    "clf2 = XGBClassifier(tree_method=\"hist\", enable_categorical=True)\n",
    "\n",
    "# Entrenamiento (fit) y desempeño del modelo XGBClassifier\n",
    "clf.fit(X_train, y_train)\n",
    "y_pred = clf.predict(X_test)"
   ]
  },
  {
   "cell_type": "code",
   "execution_count": 43,
   "metadata": {},
   "outputs": [
    {
     "data": {
      "text/plain": [
       "(0.6047590546102186, 0.9110945580527396)"
      ]
     },
     "execution_count": 43,
     "metadata": {},
     "output_type": "execute_result"
    }
   ],
   "source": [
    "metrics.f1_score(y_pred, y_test.values, average= 'macro'), metrics.accuracy_score(y_pred, y_test.values)\n",
    "(0.6047590546102186, 0.9110945580527396"
   ]
  },
  {
   "cell_type": "markdown",
   "metadata": {},
   "source": [
    "# Modelo XGBoost -1 Ajustado con One Hot Encoding "
   ]
  },
  {
   "cell_type": "code",
   "execution_count": 45,
   "metadata": {},
   "outputs": [
    {
     "name": "stdout",
     "output_type": "stream",
     "text": [
      "<class 'pandas.core.frame.DataFrame'>\n",
      "RangeIndex: 1562161 entries, 0 to 1562160\n",
      "Data columns (total 23 columns):\n",
      " #   Column                     Non-Null Count    Dtype   \n",
      "---  ------                     --------------    -----   \n",
      " 0   Departamento               1562161 non-null  category\n",
      " 1   Orden                      1562161 non-null  category\n",
      " 2   Sector                     1562161 non-null  category\n",
      " 3   Rama                       1562161 non-null  category\n",
      " 4   Entidad Centralizada       1562161 non-null  category\n",
      " 5   Estado Contrato            1562161 non-null  category\n",
      " 6   Tipo de Contrato           1562161 non-null  category\n",
      " 7   Modalidad de Contratacion  1562161 non-null  category\n",
      " 8   Es Grupo                   1562161 non-null  category\n",
      " 9   Es Pyme                    1562161 non-null  category\n",
      " 10  Valor del Contrato         1562161 non-null  int64   \n",
      " 11  Valor de pago adelantado   1562161 non-null  int64   \n",
      " 12  Valor Facturado            1562161 non-null  int64   \n",
      " 13  Valor Pendiente de Pago    1562161 non-null  int64   \n",
      " 14  Valor Amortizado           1562161 non-null  int64   \n",
      " 15  EsPostConflicto            1562161 non-null  category\n",
      " 16  Destino Gasto              1562161 non-null  category\n",
      " 17  PGN                        1562161 non-null  int64   \n",
      " 18  SGP                        1562161 non-null  int64   \n",
      " 19  SGR                        1562161 non-null  int64   \n",
      " 20  RP_AGR                     1562161 non-null  int64   \n",
      " 21  RP_NO_AGR                  1562161 non-null  int64   \n",
      " 22  RC                         1562161 non-null  int64   \n",
      "dtypes: category(12), int64(11)\n",
      "memory usage: 149.0 MB\n"
     ]
    }
   ],
   "source": [
    "X.info()"
   ]
  },
  {
   "cell_type": "code",
   "execution_count": 53,
   "metadata": {},
   "outputs": [],
   "source": [
    "X = pd.get_dummies(X, drop_first=True)"
   ]
  },
  {
   "cell_type": "code",
   "execution_count": 54,
   "metadata": {},
   "outputs": [],
   "source": [
    "y = df['Delay'].astype('category')"
   ]
  },
  {
   "cell_type": "code",
   "execution_count": 55,
   "metadata": {
    "jupyter": {
     "source_hidden": true
    },
    "tags": []
   },
   "outputs": [],
   "source": [
    "X_train, X_test, y_train, y_test = train_test_split(X, y, test_size=0.33, random_state=42)\n",
    "n_samples = X_train.shape[0]"
   ]
  },
  {
   "cell_type": "code",
   "execution_count": 56,
   "metadata": {},
   "outputs": [],
   "source": [
    "clf2 = XGBClassifier()\n",
    "\n",
    "# Entrenamiento (fit) y desempeño del modelo XGBClassifier\n",
    "clf.fit(X_train, y_train)\n",
    "y_pred = clf.predict(X_test)"
   ]
  },
  {
   "cell_type": "code",
   "execution_count": 57,
   "metadata": {},
   "outputs": [
    {
     "data": {
      "text/plain": [
       "(0.5800027375823203, 0.9010928898148256)"
      ]
     },
     "execution_count": 57,
     "metadata": {},
     "output_type": "execute_result"
    }
   ],
   "source": [
    "metrics.f1_score(y_pred, y_test.values, average= 'macro'), metrics.accuracy_score(y_pred, y_test.values)"
   ]
  },
  {
   "cell_type": "markdown",
   "metadata": {},
   "source": [
    "# Modelo XGBoost -2 Ajustado con One Hot Encoding "
   ]
  },
  {
   "cell_type": "code",
   "execution_count": 82,
   "metadata": {
    "tags": []
   },
   "outputs": [],
   "source": [
    "y = df['Delay_ABC'].astype('category')"
   ]
  },
  {
   "cell_type": "code",
   "execution_count": 83,
   "metadata": {
    "tags": []
   },
   "outputs": [],
   "source": [
    "X_train, X_test, y_train, y_test = train_test_split(X, y, test_size=0.33, random_state=42)\n",
    "n_samples = X_train.shape[0]"
   ]
  },
  {
   "cell_type": "code",
   "execution_count": 84,
   "metadata": {},
   "outputs": [],
   "source": [
    "clf2 = XGBClassifier()\n",
    "\n",
    "# Entrenamiento (fit) y desempeño del modelo XGBClassifier\n",
    "clf.fit(X_train, y_train)\n",
    "y_pred = clf.predict(X_test)"
   ]
  },
  {
   "cell_type": "code",
   "execution_count": null,
   "metadata": {},
   "outputs": [],
   "source": [
    "metrics.f1_score(y_pred, y_test.values, average= 'macro'), metrics.accuracy_score(y_pred, y_test.values)"
   ]
  },
  {
   "cell_type": "code",
   "execution_count": 76,
   "metadata": {},
   "outputs": [
    {
     "data": {
      "text/plain": [
       "780515.1612358321"
      ]
     },
     "execution_count": 76,
     "metadata": {},
     "output_type": "execute_result"
    }
   ],
   "source": [
    "np.mean(X_train.index)"
   ]
  },
  {
   "cell_type": "markdown",
   "metadata": {},
   "source": [
    "## --------------------------------------------------------------------------------------------------------"
   ]
  },
  {
   "cell_type": "code",
   "execution_count": 58,
   "metadata": {
    "tags": []
   },
   "outputs": [],
   "source": [
    "y = df['Delay'].astype('category')"
   ]
  },
  {
   "cell_type": "code",
   "execution_count": 80,
   "metadata": {
    "tags": []
   },
   "outputs": [],
   "source": [
    "X_train, X_test, y_train, y_test = train_test_split(X, y, test_size=0.33, random_state=42)\n",
    "n_samples = X_train.shape[0]"
   ]
  },
  {
   "cell_type": "code",
   "execution_count": 69,
   "metadata": {},
   "outputs": [
    {
     "name": "stdout",
     "output_type": "stream",
     "text": [
      "Requirement already satisfied: numpy in /home/azureuser/.local/lib/python3.8/site-packages (1.22.4)\n"
     ]
    }
   ],
   "source": [
    "!pip install numpy \n",
    "import numpy as np"
   ]
  },
  {
   "cell_type": "code",
   "execution_count": 81,
   "metadata": {},
   "outputs": [
    {
     "data": {
      "text/plain": [
       "780515.1612358321"
      ]
     },
     "execution_count": 81,
     "metadata": {},
     "output_type": "execute_result"
    }
   ],
   "source": [
    "np.mean(X_train.index)"
   ]
  },
  {
   "cell_type": "markdown",
   "metadata": {},
   "source": [
    "## -------------------------------------------------------------------------------------------------------------"
   ]
  },
  {
   "cell_type": "code",
   "execution_count": null,
   "metadata": {},
   "outputs": [],
   "source": []
  }
 ],
 "metadata": {
  "kernelspec": {
   "display_name": "Python 3 (ipykernel)",
   "language": "python",
   "name": "python3"
  },
  "language_info": {
   "codemirror_mode": {
    "name": "ipython",
    "version": 3
   },
   "file_extension": ".py",
   "mimetype": "text/x-python",
   "name": "python",
   "nbconvert_exporter": "python",
   "pygments_lexer": "ipython3",
   "version": "3.8.10"
  },
  "vscode": {
   "interpreter": {
    "hash": "03b0dd66a651b80ff0ba04b778b8c073f2c364864c9a1e8c2e10ba309a544eaa"
   }
  }
 },
 "nbformat": 4,
 "nbformat_minor": 4
}
