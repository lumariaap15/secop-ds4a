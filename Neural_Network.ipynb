{
 "cells": [
  {
   "cell_type": "code",
   "execution_count": 135,
   "metadata": {},
   "outputs": [],
   "source": [
    "import pandas as pd\n",
    "import seaborn as sns\n",
    "import numpy as np\n",
    "from sklearn.model_selection import train_test_split\n",
    "from sklearn import metrics \n",
    "import matplotlib.pyplot as plt\n",
    "import warnings\n",
    "warnings.filterwarnings('ignore')\n",
    "import keras\n",
    "from keras.models import Sequential\n",
    "from keras.layers import Dense, Activation\n",
    "from livelossplot import PlotLossesKeras\n",
    "from keras import backend as K\n",
    "import tensorflow as tf\n",
    "import keras.optimizers as opts\n",
    "from keras.layers.core import Dropout"
   ]
  },
  {
   "cell_type": "code",
   "execution_count": 138,
   "metadata": {},
   "outputs": [],
   "source": [
    "df = pd.read_csv('../../data/SECOP_Electronicos_Cleaned.csv').drop(['NormalizedDelay','Delayed','Unnamed: 0','Nombre Entidad','Dias Adicionados',\n",
    "                                                                                                'Fecha de Inicio del Contrato', 'Fecha de Fin del Contrato'], axis=1)"
   ]
  },
  {
   "cell_type": "code",
   "execution_count": 139,
   "metadata": {},
   "outputs": [
    {
     "data": {
      "text/plain": [
       "Index(['Departamento', 'Orden', 'Sector', 'Rama', 'Entidad Centralizada',\n",
       "       'Estado Contrato', 'Tipo de Contrato', 'Modalidad de Contratacion',\n",
       "       'Es Grupo', 'Es Pyme', 'Obligación Ambiental',\n",
       "       'Obligaciones Postconsumo', 'Valor del Contrato',\n",
       "       'Valor de pago adelantado', 'Valor Facturado',\n",
       "       'Valor Pendiente de Pago', 'Valor Amortizado', 'EsPostConflicto',\n",
       "       'Destino Gasto', 'PGN', 'SGP', 'SGR', 'RP_AGR', 'RP_NO_AGR', 'RC',\n",
       "       'Delay', 'Days_to_end_of_year'],\n",
       "      dtype='object')"
      ]
     },
     "execution_count": 139,
     "metadata": {},
     "output_type": "execute_result"
    }
   ],
   "source": [
    "df.columns"
   ]
  },
  {
   "cell_type": "code",
   "execution_count": 140,
   "metadata": {},
   "outputs": [
    {
     "name": "stdout",
     "output_type": "stream",
     "text": [
      "The shape of the dataset result of data cleaning is : (1562161, 27)\n"
     ]
    }
   ],
   "source": [
    "print('The shape of the dataset result of data cleaning is : ' + str(df.shape))"
   ]
  },
  {
   "cell_type": "code",
   "execution_count": 141,
   "metadata": {},
   "outputs": [
    {
     "name": "stdout",
     "output_type": "stream",
     "text": [
      "<class 'pandas.core.frame.DataFrame'>\n",
      "RangeIndex: 1562161 entries, 0 to 1562160\n",
      "Data columns (total 27 columns):\n",
      " #   Column                     Non-Null Count    Dtype   \n",
      "---  ------                     --------------    -----   \n",
      " 0   Departamento               1562161 non-null  category\n",
      " 1   Orden                      1562161 non-null  category\n",
      " 2   Sector                     1562161 non-null  category\n",
      " 3   Rama                       1562161 non-null  category\n",
      " 4   Entidad Centralizada       1562161 non-null  category\n",
      " 5   Estado Contrato            1562161 non-null  category\n",
      " 6   Tipo de Contrato           1562161 non-null  category\n",
      " 7   Modalidad de Contratacion  1562161 non-null  category\n",
      " 8   Es Grupo                   1562161 non-null  category\n",
      " 9   Es Pyme                    1562161 non-null  category\n",
      " 10  Obligación Ambiental       1562161 non-null  category\n",
      " 11  Obligaciones Postconsumo   1562161 non-null  category\n",
      " 12  Valor del Contrato         1562161 non-null  int64   \n",
      " 13  Valor de pago adelantado   1562161 non-null  int64   \n",
      " 14  Valor Facturado            1562161 non-null  int64   \n",
      " 15  Valor Pendiente de Pago    1562161 non-null  int64   \n",
      " 16  Valor Amortizado           1562161 non-null  int64   \n",
      " 17  EsPostConflicto            1562161 non-null  category\n",
      " 18  Destino Gasto              1562161 non-null  category\n",
      " 19  PGN                        1562161 non-null  int64   \n",
      " 20  SGP                        1562161 non-null  int64   \n",
      " 21  SGR                        1562161 non-null  int64   \n",
      " 22  RP_AGR                     1562161 non-null  int64   \n",
      " 23  RP_NO_AGR                  1562161 non-null  int64   \n",
      " 24  RC                         1562161 non-null  int64   \n",
      " 25  Delay                      1562161 non-null  category\n",
      " 26  Days_to_end_of_year        1562161 non-null  int64   \n",
      "dtypes: category(15), int64(12)\n",
      "memory usage: 165.4 MB\n"
     ]
    }
   ],
   "source": [
    "#Convert the variables to its corresponding data type\n",
    "cat_cols = ['Departamento', 'Orden', 'Sector', 'Rama','Entidad Centralizada', 'Estado Contrato', 'Tipo de Contrato', 'Modalidad de Contratacion',\n",
    "            'Es Grupo','Es Pyme', 'Destino Gasto', 'EsPostConflicto','Obligaciones Postconsumo','Obligación Ambiental', 'Delay']\n",
    "cat_values = {key:'category' for key in cat_cols}\n",
    "df = df.astype(cat_values)\n",
    "df.info()"
   ]
  },
  {
   "cell_type": "code",
   "execution_count": 142,
   "metadata": {},
   "outputs": [
    {
     "name": "stdout",
     "output_type": "stream",
     "text": [
      "The number of rows with Delay = 0 is : 1330540\n",
      "\n",
      "\n",
      "New dataset after downsampling\n",
      "1    144286\n",
      "0    133054\n",
      "2     63713\n",
      "3     23622\n",
      "Name: Delay, dtype: int64\n",
      "\n",
      "\n",
      "Dataset before downsampling\n",
      "0    1330540\n",
      "1     144286\n",
      "2      63713\n",
      "3      23622\n",
      "Name: Delay, dtype: int64\n"
     ]
    }
   ],
   "source": [
    "DelayZero_rows = len(df[df['Delay']==0])\n",
    "print('The number of rows with Delay = 0 is : ' + str(DelayZero_rows))\n",
    "\n",
    "# Rows to delete in downsampling\n",
    "rows_to_delete = int(0.9*DelayZero_rows)\n",
    "\n",
    "# Select all indices\n",
    "candidate_indices = df[df['Delay']==0].index \n",
    "\n",
    "# Randomly Select 35% of all indices\n",
    "candidate_indices = np.random.choice(candidate_indices, size = rows_to_delete, replace = False) \n",
    "df_DownSampling = df.drop(candidate_indices)\n",
    "\n",
    "print('\\n')\n",
    "print('New dataset after downsampling')\n",
    "print(df_DownSampling.Delay.value_counts())\n",
    "print('\\n')\n",
    "print('Dataset before downsampling')\n",
    "print(df.Delay.value_counts())\n"
   ]
  },
  {
   "cell_type": "code",
   "execution_count": 143,
   "metadata": {},
   "outputs": [],
   "source": [
    "df = df_DownSampling"
   ]
  },
  {
   "cell_type": "code",
   "execution_count": 144,
   "metadata": {},
   "outputs": [],
   "source": [
    "# Y vector\n",
    "y = df['Delay'].astype('category')"
   ]
  },
  {
   "cell_type": "code",
   "execution_count": 145,
   "metadata": {},
   "outputs": [],
   "source": [
    "# X Matrix\n",
    "X = df.drop(['Delay'], axis=1)\n",
    "\n",
    "# Codification of predictor variables\n",
    "X.Departamento = X.Departamento.cat.codes\n",
    "X.Orden = X.Orden.cat.codes\n",
    "X.Sector = X.Sector.cat.codes\n",
    "X.Rama = X.Rama.cat.codes\n",
    "X['Entidad Centralizada'] = X['Entidad Centralizada'].cat.codes\n",
    "X['Estado Contrato'] = X['Estado Contrato'].cat.codes\n",
    "X['Tipo de Contrato'] = X['Tipo de Contrato'].cat.codes\n",
    "X['Modalidad de Contratacion'] = X['Modalidad de Contratacion'].cat.codes\n",
    "X['Es Grupo'] = X['Es Grupo'].cat.codes\n",
    "X['Es Pyme'] = X['Es Pyme'].cat.codes\n",
    "X['Destino Gasto'] = X['Destino Gasto'].cat.codes\n",
    "X['EsPostConflicto'] = X['EsPostConflicto'].cat.codes\n",
    "X['Obligaciones Postconsumo'] = X['Obligaciones Postconsumo'].cat.codes\n",
    "X['Obligación Ambiental'] = X['Obligación Ambiental'].cat.codes"
   ]
  },
  {
   "cell_type": "code",
   "execution_count": 146,
   "metadata": {},
   "outputs": [],
   "source": [
    "#Train Test Split\n",
    "X_train, X_test, y_train, y_test = train_test_split(X, y, test_size=0.33, random_state=42)"
   ]
  },
  {
   "cell_type": "code",
   "execution_count": 147,
   "metadata": {},
   "outputs": [],
   "source": [
    "# Normalization of predictor variables (X) with StandardScaler function\n",
    "from sklearn.preprocessing import StandardScaler\n",
    "\n",
    "# StandardScaler funtion \n",
    "scaler = StandardScaler()\n",
    "scaler.fit(X)\n",
    "X_train = pd.DataFrame(data=scaler.transform(X_train), columns=pd.DataFrame(X_train).columns, index=pd.DataFrame(X_train).index)\n",
    "X_test = pd.DataFrame(data=scaler.transform(X_test), columns=pd.DataFrame(X_test).columns, index=pd.DataFrame(X_test).index)\n",
    "X_train = np.array(X_train)\n",
    "y_train = np.array(y_train)\n",
    "X_test = np.array(X_test)\n",
    "y_test = np.array(y_test)"
   ]
  },
  {
   "cell_type": "code",
   "execution_count": 148,
   "metadata": {},
   "outputs": [
    {
     "name": "stdout",
     "output_type": "stream",
     "text": [
      "4  output variables\n",
      "26 input variables\n"
     ]
    }
   ],
   "source": [
    "# Definition of output dimensions, dependent variable\n",
    "output_var = np.unique(y_train).shape[0]\n",
    "print(output_var, ' output variables')\n",
    "# Definition of input dimensions, predictor variables\n",
    "dims = X_train.shape[1]\n",
    "print(dims, 'input variables')"
   ]
  },
  {
   "cell_type": "code",
   "execution_count": 149,
   "metadata": {},
   "outputs": [
    {
     "name": "stdout",
     "output_type": "stream",
     "text": [
      "Model: \"sequential\"\n",
      "_________________________________________________________________\n",
      " Layer (type)                Output Shape              Param #   \n",
      "=================================================================\n",
      " dense (Dense)               (None, 16)                432       \n",
      "                                                                 \n",
      " dense_1 (Dense)             (None, 4)                 68        \n",
      "                                                                 \n",
      "=================================================================\n",
      "Total params: 500\n",
      "Trainable params: 500\n",
      "Non-trainable params: 0\n",
      "_________________________________________________________________\n",
      "None\n"
     ]
    }
   ],
   "source": [
    "K.clear_session()\n",
    "\n",
    "# The NN is defined with Sequential() mode\n",
    "model = Sequential()\n",
    "# Definition of layer with an output size equal to output_var and an input_shape of dims\n",
    "model.add( Dense(16, input_shape=(dims,), activation='relu') )\n",
    "#model.add(Dropout(0.1))\n",
    "#model.add(Dense(8,activation='relu'))\n",
    "#model.add(Dropout(0.1))\n",
    "model.add(Dense(output_var,activation='softmax'))\n",
    "\n",
    "# Neural Network architecture\n",
    "print(model.summary())"
   ]
  },
  {
   "cell_type": "code",
   "execution_count": 152,
   "metadata": {},
   "outputs": [],
   "source": [
    "# Definition of loss function. SparseCategoricalCrossentropy is used since it is a Multi-class classification exercise.\n",
    "#opt = keras.optimizers.Adam(learning_rate=0.01)\n",
    "model.compile(optimizer='adam',\n",
    "              loss=tf.keras.losses.SparseCategoricalCrossentropy())"
   ]
  },
  {
   "cell_type": "code",
   "execution_count": null,
   "metadata": {},
   "outputs": [
    {
     "data": {
      "image/png": "[encoded data removed]",
      "text/plain": [
       "<Figure size 864x576 with 2 Axes>"
      ]
     },
     "metadata": {
      "needs_background": "light"
     },
     "output_type": "display_data"
    },
    {
     "name": "stdout",
     "output_type": "stream",
     "text": [
      "Loss\n",
      "\ttraining         \t (min:    0.622, max:    0.754, cur:    0.622)\n",
      "\tvalidation       \t (min:    0.620, max:    0.674, cur:    0.621)\n",
      "7636/7636 [==============================] - 11s 1ms/step - loss: 0.6220 - val_loss: 0.6206\n",
      "Epoch 48/50\n",
      "2130/7636 [=======>......................] - ETA: 5s - loss: 0.6162"
     ]
    }
   ],
   "source": [
    "# Neural Network training during 50 epochs\n",
    "\n",
    "# This cell takes time to run \n",
    "\n",
    "model.fit(X_train, y_train, \n",
    "          verbose=1, \n",
    "          epochs=50, \n",
    "          validation_data=(X_test, y_test),\n",
    "          callbacks=[PlotLossesKeras()])"
   ]
  },
  {
   "cell_type": "code",
   "execution_count": null,
   "metadata": {},
   "outputs": [],
   "source": [
    "# This cell takes time to run \n",
    "y_pred = model.predict(X_test)"
   ]
  },
  {
   "cell_type": "code",
   "execution_count": 160,
   "metadata": {},
   "outputs": [
    {
     "name": "stdout",
     "output_type": "stream",
     "text": [
      "(120343, 5)\n"
     ]
    },
    {
     "data": {
      "text/html": [
       "<div>\n",
       "<style scoped>\n",
       "    .dataframe tbody tr th:only-of-type {\n",
       "        vertical-align: middle;\n",
       "    }\n",
       "\n",
       "    .dataframe tbody tr th {\n",
       "        vertical-align: top;\n",
       "    }\n",
       "\n",
       "    .dataframe thead th {\n",
       "        text-align: right;\n",
       "    }\n",
       "</style>\n",
       "<table border=\"1\" class=\"dataframe\">\n",
       "  <thead>\n",
       "    <tr style=\"text-align: right;\">\n",
       "      <th></th>\n",
       "      <th>0</th>\n",
       "      <th>1</th>\n",
       "      <th>2</th>\n",
       "      <th>3</th>\n",
       "      <th>predict</th>\n",
       "    </tr>\n",
       "  </thead>\n",
       "  <tbody>\n",
       "    <tr>\n",
       "      <th>0</th>\n",
       "      <td>0.037942</td>\n",
       "      <td>0.404549</td>\n",
       "      <td>0.538585</td>\n",
       "      <td>0.018924</td>\n",
       "      <td>2</td>\n",
       "    </tr>\n",
       "    <tr>\n",
       "      <th>1</th>\n",
       "      <td>0.088435</td>\n",
       "      <td>0.651478</td>\n",
       "      <td>0.252828</td>\n",
       "      <td>0.007260</td>\n",
       "      <td>1</td>\n",
       "    </tr>\n",
       "    <tr>\n",
       "      <th>2</th>\n",
       "      <td>0.012503</td>\n",
       "      <td>0.604186</td>\n",
       "      <td>0.367455</td>\n",
       "      <td>0.015856</td>\n",
       "      <td>1</td>\n",
       "    </tr>\n",
       "    <tr>\n",
       "      <th>3</th>\n",
       "      <td>0.971521</td>\n",
       "      <td>0.017877</td>\n",
       "      <td>0.003163</td>\n",
       "      <td>0.007440</td>\n",
       "      <td>0</td>\n",
       "    </tr>\n",
       "    <tr>\n",
       "      <th>4</th>\n",
       "      <td>0.999579</td>\n",
       "      <td>0.000328</td>\n",
       "      <td>0.000021</td>\n",
       "      <td>0.000073</td>\n",
       "      <td>0</td>\n",
       "    </tr>\n",
       "    <tr>\n",
       "      <th>5</th>\n",
       "      <td>0.040986</td>\n",
       "      <td>0.579555</td>\n",
       "      <td>0.370114</td>\n",
       "      <td>0.009345</td>\n",
       "      <td>1</td>\n",
       "    </tr>\n",
       "    <tr>\n",
       "      <th>6</th>\n",
       "      <td>0.993881</td>\n",
       "      <td>0.005493</td>\n",
       "      <td>0.000405</td>\n",
       "      <td>0.000221</td>\n",
       "      <td>0</td>\n",
       "    </tr>\n",
       "    <tr>\n",
       "      <th>7</th>\n",
       "      <td>0.262282</td>\n",
       "      <td>0.646269</td>\n",
       "      <td>0.078042</td>\n",
       "      <td>0.013407</td>\n",
       "      <td>1</td>\n",
       "    </tr>\n",
       "    <tr>\n",
       "      <th>8</th>\n",
       "      <td>0.955021</td>\n",
       "      <td>0.041541</td>\n",
       "      <td>0.002011</td>\n",
       "      <td>0.001427</td>\n",
       "      <td>0</td>\n",
       "    </tr>\n",
       "    <tr>\n",
       "      <th>9</th>\n",
       "      <td>0.070629</td>\n",
       "      <td>0.753084</td>\n",
       "      <td>0.163812</td>\n",
       "      <td>0.012475</td>\n",
       "      <td>1</td>\n",
       "    </tr>\n",
       "  </tbody>\n",
       "</table>\n",
       "</div>"
      ],
      "text/plain": [
       "          0         1         2         3  predict\n",
       "0  0.037942  0.404549  0.538585  0.018924        2\n",
       "1  0.088435  0.651478  0.252828  0.007260        1\n",
       "2  0.012503  0.604186  0.367455  0.015856        1\n",
       "3  0.971521  0.017877  0.003163  0.007440        0\n",
       "4  0.999579  0.000328  0.000021  0.000073        0\n",
       "5  0.040986  0.579555  0.370114  0.009345        1\n",
       "6  0.993881  0.005493  0.000405  0.000221        0\n",
       "7  0.262282  0.646269  0.078042  0.013407        1\n",
       "8  0.955021  0.041541  0.002011  0.001427        0\n",
       "9  0.070629  0.753084  0.163812  0.012475        1"
      ]
     },
     "execution_count": 160,
     "metadata": {},
     "output_type": "execute_result"
    }
   ],
   "source": [
    "print(y_pred.shape)\n",
    "pd.DataFrame(y_pred).head(10)"
   ]
  },
  {
   "cell_type": "code",
   "execution_count": null,
   "metadata": {},
   "outputs": [],
   "source": [
    "y_pred = pd.DataFrame(y_pred)\n",
    "def final_predict(row):\n",
    "    return row.astype('float').argmax()\n",
    "\n",
    "y_pred['predict'] = y_pred[[0,1,2,3]].apply(lambda row: final_predict(row), axis=1)"
   ]
  },
  {
   "cell_type": "code",
   "execution_count": 161,
   "metadata": {},
   "outputs": [
    {
     "data": {
      "text/plain": [
       "1    59757\n",
       "0    38511\n",
       "2    14327\n",
       "3     7748\n",
       "Name: predict, dtype: int64"
      ]
     },
     "execution_count": 161,
     "metadata": {},
     "output_type": "execute_result"
    }
   ],
   "source": [
    "y_pred.predict.value_counts()"
   ]
  },
  {
   "cell_type": "code",
   "execution_count": 162,
   "metadata": {},
   "outputs": [
    {
     "data": {
      "text/plain": [
       "0.6626726218935676"
      ]
     },
     "execution_count": 162,
     "metadata": {},
     "output_type": "execute_result"
    }
   ],
   "source": [
    "metrics.f1_score(y_pred.predict.to_numpy(), y_test, average= 'macro')"
   ]
  }
 ],
 "metadata": {
  "kernelspec": {
   "display_name": "Python 3 (ipykernel)",
   "language": "python",
   "name": "python3"
  },
  "language_info": {
   "codemirror_mode": {
    "name": "ipython",
    "version": 3
   },
   "file_extension": ".py",
   "mimetype": "text/x-python",
   "name": "python",
   "nbconvert_exporter": "python",
   "pygments_lexer": "ipython3",
   "version": "3.8.10"
  },
  "vscode": {
   "interpreter": {
    "hash": "ad2bdc8ecc057115af97d19610ffacc2b4e99fae6737bb82f5d7fb13d2f2c186"
   }
  }
 },
 "nbformat": 4,
 "nbformat_minor": 4
}
