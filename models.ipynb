{
 "cells": [
  {
   "cell_type": "code",
   "execution_count": 25,
   "metadata": {},
   "outputs": [],
   "source": [
    "import pandas as pd\n",
    "import missingno as msn\n",
    "import statsmodels.api         as sm\n",
    "import statsmodels.formula.api as smf\n",
    "import seaborn as sns\n",
    "import numpy as np"
   ]
  },
  {
   "cell_type": "code",
   "execution_count": 26,
   "metadata": {},
   "outputs": [],
   "source": [
    "df = pd.read_csv('C:/Users/User/Downloads/ds4a-secopII/SECOP_Electronicos_Cleaned.csv',  parse_dates=['Fecha de Inicio del Contrato'])"
   ]
  },
  {
   "cell_type": "code",
   "execution_count": 27,
   "metadata": {},
   "outputs": [
    {
     "name": "stdout",
     "output_type": "stream",
     "text": [
      "The shape of the dataset result of data cleaning is : (1253547, 26)\n"
     ]
    }
   ],
   "source": [
    "print('The shape of the dataset result of data cleaning is : ' + str(df.shape))"
   ]
  },
  {
   "cell_type": "code",
   "execution_count": 28,
   "metadata": {},
   "outputs": [
    {
     "data": {
      "text/plain": [
       "['Departamento',\n",
       " 'Orden',\n",
       " 'Sector',\n",
       " 'Rama',\n",
       " 'Entidad Centralizada',\n",
       " 'Estado Contrato',\n",
       " 'Tipo de Contrato',\n",
       " 'Modalidad de Contratacion',\n",
       " 'Fecha de Inicio del Contrato',\n",
       " 'Fecha de Fin del Contrato',\n",
       " 'Es Grupo',\n",
       " 'Es Pyme',\n",
       " 'Obligación Ambiental',\n",
       " 'Obligaciones Postconsumo',\n",
       " 'Valor del Contrato',\n",
       " 'Valor de pago adelantado',\n",
       " 'Valor Facturado',\n",
       " 'Valor Pendiente de Pago',\n",
       " 'Valor Pagado',\n",
       " 'Valor Amortizado',\n",
       " 'Valor Pendiente de Amortizacion',\n",
       " 'Valor Pendiente de Ejecucion',\n",
       " 'EsPostConflicto',\n",
       " 'Destino Gasto',\n",
       " 'Origen de los Recursos',\n",
       " 'Dias Adicionados']"
      ]
     },
     "execution_count": 28,
     "metadata": {},
     "output_type": "execute_result"
    }
   ],
   "source": [
    "df.columns.to_list()"
   ]
  },
  {
   "cell_type": "code",
   "execution_count": null,
   "metadata": {},
   "outputs": [],
   "source": [
    "\n",
    "formula = 'Delay ~ C(Departamento) + Q(\"Valor del Contrato\") + C(Q(\"Modalidad de Contratacion\"))'\n",
    "model_all = smf.ols(formula = formula, data = df).fit()\n",
    "print(model_all.summary())"
   ]
  }
 ],
 "metadata": {
  "kernelspec": {
   "display_name": "Python 3 (ipykernel)",
   "language": "python",
   "name": "python3"
  },
  "language_info": {
   "codemirror_mode": {
    "name": "ipython",
    "version": 3
   },
   "file_extension": ".py",
   "mimetype": "text/x-python",
   "name": "python",
   "nbconvert_exporter": "python",
   "pygments_lexer": "ipython3",
   "version": "3.8.10"
  },
  "vscode": {
   "interpreter": {
    "hash": "ad2bdc8ecc057115af97d19610ffacc2b4e99fae6737bb82f5d7fb13d2f2c186"
   }
  }
 },
 "nbformat": 4,
 "nbformat_minor": 2
}
