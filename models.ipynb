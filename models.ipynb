{
 "cells": [
  {
   "cell_type": "markdown",
   "metadata": {},
   "source": [
    "# Models"
   ]
  },
  {
   "cell_type": "code",
   "execution_count": 22,
   "metadata": {},
   "outputs": [],
   "source": [
    "# Get libraries\n",
    "import pandas as pd\n",
    "import seaborn as sns\n",
    "import numpy as np\n",
    "from sklearn.model_selection import train_test_split\n",
    "import matplotlib.pyplot as plt\n",
    "from xgboost import XGBClassifier\n",
    "from sklearn import metrics \n",
    "from sklearn.ensemble import RandomForestClassifier\n",
    "import warnings\n",
    "warnings.filterwarnings(\"ignore\")"
   ]
  },
  {
   "cell_type": "code",
   "execution_count": 23,
   "metadata": {},
   "outputs": [],
   "source": [
    "# Load data\n",
    "df = pd.read_csv('C:/Users/User/Downloads/ds4a-secopII/SECOP_Electronicos_Cleaned.csv').drop(['NormalizedDelay','Unnamed: 0','Nombre Entidad','Dias Adicionados',\n",
    "                                                                                                'Fecha de Inicio del Contrato', 'Fecha de Fin del Contrato'], axis=1)"
   ]
  },
  {
   "cell_type": "code",
   "execution_count": 24,
   "metadata": {},
   "outputs": [
    {
     "data": {
      "text/plain": [
       "Index(['Departamento', 'Orden', 'Sector', 'Rama', 'Entidad Centralizada',\n",
       "       'Estado Contrato', 'Tipo de Contrato', 'Modalidad de Contratacion',\n",
       "       'Es Grupo', 'Es Pyme', 'Obligación Ambiental',\n",
       "       'Obligaciones Postconsumo', 'Valor del Contrato',\n",
       "       'Valor de pago adelantado', 'Valor Facturado',\n",
       "       'Valor Pendiente de Pago', 'Valor Amortizado', 'EsPostConflicto',\n",
       "       'Destino Gasto', 'PGN', 'SGP', 'SGR', 'RP_AGR', 'RP_NO_AGR', 'RC',\n",
       "       'Delay', 'Days_to_end_of_year'],\n",
       "      dtype='object')"
      ]
     },
     "execution_count": 24,
     "metadata": {},
     "output_type": "execute_result"
    }
   ],
   "source": [
    "df.columns"
   ]
  },
  {
   "cell_type": "code",
   "execution_count": 25,
   "metadata": {},
   "outputs": [
    {
     "name": "stdout",
     "output_type": "stream",
     "text": [
      "The shape of the dataset result of data cleaning is : (1565450, 27)\n"
     ]
    }
   ],
   "source": [
    "print('The shape of the dataset result of data cleaning is : ' + str(df.shape))"
   ]
  },
  {
   "cell_type": "code",
   "execution_count": 26,
   "metadata": {},
   "outputs": [
    {
     "name": "stdout",
     "output_type": "stream",
     "text": [
      "<class 'pandas.core.frame.DataFrame'>\n",
      "RangeIndex: 1565450 entries, 0 to 1565449\n",
      "Data columns (total 27 columns):\n",
      " #   Column                     Non-Null Count    Dtype   \n",
      "---  ------                     --------------    -----   \n",
      " 0   Departamento               1565450 non-null  category\n",
      " 1   Orden                      1565450 non-null  category\n",
      " 2   Sector                     1565450 non-null  category\n",
      " 3   Rama                       1565450 non-null  category\n",
      " 4   Entidad Centralizada       1565450 non-null  category\n",
      " 5   Estado Contrato            1565450 non-null  category\n",
      " 6   Tipo de Contrato           1565450 non-null  category\n",
      " 7   Modalidad de Contratacion  1565450 non-null  category\n",
      " 8   Es Grupo                   1565450 non-null  category\n",
      " 9   Es Pyme                    1565450 non-null  category\n",
      " 10  Obligación Ambiental       1565450 non-null  category\n",
      " 11  Obligaciones Postconsumo   1565450 non-null  category\n",
      " 12  Valor del Contrato         1565450 non-null  int64   \n",
      " 13  Valor de pago adelantado   1565450 non-null  int64   \n",
      " 14  Valor Facturado            1565450 non-null  int64   \n",
      " 15  Valor Pendiente de Pago    1565450 non-null  int64   \n",
      " 16  Valor Amortizado           1565450 non-null  int64   \n",
      " 17  EsPostConflicto            1565450 non-null  category\n",
      " 18  Destino Gasto              1565450 non-null  category\n",
      " 19  PGN                        1565450 non-null  int64   \n",
      " 20  SGP                        1565450 non-null  int64   \n",
      " 21  SGR                        1565450 non-null  int64   \n",
      " 22  RP_AGR                     1565450 non-null  int64   \n",
      " 23  RP_NO_AGR                  1565450 non-null  int64   \n",
      " 24  RC                         1565450 non-null  int64   \n",
      " 25  Delay                      1565450 non-null  category\n",
      " 26  Days_to_end_of_year        1565450 non-null  int64   \n",
      "dtypes: category(15), int64(12)\n",
      "memory usage: 165.7 MB\n"
     ]
    }
   ],
   "source": [
    "#Convert the variables to its corresponding data type\n",
    "cat_cols = ['Departamento', 'Orden', 'Sector', 'Rama','Entidad Centralizada', 'Estado Contrato', 'Tipo de Contrato', 'Modalidad de Contratacion',\n",
    "            'Es Grupo','Es Pyme', 'Destino Gasto', 'EsPostConflicto','Obligaciones Postconsumo','Obligación Ambiental', 'Delay']\n",
    "cat_values = {key:'category' for key in cat_cols}\n",
    "df = df.astype(cat_values)\n",
    "df.info()"
   ]
  },
  {
   "cell_type": "markdown",
   "metadata": {},
   "source": [
    "# Downsampling"
   ]
  },
  {
   "cell_type": "code",
   "execution_count": 39,
   "metadata": {},
   "outputs": [
    {
     "name": "stdout",
     "output_type": "stream",
     "text": [
      "The number of rows with Delay = 0 is : 1327318\n",
      "\n",
      "\n",
      "New dataset after downsampling\n",
      "0    331830\n",
      "1    146544\n",
      "2     67259\n",
      "3     24329\n",
      "Name: Delay, dtype: int64\n",
      "\n",
      "\n",
      "Dataset before downsampling\n",
      "0    1327318\n",
      "1     146544\n",
      "2      67259\n",
      "3      24329\n",
      "Name: Delay, dtype: int64\n"
     ]
    }
   ],
   "source": [
    "DelayZero_rows = len(df[df['Delay']==0])\n",
    "print('The number of rows with Delay = 0 is : ' + str(DelayZero_rows))\n",
    "\n",
    "# Rows to delete in downsampling\n",
    "rows_to_delete = int(0.75*DelayZero_rows)\n",
    "\n",
    "# Select all indices\n",
    "candidate_indices = df[df['Delay']==0].index \n",
    "\n",
    "# Randomly Select 35% of all indices\n",
    "candidate_indices = np.random.choice(candidate_indices, size = rows_to_delete, replace = False) \n",
    "df_DownSampling = df.drop(candidate_indices)\n",
    "\n",
    "print('\\n')\n",
    "print('New dataset after downsampling')\n",
    "print(df_DownSampling.Delay.value_counts())\n",
    "print('\\n')\n",
    "print('Dataset before downsampling')\n",
    "print(df.Delay.value_counts())\n",
    "\n"
   ]
  },
  {
   "cell_type": "markdown",
   "metadata": {},
   "source": [
    "# XGBoost"
   ]
  },
  {
   "cell_type": "code",
   "execution_count": 40,
   "metadata": {},
   "outputs": [],
   "source": [
    "# Get X and Y variables\n",
    "\n",
    "#Normal Dataset\n",
    "y = df['Delay'].astype('category')\n",
    "X = df.drop(['Delay'], axis=1)\n",
    "\n",
    "#Downsampled Dataset\n",
    "y = df_DownSampling['Delay'].astype('category')\n",
    "X = df_DownSampling.drop(['Delay'], axis=1)\n"
   ]
  },
  {
   "cell_type": "code",
   "execution_count": 41,
   "metadata": {},
   "outputs": [],
   "source": [
    "#Train Test Split\n",
    "X_train, X_test, y_train, y_test = train_test_split(X, y, test_size=0.33, random_state=42)"
   ]
  },
  {
   "cell_type": "markdown",
   "metadata": {},
   "source": [
    "### Tuning XGBoost model"
   ]
  },
  {
   "cell_type": "code",
   "execution_count": 45,
   "metadata": {},
   "outputs": [],
   "source": [
    "# This cell was run in the Virtual Machine\n",
    "\n",
    "# Creation of list of values to iterate over different values of n_estimators\n",
    "estimator_range = range(22,34,1)\n",
    "\n",
    "# List to store the results.\n",
    "f1_scores = []\n",
    "\n",
    "# Tuning of the model - THIS CELL TAKES TIME TO RUN\n",
    "for estimator in estimator_range:\n",
    "    clf = XGBClassifier(tree_method=\"hist\", enable_categorical=True, learning_rate = (estimator*0.05))\n",
    "    clf.fit(X_train, y_train)\n",
    "    y_pred = clf.predict(X_test)\n",
    "    f1_scores.append(metrics.f1_score(y_pred, y_test, average= 'macro'))"
   ]
  },
  {
   "cell_type": "code",
   "execution_count": null,
   "metadata": {},
   "outputs": [
    {
     "name": "stdout",
     "output_type": "stream",
     "text": [
      "The best value of learning_rate is : 30\n"
     ]
    },
    {
     "data": {
      "image/png": "[encoded data removed]",
      "text/plain": [
       "<Figure size 432x288 with 1 Axes>"
      ]
     },
     "metadata": {
      "needs_background": "light"
     },
     "output_type": "display_data"
    }
   ],
   "source": [
    "# Plotting the results\n",
    "plt.plot(estimator_range, f1_scores)\n",
    "plt.xlabel('Learning_Rate')\n",
    "plt.ylabel('F1_Score')\n",
    "## The optimal learning rate is 28 * 0.05\n",
    "print('The best value of Learning Rate is : ' + str(np.argmax(f1_scores)+22))"
   ]
  },
  {
   "cell_type": "markdown",
   "metadata": {},
   "source": [
    "### Best Model - Learning Rate"
   ]
  },
  {
   "cell_type": "code",
   "execution_count": 12,
   "metadata": {},
   "outputs": [
    {
     "name": "stdout",
     "output_type": "stream",
     "text": [
      "\n",
      "\n",
      "The value of the F1 Score for Learning rate is: 0.7578724917539887\n"
     ]
    }
   ],
   "source": [
    "# Picking the best model of the previous cell\n",
    "clf = XGBClassifier(tree_method=\"hist\", enable_categorical=True, learning_rate = (28*0.05))\n",
    "clf.fit(X_train, y_train)\n",
    "y_pred = clf.predict(X_test)\n",
    "print('\\n')\n",
    "print('The value of the F1 Score for Learning rate is: ' + str(metrics.f1_score(y_pred, y_test, average= 'macro')))"
   ]
  },
  {
   "cell_type": "markdown",
   "metadata": {},
   "source": [
    "### Tuning XGBoost model - n_estimators, max_depth, learning_rate"
   ]
  },
  {
   "cell_type": "code",
   "execution_count": 47,
   "metadata": {},
   "outputs": [],
   "source": [
    "# Parameter for Tuning\n",
    "estimator_range = range(28,34, 1) \n",
    "depth_range = range(12,18, 1)\n",
    "learning_range = range(12,18,1)\n",
    "\n",
    "\n",
    "# Dictionary to store the results\n",
    "f1_scores = {(i,j,k):0 for i in estimator_range for j in depth_range for k in learning_range}"
   ]
  },
  {
   "cell_type": "code",
   "execution_count": 48,
   "metadata": {},
   "outputs": [],
   "source": [
    "# Tuning\n",
    "for estimator in estimator_range:\n",
    "    for depth in depth_range:\n",
    "        for rate in learning_range:\n",
    "            clf = XGBClassifier(n_estimators=estimator, max_depth=depth, learning_rate = (rate*0.05), tree_method=\"hist\", enable_categorical=True)\n",
    "            clf.fit(X_train, y_train)\n",
    "            y_pred = clf.predict(X_test)\n",
    "            f1_scores[estimator, depth, rate] = metrics.f1_score(y_pred, y_test, average= 'macro')"
   ]
  },
  {
   "cell_type": "code",
   "execution_count": null,
   "metadata": {},
   "outputs": [],
   "source": [
    "# Plotting the results\n",
    "pl = (f1_scores.values())\n",
    "pl = pd.DataFrame(pl).rename(columns={0: 'F1_SCORE'})\n",
    "pa = (f1_scores.keys())\n",
    "pa = pd.DataFrame(pa)\n",
    "pd.DataFrame(pl).rename(columns={0: 'F1_SCORE'}).plot(kind='line', title='F1 Score')\n",
    "plt.show()\n",
    "sort_roc = pd.concat([pa, pl], axis=1)\n",
    "sort_roc.sort_values(by=['F1_SCORE'], ascending=False)"
   ]
  },
  {
   "cell_type": "markdown",
   "metadata": {},
   "source": [
    "### Best model"
   ]
  },
  {
   "cell_type": "code",
   "execution_count": 11,
   "metadata": {},
   "outputs": [
    {
     "name": "stdout",
     "output_type": "stream",
     "text": [
      "\n",
      "\n",
      "The value of the F1 Score for the 3 parameters tuned is: 0.7842468688052378\n"
     ]
    }
   ],
   "source": [
    "# Picking the best model of the previous cell\n",
    "clf = XGBClassifier(n_estimators=30, max_depth=20, learning_rate = (20*0.05) , tree_method=\"hist\", enable_categorical=True)\n",
    "clf.fit(X_train, y_train)\n",
    "y_pred = clf.predict(X_test)\n",
    "metrics.f1_score(y_pred, y_test, average= 'macro')\n",
    "print('\\n')\n",
    "print('The value of the F1 Score for the 3 parameters tuned is: ' + str(metrics.f1_score(y_pred, y_test, average= 'macro')))"
   ]
  },
  {
   "cell_type": "markdown",
   "metadata": {},
   "source": [
    "# Random Forest"
   ]
  },
  {
   "cell_type": "code",
   "execution_count": 14,
   "metadata": {},
   "outputs": [
    {
     "data": {
      "text/plain": [
       "Index(['Departamento', 'Orden', 'Sector', 'Rama', 'Entidad Centralizada',\n",
       "       'Estado Contrato', 'Tipo de Contrato', 'Modalidad de Contratacion',\n",
       "       'Es Grupo', 'Es Pyme', 'Obligación Ambiental',\n",
       "       'Obligaciones Postconsumo', 'Valor del Contrato',\n",
       "       'Valor de pago adelantado', 'Valor Facturado',\n",
       "       'Valor Pendiente de Pago', 'Valor Amortizado', 'EsPostConflicto',\n",
       "       'Destino Gasto', 'PGN', 'SGP', 'SGR', 'RP_AGR', 'RP_NO_AGR', 'RC',\n",
       "       'Days_to_end_of_year'],\n",
       "      dtype='object')"
      ]
     },
     "execution_count": 14,
     "metadata": {},
     "output_type": "execute_result"
    }
   ],
   "source": [
    "y = df['Delay'].astype('category')\n",
    "X = df.drop(['Delay'], axis=1).copy()\n",
    "X.columns"
   ]
  },
  {
   "cell_type": "code",
   "execution_count": 15,
   "metadata": {},
   "outputs": [],
   "source": [
    "#Coding the existing categorical variables\n",
    "X.Departamento = X.Departamento.cat.codes\n",
    "X.Orden = X.Orden.cat.codes\n",
    "X.Sector = X.Sector.cat.codes\n",
    "X.Rama = X.Rama.cat.codes\n",
    "X['Entidad Centralizada'] = X['Entidad Centralizada'].cat.codes\n",
    "X['Estado Contrato'] = X['Estado Contrato'].cat.codes\n",
    "X['Tipo de Contrato'] = X['Tipo de Contrato'].cat.codes\n",
    "X['Modalidad de Contratacion'] = X['Modalidad de Contratacion'].cat.codes\n",
    "X['Es Grupo'] = X['Es Grupo'].cat.codes\n",
    "X['Es Pyme'] = X['Es Pyme'].cat.codes\n",
    "X['Destino Gasto'] = X['Destino Gasto'].cat.codes\n",
    "X['EsPostConflicto'] = X['EsPostConflicto'].cat.codes\n",
    "X['Obligaciones Postconsumo'] = X['Obligaciones Postconsumo'].cat.codes\n",
    "X['Obligación Ambiental'] = X['Obligación Ambiental'].cat.codes"
   ]
  },
  {
   "cell_type": "code",
   "execution_count": 16,
   "metadata": {},
   "outputs": [],
   "source": [
    "#Train Test Split\n",
    "X_train, X_test, y_train, y_test = train_test_split(X, y, test_size=0.33, random_state=42)"
   ]
  },
  {
   "cell_type": "markdown",
   "metadata": {},
   "source": [
    "### Tuning Random Forest Model - This cell takes time to run"
   ]
  },
  {
   "cell_type": "code",
   "execution_count": null,
   "metadata": {},
   "outputs": [],
   "source": [
    "# Parameters for tunning\n",
    "estimator_range = range(10, 310, 10)\n",
    "max_range = range(5, X_train.shape[1], 1)\n",
    "\n",
    "# Define dictionaty to store the results of each model\n",
    "f1_scores = {(i,j):0 for i in estimator_range for j in max_range}\n",
    "\n",
    "\"\"\" for estimator in estimator_range:\n",
    "        for feature in max_range:\n",
    "            clf = RandomForestClassifier(n_estimators=estimator, max_features=feature, n_jobs=-1)\n",
    "            clf.fit(X_train, y_train)\n",
    "            y_pred = clf.predict(X_test)\n",
    "            f1_scores[estimator, feature] = metrics.f1_score(y_pred, y_test, average= 'macro')\"\"\" "
   ]
  },
  {
   "cell_type": "code",
   "execution_count": null,
   "metadata": {},
   "outputs": [],
   "source": [
    "# Plotting the results\n",
    "pl = (f1_scores.values())\n",
    "pl = pd.DataFrame(pl).rename(columns={0: 'F1_SCORE'})\n",
    "pa = (f1_scores.keys())\n",
    "pa = pd.DataFrame(pa)\n",
    "pd.DataFrame(pl).rename(columns={0: 'F1_SCORE'}).plot(kind='line', title='F1 Score')\n",
    "plt.show()\n",
    "sort_roc = pd.concat([pa, pl], axis=1)\n",
    "sort_roc.sort_values(by=['F1_SCORE'], ascending=False)"
   ]
  },
  {
   "cell_type": "markdown",
   "metadata": {},
   "source": [
    "### Best model Random Forest tuned"
   ]
  },
  {
   "cell_type": "code",
   "execution_count": 17,
   "metadata": {},
   "outputs": [
    {
     "name": "stdout",
     "output_type": "stream",
     "text": [
      "El valor del F1_Score es: 0.7852795865276501\n"
     ]
    }
   ],
   "source": [
    "# Pick the best model of the previous cell\n",
    "clf_Random_Forest = RandomForestClassifier(n_estimators = 170, max_features = 11, n_jobs=-1)\n",
    "predicts_RF = clf_Random_Forest.fit(X_train, y_train).predict(X_test)\n",
    "print('El valor del F1_Score es: ' + str(metrics.f1_score(y_test, predicts_RF, average= 'macro')))"
   ]
  }
 ],
 "metadata": {
  "kernelspec": {
   "display_name": "Python 3 (ipykernel)",
   "language": "python",
   "name": "python3"
  },
  "language_info": {
   "codemirror_mode": {
    "name": "ipython",
    "version": 3
   },
   "file_extension": ".py",
   "mimetype": "text/x-python",
   "name": "python",
   "nbconvert_exporter": "python",
   "pygments_lexer": "ipython3",
   "version": "3.9.7"
  },
  "vscode": {
   "interpreter": {
    "hash": "ad2bdc8ecc057115af97d19610ffacc2b4e99fae6737bb82f5d7fb13d2f2c186"
   }
  }
 },
 "nbformat": 4,
 "nbformat_minor": 2
}
