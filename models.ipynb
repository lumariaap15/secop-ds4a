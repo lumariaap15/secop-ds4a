{
 "cells": [
  {
   "cell_type": "code",
   "execution_count": 79,
   "metadata": {},
   "outputs": [],
   "source": [
    "import pandas as pd\n",
    "import seaborn as sns\n",
    "import numpy as np\n",
    "from sklearn.model_selection import train_test_split\n",
    "import matplotlib.pyplot as plt"
   ]
  },
  {
   "cell_type": "code",
   "execution_count": 81,
   "metadata": {},
   "outputs": [],
   "source": [
    "df = pd.read_csv('C:/Users/User/Downloads/ds4a-secopII/SECOP_Electronicos_Cleaned.csv').drop(['NormalizedDelay','Unnamed: 0','Nombre Entidad','Dias Adicionados',\n",
    "                                                                                                'Fecha de Inicio del Contrato', 'Fecha de Fin del Contrato'], axis=1)"
   ]
  },
  {
   "cell_type": "code",
   "execution_count": 82,
   "metadata": {},
   "outputs": [
    {
     "data": {
      "text/plain": [
       "Index(['Departamento', 'Orden', 'Sector', 'Rama', 'Entidad Centralizada',\n",
       "       'Estado Contrato', 'Tipo de Contrato', 'Modalidad de Contratacion',\n",
       "       'Es Grupo', 'Es Pyme', 'Obligación Ambiental',\n",
       "       'Obligaciones Postconsumo', 'Valor del Contrato',\n",
       "       'Valor de pago adelantado', 'Valor Facturado',\n",
       "       'Valor Pendiente de Pago', 'Valor Amortizado', 'EsPostConflicto',\n",
       "       'Destino Gasto', 'PGN', 'SGP', 'SGR', 'RP_AGR', 'RP_NO_AGR', 'RC',\n",
       "       'Delay', 'Days_to_end_of_year'],\n",
       "      dtype='object')"
      ]
     },
     "execution_count": 82,
     "metadata": {},
     "output_type": "execute_result"
    }
   ],
   "source": [
    "df.columns"
   ]
  },
  {
   "cell_type": "code",
   "execution_count": 83,
   "metadata": {},
   "outputs": [
    {
     "name": "stdout",
     "output_type": "stream",
     "text": [
      "The shape of the dataset result of data cleaning is : (1565450, 27)\n"
     ]
    }
   ],
   "source": [
    "print('The shape of the dataset result of data cleaning is : ' + str(df.shape))"
   ]
  },
  {
   "cell_type": "code",
   "execution_count": 84,
   "metadata": {},
   "outputs": [
    {
     "name": "stdout",
     "output_type": "stream",
     "text": [
      "<class 'pandas.core.frame.DataFrame'>\n",
      "RangeIndex: 1565450 entries, 0 to 1565449\n",
      "Data columns (total 27 columns):\n",
      " #   Column                     Non-Null Count    Dtype   \n",
      "---  ------                     --------------    -----   \n",
      " 0   Departamento               1565450 non-null  category\n",
      " 1   Orden                      1565450 non-null  category\n",
      " 2   Sector                     1565450 non-null  category\n",
      " 3   Rama                       1565450 non-null  category\n",
      " 4   Entidad Centralizada       1565450 non-null  category\n",
      " 5   Estado Contrato            1565450 non-null  category\n",
      " 6   Tipo de Contrato           1565450 non-null  category\n",
      " 7   Modalidad de Contratacion  1565450 non-null  category\n",
      " 8   Es Grupo                   1565450 non-null  category\n",
      " 9   Es Pyme                    1565450 non-null  category\n",
      " 10  Obligación Ambiental       1565450 non-null  category\n",
      " 11  Obligaciones Postconsumo   1565450 non-null  category\n",
      " 12  Valor del Contrato         1565450 non-null  int64   \n",
      " 13  Valor de pago adelantado   1565450 non-null  int64   \n",
      " 14  Valor Facturado            1565450 non-null  int64   \n",
      " 15  Valor Pendiente de Pago    1565450 non-null  int64   \n",
      " 16  Valor Amortizado           1565450 non-null  int64   \n",
      " 17  EsPostConflicto            1565450 non-null  category\n",
      " 18  Destino Gasto              1565450 non-null  category\n",
      " 19  PGN                        1565450 non-null  int64   \n",
      " 20  SGP                        1565450 non-null  int64   \n",
      " 21  SGR                        1565450 non-null  int64   \n",
      " 22  RP_AGR                     1565450 non-null  int64   \n",
      " 23  RP_NO_AGR                  1565450 non-null  int64   \n",
      " 24  RC                         1565450 non-null  int64   \n",
      " 25  Delay                      1565450 non-null  category\n",
      " 26  Days_to_end_of_year        1565450 non-null  int64   \n",
      "dtypes: category(15), int64(12)\n",
      "memory usage: 165.7 MB\n"
     ]
    }
   ],
   "source": [
    "#Convert the variables to its corresponding data type\n",
    "cat_cols = ['Departamento', 'Orden', 'Sector', 'Rama','Entidad Centralizada', 'Estado Contrato', 'Tipo de Contrato', 'Modalidad de Contratacion',\n",
    "            'Es Grupo','Es Pyme', 'Destino Gasto', 'EsPostConflicto','Obligaciones Postconsumo','Obligación Ambiental', 'Delay']\n",
    "cat_values = {key:'category' for key in cat_cols}\n",
    "df = df.astype(cat_values)\n",
    "df.info()"
   ]
  },
  {
   "cell_type": "markdown",
   "metadata": {},
   "source": [
    "# XGBoost"
   ]
  },
  {
   "cell_type": "code",
   "execution_count": 85,
   "metadata": {},
   "outputs": [],
   "source": [
    "y = df['Delay'].astype('category')\n",
    "\n",
    "X = df.drop(['Delay'], axis=1)"
   ]
  },
  {
   "cell_type": "code",
   "execution_count": 86,
   "metadata": {},
   "outputs": [],
   "source": [
    "#Train Test Split\n",
    "X_train, X_test, y_train, y_test = train_test_split(X, y, test_size=0.33, random_state=42)"
   ]
  },
  {
   "cell_type": "markdown",
   "metadata": {},
   "source": [
    "### Tuning XGBoost model"
   ]
  },
  {
   "cell_type": "code",
   "execution_count": null,
   "metadata": {},
   "outputs": [],
   "source": [
    "# This cell was run in the Virtual Machine\n",
    "\n",
    "# Creación de lista de valores para iterar sobre diferentes valores de n_estimators\n",
    "estimator_range = range(0,50,1)\n",
    "\n",
    "# Definición de lista para almacenar la exactitud (accuracy) promedio para cada valor de n_estimators\n",
    "f1_scores = []\n",
    "\n",
    "# Uso de un 5-fold cross-validation para cada valor de n_estimators\n",
    "\"\"\"for estimator in estimator_range:\n",
    "    \n",
    "    clf = XGBClassifier(tree_method=\"hist\", enable_categorical=True, learning_rate = (estimator*0.05))\n",
    "    clf.fit(X_train, y_train)\n",
    "    y_pred = clf.predict(X_test)\n",
    "    f1_scores.append(metrics.f1_score(y_pred, y_test, average= 'macro'))\"\"\""
   ]
  },
  {
   "cell_type": "code",
   "execution_count": null,
   "metadata": {},
   "outputs": [],
   "source": [
    "# Gráfica del desempeño del modelo vs la cantidad de n_estimators\n",
    "plt.plot(estimator_range, f1_scores)\n",
    "plt.xlabel('Learning_Rate')\n",
    "plt.ylabel('F1_Score')\n",
    "\n",
    "\n",
    "## The optimal learning rate is 28 * 0.05\n",
    "print('The best value of learning_rate is : ' + str(np.argmax(f1_scores)))"
   ]
  },
  {
   "cell_type": "markdown",
   "metadata": {},
   "source": [
    "### Best Model - Learning Rate"
   ]
  },
  {
   "cell_type": "code",
   "execution_count": 88,
   "metadata": {},
   "outputs": [
    {
     "name": "stderr",
     "output_type": "stream",
     "text": [
      "c:\\ProgramData\\Anaconda3\\lib\\site-packages\\xgboost\\data.py:262: FutureWarning: pandas.Int64Index is deprecated and will be removed from pandas in a future version. Use pandas.Index with the appropriate dtype instead.\n",
      "  elif isinstance(data.columns, (pd.Int64Index, pd.RangeIndex)):\n"
     ]
    },
    {
     "name": "stdout",
     "output_type": "stream",
     "text": [
      "[18:53:38] WARNING: C:/Users/Administrator/workspace/xgboost-win64_release_1.5.1/src/learner.cc:1115: Starting in XGBoost 1.3.0, the default evaluation metric used with the objective 'multi:softprob' was changed from 'merror' to 'mlogloss'. Explicitly set eval_metric if you'd like to restore the old behavior.\n"
     ]
    },
    {
     "name": "stderr",
     "output_type": "stream",
     "text": [
      "c:\\ProgramData\\Anaconda3\\lib\\site-packages\\xgboost\\data.py:262: FutureWarning: pandas.Int64Index is deprecated and will be removed from pandas in a future version. Use pandas.Index with the appropriate dtype instead.\n",
      "  elif isinstance(data.columns, (pd.Int64Index, pd.RangeIndex)):\n"
     ]
    },
    {
     "name": "stdout",
     "output_type": "stream",
     "text": [
      "\n",
      "\n",
      "El valor del F1_Score es: 0.7565338309142804\n"
     ]
    }
   ],
   "source": [
    "# Importación y definición de modelo XGBClassifier\n",
    "\n",
    "from xgboost import XGBClassifier\n",
    "from sklearn import metrics \n",
    "\n",
    "clf = XGBClassifier(tree_method=\"gpu_hist\", enable_categorical=True, learning_rate = (28*0.05))\n",
    "\n",
    "# Entrenamiento (fit) y desempeño del modelo XGBClassifier\n",
    "clf.fit(X_train, y_train)\n",
    "y_pred = clf.predict(X_test)\n",
    "print('\\n')\n",
    "print('El valor del F1_Score es: ' + str(metrics.f1_score(y_pred, y_test, average= 'macro')))"
   ]
  },
  {
   "cell_type": "markdown",
   "metadata": {},
   "source": [
    "# Random Forest"
   ]
  },
  {
   "cell_type": "code",
   "execution_count": 89,
   "metadata": {},
   "outputs": [
    {
     "data": {
      "text/plain": [
       "Index(['Departamento', 'Orden', 'Sector', 'Rama', 'Entidad Centralizada',\n",
       "       'Estado Contrato', 'Tipo de Contrato', 'Modalidad de Contratacion',\n",
       "       'Es Grupo', 'Es Pyme', 'Obligación Ambiental',\n",
       "       'Obligaciones Postconsumo', 'Valor del Contrato',\n",
       "       'Valor de pago adelantado', 'Valor Facturado',\n",
       "       'Valor Pendiente de Pago', 'Valor Amortizado', 'EsPostConflicto',\n",
       "       'Destino Gasto', 'PGN', 'SGP', 'SGR', 'RP_AGR', 'RP_NO_AGR', 'RC',\n",
       "       'Days_to_end_of_year'],\n",
       "      dtype='object')"
      ]
     },
     "execution_count": 89,
     "metadata": {},
     "output_type": "execute_result"
    }
   ],
   "source": [
    "y = df['Delay'].astype('category')\n",
    "X = df.drop(['Delay'], axis=1).copy()\n",
    "X.columns"
   ]
  },
  {
   "cell_type": "code",
   "execution_count": 90,
   "metadata": {},
   "outputs": [],
   "source": [
    "X.Departamento = X.Departamento.cat.codes\n",
    "X.Orden = X.Orden.cat.codes\n",
    "X.Sector = X.Sector.cat.codes\n",
    "X.Rama = X.Rama.cat.codes\n",
    "X['Entidad Centralizada'] = X['Entidad Centralizada'].cat.codes\n",
    "X['Estado Contrato'] = X['Estado Contrato'].cat.codes\n",
    "X['Tipo de Contrato'] = X['Tipo de Contrato'].cat.codes\n",
    "X['Modalidad de Contratacion'] = X['Modalidad de Contratacion'].cat.codes\n",
    "X['Es Grupo'] = X['Es Grupo'].cat.codes\n",
    "X['Es Pyme'] = X['Es Pyme'].cat.codes\n",
    "X['Destino Gasto'] = X['Destino Gasto'].cat.codes\n",
    "X['EsPostConflicto'] = X['EsPostConflicto'].cat.codes\n",
    "X['Obligaciones Postconsumo'] = X['Obligaciones Postconsumo'].cat.codes\n",
    "X['Obligación Ambiental'] = X['Obligación Ambiental'].cat.codes"
   ]
  },
  {
   "cell_type": "code",
   "execution_count": 91,
   "metadata": {},
   "outputs": [],
   "source": [
    "X_train, X_test, y_train, y_test = train_test_split(X, y, test_size=0.33, random_state=42)"
   ]
  },
  {
   "cell_type": "code",
   "execution_count": 92,
   "metadata": {},
   "outputs": [
    {
     "name": "stderr",
     "output_type": "stream",
     "text": [
      "c:\\ProgramData\\Anaconda3\\lib\\site-packages\\xgboost\\data.py:262: FutureWarning: pandas.Int64Index is deprecated and will be removed from pandas in a future version. Use pandas.Index with the appropriate dtype instead.\n",
      "  elif isinstance(data.columns, (pd.Int64Index, pd.RangeIndex)):\n"
     ]
    }
   ],
   "source": [
    "from sklearn.ensemble import RandomForestClassifier\n",
    "\n",
    "clf_Random_Forest = RandomForestClassifier(n_estimators=100, max_depth=6)\n",
    "\n",
    "clf_Random_Forest.fit(X_train, y_train)\n",
    "predicts_RF = clf.predict(X_test)"
   ]
  },
  {
   "cell_type": "code",
   "execution_count": 93,
   "metadata": {},
   "outputs": [
    {
     "name": "stdout",
     "output_type": "stream",
     "text": [
      "El valor del F1_Score es: 0.7565338309142804\n"
     ]
    }
   ],
   "source": [
    "print('El valor del F1_Score es: ' + str(metrics.f1_score(y_pred, y_test, average= 'macro')))"
   ]
  },
  {
   "cell_type": "markdown",
   "metadata": {},
   "source": [
    "### Tuning Random Forest Model"
   ]
  },
  {
   "cell_type": "code",
   "execution_count": 96,
   "metadata": {},
   "outputs": [],
   "source": [
    "# Creación de lista de valores para iterar sobre diferentes valores de n_estimators\n",
    "estimator_range = range(10, 310, 10)\n",
    "max_range = range(5, X_train.shape[1], 1)\n",
    "\n",
    "# Definición de lista para almacenar la exactitud (accuracy) promedio para cada valor de n_estimators\n",
    "f1_scores = {(i,j):0 for i in estimator_range for j in max_range}\n",
    "\n",
    "for estimator in estimator_range:\n",
    "    for feature in max_range:\n",
    "        clf = RandomForestClassifier(n_estimators=estimator, max_features=feature, n_jobs=-1)\n",
    "        clf.fit(X_train, y_train)\n",
    "        y_pred = clf.predict(X_test)\n",
    "        f1_scores[estimator, feature] = metrics.f1_score(y_pred, y_test, average= 'macro')"
   ]
  },
  {
   "cell_type": "code",
   "execution_count": null,
   "metadata": {},
   "outputs": [],
   "source": [
    "pl = (f1_scores.values())\n",
    "pl = pd.DataFrame(pl).rename(columns={0: 'F1_SCORE'})\n",
    "\n",
    "pa = (f1_scores.keys())\n",
    "pa = pd.DataFrame(pa)\n",
    "\n",
    "pd.DataFrame(pl).rename(columns={0: 'F1_SCORE'}).plot(kind='line', title='F1 Score')\n",
    "plt.show()\n",
    "\n",
    "sort_roc = pd.concat([pa, pl], axis=1)\n",
    "\n",
    "sort_roc.sort_values(by=['F1_SCORE'], ascending=False)"
   ]
  },
  {
   "cell_type": "code",
   "execution_count": null,
   "metadata": {},
   "outputs": [],
   "source": []
  }
 ],
 "metadata": {
  "kernelspec": {
   "display_name": "Python 3 (ipykernel)",
   "language": "python",
   "name": "python3"
  },
  "language_info": {
   "codemirror_mode": {
    "name": "ipython",
    "version": 3
   },
   "file_extension": ".py",
   "mimetype": "text/x-python",
   "name": "python",
   "nbconvert_exporter": "python",
   "pygments_lexer": "ipython3",
   "version": "3.9.7"
  },
  "vscode": {
   "interpreter": {
    "hash": "ad2bdc8ecc057115af97d19610ffacc2b4e99fae6737bb82f5d7fb13d2f2c186"
   }
  }
 },
 "nbformat": 4,
 "nbformat_minor": 2
}
