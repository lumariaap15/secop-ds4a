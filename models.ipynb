{
 "cells": [
  {
   "cell_type": "markdown",
   "metadata": {},
   "source": [
    "# Models"
   ]
  },
  {
   "cell_type": "code",
   "execution_count": 53,
   "metadata": {},
   "outputs": [],
   "source": [
    "# Get libraries\n",
    "import pandas as pd\n",
    "import seaborn as sns\n",
    "import numpy as np\n",
    "from sklearn.model_selection import train_test_split\n",
    "import matplotlib.pyplot as plt\n",
    "from xgboost import XGBClassifier\n",
    "from sklearn import metrics \n",
    "from sklearn.ensemble import RandomForestClassifier\n",
    "import warnings\n",
    "warnings.filterwarnings(\"ignore\")"
   ]
  },
  {
   "cell_type": "code",
   "execution_count": 54,
   "metadata": {},
   "outputs": [],
   "source": [
    "# Load data\n",
    "df = pd.read_csv('C:/Users/User/Downloads/ds4a-secopII/SECOP_Electronicos_Cleaned.csv').drop(['NormalizedDelay','Unnamed: 0','Nombre Entidad','Dias Adicionados',\n",
    "                                                                                                'Fecha de Inicio del Contrato', 'Fecha de Fin del Contrato'], axis=1)"
   ]
  },
  {
   "cell_type": "code",
   "execution_count": 55,
   "metadata": {},
   "outputs": [
    {
     "data": {
      "text/plain": [
       "Index(['Departamento', 'Orden', 'Sector', 'Rama', 'Entidad Centralizada',\n",
       "       'Estado Contrato', 'Tipo de Contrato', 'Modalidad de Contratacion',\n",
       "       'Es Grupo', 'Es Pyme', 'Obligación Ambiental',\n",
       "       'Obligaciones Postconsumo', 'Valor del Contrato',\n",
       "       'Valor de pago adelantado', 'Valor Facturado',\n",
       "       'Valor Pendiente de Pago', 'Valor Amortizado', 'EsPostConflicto',\n",
       "       'Destino Gasto', 'PGN', 'SGP', 'SGR', 'RP_AGR', 'RP_NO_AGR', 'RC',\n",
       "       'Delay', 'Days_to_end_of_year'],\n",
       "      dtype='object')"
      ]
     },
     "execution_count": 55,
     "metadata": {},
     "output_type": "execute_result"
    }
   ],
   "source": [
    "df.columns"
   ]
  },
  {
   "cell_type": "code",
   "execution_count": 56,
   "metadata": {},
   "outputs": [
    {
     "name": "stdout",
     "output_type": "stream",
     "text": [
      "The shape of the dataset result of data cleaning is : (1565450, 27)\n"
     ]
    }
   ],
   "source": [
    "print('The shape of the dataset result of data cleaning is : ' + str(df.shape))"
   ]
  },
  {
   "cell_type": "code",
   "execution_count": 57,
   "metadata": {},
   "outputs": [
    {
     "name": "stdout",
     "output_type": "stream",
     "text": [
      "<class 'pandas.core.frame.DataFrame'>\n",
      "RangeIndex: 1565450 entries, 0 to 1565449\n",
      "Data columns (total 27 columns):\n",
      " #   Column                     Non-Null Count    Dtype   \n",
      "---  ------                     --------------    -----   \n",
      " 0   Departamento               1565450 non-null  category\n",
      " 1   Orden                      1565450 non-null  category\n",
      " 2   Sector                     1565450 non-null  category\n",
      " 3   Rama                       1565450 non-null  category\n",
      " 4   Entidad Centralizada       1565450 non-null  category\n",
      " 5   Estado Contrato            1565450 non-null  category\n",
      " 6   Tipo de Contrato           1565450 non-null  category\n",
      " 7   Modalidad de Contratacion  1565450 non-null  category\n",
      " 8   Es Grupo                   1565450 non-null  category\n",
      " 9   Es Pyme                    1565450 non-null  category\n",
      " 10  Obligación Ambiental       1565450 non-null  category\n",
      " 11  Obligaciones Postconsumo   1565450 non-null  category\n",
      " 12  Valor del Contrato         1565450 non-null  int64   \n",
      " 13  Valor de pago adelantado   1565450 non-null  int64   \n",
      " 14  Valor Facturado            1565450 non-null  int64   \n",
      " 15  Valor Pendiente de Pago    1565450 non-null  int64   \n",
      " 16  Valor Amortizado           1565450 non-null  int64   \n",
      " 17  EsPostConflicto            1565450 non-null  category\n",
      " 18  Destino Gasto              1565450 non-null  category\n",
      " 19  PGN                        1565450 non-null  int64   \n",
      " 20  SGP                        1565450 non-null  int64   \n",
      " 21  SGR                        1565450 non-null  int64   \n",
      " 22  RP_AGR                     1565450 non-null  int64   \n",
      " 23  RP_NO_AGR                  1565450 non-null  int64   \n",
      " 24  RC                         1565450 non-null  int64   \n",
      " 25  Delay                      1565450 non-null  category\n",
      " 26  Days_to_end_of_year        1565450 non-null  int64   \n",
      "dtypes: category(15), int64(12)\n",
      "memory usage: 165.7 MB\n"
     ]
    }
   ],
   "source": [
    "#Convert the variables to its corresponding data type\n",
    "cat_cols = ['Departamento', 'Orden', 'Sector', 'Rama','Entidad Centralizada', 'Estado Contrato', 'Tipo de Contrato', 'Modalidad de Contratacion',\n",
    "            'Es Grupo','Es Pyme', 'Destino Gasto', 'EsPostConflicto','Obligaciones Postconsumo','Obligación Ambiental', 'Delay']\n",
    "cat_values = {key:'category' for key in cat_cols}\n",
    "df = df.astype(cat_values)\n",
    "df.info()"
   ]
  },
  {
   "cell_type": "markdown",
   "metadata": {},
   "source": [
    "# Downsampling"
   ]
  },
  {
   "cell_type": "code",
   "execution_count": 58,
   "metadata": {},
   "outputs": [
    {
     "name": "stdout",
     "output_type": "stream",
     "text": [
      "The number of rows with Delay = 0 is : 1327318\n",
      "\n",
      "\n",
      "New dataset after downsampling\n",
      "0    331830\n",
      "1    146544\n",
      "2     67259\n",
      "3     24329\n",
      "Name: Delay, dtype: int64\n",
      "\n",
      "\n",
      "Dataset before downsampling\n",
      "0    1327318\n",
      "1     146544\n",
      "2      67259\n",
      "3      24329\n",
      "Name: Delay, dtype: int64\n"
     ]
    }
   ],
   "source": [
    "DelayZero_rows = len(df[df['Delay']==0])\n",
    "print('The number of rows with Delay = 0 is : ' + str(DelayZero_rows))\n",
    "\n",
    "# Rows to delete in downsampling\n",
    "rows_to_delete = int(0.75*DelayZero_rows)\n",
    "\n",
    "# Select all indices\n",
    "candidate_indices = df[df['Delay']==0].index \n",
    "\n",
    "# Randomly Select 35% of all indices\n",
    "candidate_indices = np.random.choice(candidate_indices, size = rows_to_delete, replace = False) \n",
    "df_DownSampling = df.drop(candidate_indices)\n",
    "\n",
    "print('\\n')\n",
    "print('New dataset after downsampling')\n",
    "print(df_DownSampling.Delay.value_counts())\n",
    "print('\\n')\n",
    "print('Dataset before downsampling')\n",
    "print(df.Delay.value_counts())\n",
    "\n"
   ]
  },
  {
   "cell_type": "markdown",
   "metadata": {},
   "source": [
    "# XGBoost"
   ]
  },
  {
   "cell_type": "code",
   "execution_count": 59,
   "metadata": {},
   "outputs": [],
   "source": [
    "# Get X and Y variables\n",
    "\n",
    "#Normal Dataset\n",
    "y = df['Delay'].astype('category')\n",
    "X = df.drop(['Delay'], axis=1)\n",
    "\n",
    "#Downsampled Dataset\n",
    "y = df_DownSampling['Delay'].astype('category')\n",
    "X = df_DownSampling.drop(['Delay'], axis=1)\n"
   ]
  },
  {
   "cell_type": "code",
   "execution_count": 60,
   "metadata": {},
   "outputs": [],
   "source": [
    "#Train Test Split\n",
    "X_train, X_test, y_train, y_test = train_test_split(X, y, test_size=0.33, random_state=42)"
   ]
  },
  {
   "cell_type": "markdown",
   "metadata": {},
   "source": [
    "### Tuning XGBoost model"
   ]
  },
  {
   "cell_type": "code",
   "execution_count": 63,
   "metadata": {},
   "outputs": [],
   "source": [
    "# This cell was run in the Virtual Machine\n",
    "\n",
    "# Creation of list of values to iterate over different values of n_estimators\n",
    "estimator_range = range(17,26,1)\n",
    "\n",
    "# List to store the results.\n",
    "f1_scores_LR = []\n",
    "\n",
    "# Tuning of the model - THIS CELL TAKES TIME TO RUN\n",
    "for estimator in estimator_range:\n",
    "    clf = XGBClassifier(tree_method=\"hist\", enable_categorical=True, learning_rate = (estimator*0.05))\n",
    "    clf.fit(X_train, y_train)\n",
    "    y_pred = clf.predict(X_test)\n",
    "    f1_scores_LR.append(metrics.f1_score(y_pred, y_test, average= 'macro'))"
   ]
  },
  {
   "cell_type": "code",
   "execution_count": 64,
   "metadata": {},
   "outputs": [
    {
     "name": "stdout",
     "output_type": "stream",
     "text": [
      "The best value of Learning Rate is : 26\n"
     ]
    },
    {
     "data": {
      "image/png": "[encoded data removed]",
      "text/plain": [
       "<Figure size 432x288 with 1 Axes>"
      ]
     },
     "metadata": {
      "needs_background": "light"
     },
     "output_type": "display_data"
    }
   ],
   "source": [
    "# Plotting the results\n",
    "plt.plot(estimator_range, f1_scores_LR)\n",
    "plt.xlabel('Learning_Rate')\n",
    "plt.ylabel('F1_Score')\n",
    "## The optimal learning rate is 28 * 0.05\n",
    "print('The best value of Learning Rate is : ' + str(np.argmax(f1_scores_LR)+22))"
   ]
  },
  {
   "cell_type": "markdown",
   "metadata": {},
   "source": [
    "### Best Model - Learning Rate"
   ]
  },
  {
   "cell_type": "code",
   "execution_count": 65,
   "metadata": {},
   "outputs": [],
   "source": [
    "# Picking the best model of the previous cell\n",
    "clf = XGBClassifier(tree_method=\"hist\", enable_categorical=True, learning_rate = (21*0.05))\n",
    "clf.fit(X_train, y_train)\n",
    "y_pred = clf.predict(X_test)\n",
    "print('\\n')\n",
    "print('The value of the F1 Score for Learning rate is: ' + str(metrics.f1_score(y_pred, y_test, average= 'macro')))"
   ]
  },
  {
   "cell_type": "markdown",
   "metadata": {},
   "source": [
    "### Tuning XGBoost model - n_estimators, max_depth, learning_rate"
   ]
  },
  {
   "cell_type": "code",
   "execution_count": 47,
   "metadata": {},
   "outputs": [],
   "source": [
    "# Parameter for Tuning\n",
    "estimator_range = range(28,34, 1) \n",
    "depth_range = range(12,18, 1)\n",
    "learning_range = range(12,18,1)\n",
    "\n",
    "\n",
    "# Dictionary to store the results\n",
    "f1_scores = {(i,j,k):0 for i in estimator_range for j in depth_range for k in learning_range}"
   ]
  },
  {
   "cell_type": "code",
   "execution_count": 48,
   "metadata": {},
   "outputs": [],
   "source": [
    "# Tuning\n",
    "for estimator in estimator_range:\n",
    "    for depth in depth_range:\n",
    "        for rate in learning_range:\n",
    "            clf = XGBClassifier(n_estimators=estimator, max_depth=depth, learning_rate = (rate*0.05), tree_method=\"hist\", enable_categorical=True)\n",
    "            clf.fit(X_train, y_train)\n",
    "            y_pred = clf.predict(X_test)\n",
    "            f1_scores[estimator, depth, rate] = metrics.f1_score(y_pred, y_test, average= 'macro')"
   ]
  },
  {
   "cell_type": "code",
   "execution_count": 49,
   "metadata": {},
   "outputs": [
    {
     "data": {
      "image/png": "[encoded data removed]",
      "text/plain": [
       "<Figure size 432x288 with 1 Axes>"
      ]
     },
     "metadata": {
      "needs_background": "light"
     },
     "output_type": "display_data"
    },
    {
     "data": {
      "text/html": [
       "<div>\n",
       "<style scoped>\n",
       "    .dataframe tbody tr th:only-of-type {\n",
       "        vertical-align: middle;\n",
       "    }\n",
       "\n",
       "    .dataframe tbody tr th {\n",
       "        vertical-align: top;\n",
       "    }\n",
       "\n",
       "    .dataframe thead th {\n",
       "        text-align: right;\n",
       "    }\n",
       "</style>\n",
       "<table border=\"1\" class=\"dataframe\">\n",
       "  <thead>\n",
       "    <tr style=\"text-align: right;\">\n",
       "      <th></th>\n",
       "      <th>0</th>\n",
       "      <th>1</th>\n",
       "      <th>2</th>\n",
       "      <th>F1_SCORE</th>\n",
       "    </tr>\n",
       "  </thead>\n",
       "  <tbody>\n",
       "    <tr>\n",
       "      <th>204</th>\n",
       "      <td>33</td>\n",
       "      <td>16</td>\n",
       "      <td>12</td>\n",
       "      <td>0.811505</td>\n",
       "    </tr>\n",
       "    <tr>\n",
       "      <th>168</th>\n",
       "      <td>32</td>\n",
       "      <td>16</td>\n",
       "      <td>12</td>\n",
       "      <td>0.811424</td>\n",
       "    </tr>\n",
       "    <tr>\n",
       "      <th>132</th>\n",
       "      <td>31</td>\n",
       "      <td>16</td>\n",
       "      <td>12</td>\n",
       "      <td>0.811265</td>\n",
       "    </tr>\n",
       "    <tr>\n",
       "      <th>96</th>\n",
       "      <td>30</td>\n",
       "      <td>16</td>\n",
       "      <td>12</td>\n",
       "      <td>0.811144</td>\n",
       "    </tr>\n",
       "    <tr>\n",
       "      <th>60</th>\n",
       "      <td>29</td>\n",
       "      <td>16</td>\n",
       "      <td>12</td>\n",
       "      <td>0.811064</td>\n",
       "    </tr>\n",
       "    <tr>\n",
       "      <th>...</th>\n",
       "      <td>...</td>\n",
       "      <td>...</td>\n",
       "      <td>...</td>\n",
       "      <td>...</td>\n",
       "    </tr>\n",
       "    <tr>\n",
       "      <th>36</th>\n",
       "      <td>29</td>\n",
       "      <td>12</td>\n",
       "      <td>12</td>\n",
       "      <td>0.803912</td>\n",
       "    </tr>\n",
       "    <tr>\n",
       "      <th>76</th>\n",
       "      <td>30</td>\n",
       "      <td>12</td>\n",
       "      <td>16</td>\n",
       "      <td>0.803901</td>\n",
       "    </tr>\n",
       "    <tr>\n",
       "      <th>4</th>\n",
       "      <td>28</td>\n",
       "      <td>12</td>\n",
       "      <td>16</td>\n",
       "      <td>0.803790</td>\n",
       "    </tr>\n",
       "    <tr>\n",
       "      <th>0</th>\n",
       "      <td>28</td>\n",
       "      <td>12</td>\n",
       "      <td>12</td>\n",
       "      <td>0.803747</td>\n",
       "    </tr>\n",
       "    <tr>\n",
       "      <th>112</th>\n",
       "      <td>31</td>\n",
       "      <td>12</td>\n",
       "      <td>16</td>\n",
       "      <td>0.803719</td>\n",
       "    </tr>\n",
       "  </tbody>\n",
       "</table>\n",
       "<p>216 rows × 4 columns</p>\n",
       "</div>"
      ],
      "text/plain": [
       "      0   1   2  F1_SCORE\n",
       "204  33  16  12  0.811505\n",
       "168  32  16  12  0.811424\n",
       "132  31  16  12  0.811265\n",
       "96   30  16  12  0.811144\n",
       "60   29  16  12  0.811064\n",
       "..   ..  ..  ..       ...\n",
       "36   29  12  12  0.803912\n",
       "76   30  12  16  0.803901\n",
       "4    28  12  16  0.803790\n",
       "0    28  12  12  0.803747\n",
       "112  31  12  16  0.803719\n",
       "\n",
       "[216 rows x 4 columns]"
      ]
     },
     "execution_count": 49,
     "metadata": {},
     "output_type": "execute_result"
    }
   ],
   "source": [
    "# Plotting the results\n",
    "pl = (f1_scores.values())\n",
    "pl = pd.DataFrame(pl).rename(columns={0: 'F1_SCORE'})\n",
    "pa = (f1_scores.keys())\n",
    "pa = pd.DataFrame(pa)\n",
    "pd.DataFrame(pl).rename(columns={0: 'F1_SCORE'}).plot(kind='line', title='F1 Score')\n",
    "plt.show()\n",
    "sort_roc = pd.concat([pa, pl], axis=1)\n",
    "sort_roc.sort_values(by=['F1_SCORE'], ascending=False)"
   ]
  },
  {
   "cell_type": "markdown",
   "metadata": {},
   "source": [
    "### Best model"
   ]
  },
  {
   "cell_type": "code",
   "execution_count": 52,
   "metadata": {},
   "outputs": [
    {
     "name": "stdout",
     "output_type": "stream",
     "text": [
      "\n",
      "\n",
      "The value of the F1 Score for the 3 parameters tuned is: 0.8115054803970001\n"
     ]
    }
   ],
   "source": [
    "# Picking the best model of the previous cell\n",
    "clf = XGBClassifier(n_estimators=33, max_depth=16, learning_rate = (12*0.05) , tree_method=\"hist\", enable_categorical=True)\n",
    "clf.fit(X_train, y_train)\n",
    "y_pred = clf.predict(X_test)\n",
    "metrics.f1_score(y_pred, y_test, average= 'macro')\n",
    "print('\\n')\n",
    "print('The value of the F1 Score for the 3 parameters tuned is: ' + str(metrics.f1_score(y_pred, y_test, average= 'macro')))"
   ]
  },
  {
   "cell_type": "markdown",
   "metadata": {},
   "source": [
    "# Random Forest"
   ]
  },
  {
   "cell_type": "code",
   "execution_count": 14,
   "metadata": {},
   "outputs": [
    {
     "data": {
      "text/plain": [
       "Index(['Departamento', 'Orden', 'Sector', 'Rama', 'Entidad Centralizada',\n",
       "       'Estado Contrato', 'Tipo de Contrato', 'Modalidad de Contratacion',\n",
       "       'Es Grupo', 'Es Pyme', 'Obligación Ambiental',\n",
       "       'Obligaciones Postconsumo', 'Valor del Contrato',\n",
       "       'Valor de pago adelantado', 'Valor Facturado',\n",
       "       'Valor Pendiente de Pago', 'Valor Amortizado', 'EsPostConflicto',\n",
       "       'Destino Gasto', 'PGN', 'SGP', 'SGR', 'RP_AGR', 'RP_NO_AGR', 'RC',\n",
       "       'Days_to_end_of_year'],\n",
       "      dtype='object')"
      ]
     },
     "execution_count": 14,
     "metadata": {},
     "output_type": "execute_result"
    }
   ],
   "source": [
    "y = df['Delay'].astype('category')\n",
    "X = df.drop(['Delay'], axis=1).copy()\n",
    "X.columns"
   ]
  },
  {
   "cell_type": "code",
   "execution_count": 15,
   "metadata": {},
   "outputs": [],
   "source": [
    "#Coding the existing categorical variables\n",
    "X.Departamento = X.Departamento.cat.codes\n",
    "X.Orden = X.Orden.cat.codes\n",
    "X.Sector = X.Sector.cat.codes\n",
    "X.Rama = X.Rama.cat.codes\n",
    "X['Entidad Centralizada'] = X['Entidad Centralizada'].cat.codes\n",
    "X['Estado Contrato'] = X['Estado Contrato'].cat.codes\n",
    "X['Tipo de Contrato'] = X['Tipo de Contrato'].cat.codes\n",
    "X['Modalidad de Contratacion'] = X['Modalidad de Contratacion'].cat.codes\n",
    "X['Es Grupo'] = X['Es Grupo'].cat.codes\n",
    "X['Es Pyme'] = X['Es Pyme'].cat.codes\n",
    "X['Destino Gasto'] = X['Destino Gasto'].cat.codes\n",
    "X['EsPostConflicto'] = X['EsPostConflicto'].cat.codes\n",
    "X['Obligaciones Postconsumo'] = X['Obligaciones Postconsumo'].cat.codes\n",
    "X['Obligación Ambiental'] = X['Obligación Ambiental'].cat.codes"
   ]
  },
  {
   "cell_type": "code",
   "execution_count": 16,
   "metadata": {},
   "outputs": [],
   "source": [
    "#Train Test Split\n",
    "X_train, X_test, y_train, y_test = train_test_split(X, y, test_size=0.33, random_state=42)"
   ]
  },
  {
   "cell_type": "markdown",
   "metadata": {},
   "source": [
    "### Tuning Random Forest Model - This cell takes time to run"
   ]
  },
  {
   "cell_type": "code",
   "execution_count": null,
   "metadata": {},
   "outputs": [],
   "source": [
    "# Parameters for tunning\n",
    "estimator_range = range(10, 310, 10)\n",
    "max_range = range(5, X_train.shape[1], 1)\n",
    "\n",
    "# Define dictionaty to store the results of each model\n",
    "f1_scores = {(i,j):0 for i in estimator_range for j in max_range}\n",
    "\n",
    "\"\"\" for estimator in estimator_range:\n",
    "        for feature in max_range:\n",
    "            clf = RandomForestClassifier(n_estimators=estimator, max_features=feature, n_jobs=-1)\n",
    "            clf.fit(X_train, y_train)\n",
    "            y_pred = clf.predict(X_test)\n",
    "            f1_scores[estimator, feature] = metrics.f1_score(y_pred, y_test, average= 'macro')\"\"\" "
   ]
  },
  {
   "cell_type": "code",
   "execution_count": null,
   "metadata": {},
   "outputs": [],
   "source": [
    "# Plotting the results\n",
    "pl = (f1_scores.values())\n",
    "pl = pd.DataFrame(pl).rename(columns={0: 'F1_SCORE'})\n",
    "pa = (f1_scores.keys())\n",
    "pa = pd.DataFrame(pa)\n",
    "pd.DataFrame(pl).rename(columns={0: 'F1_SCORE'}).plot(kind='line', title='F1 Score')\n",
    "plt.show()\n",
    "sort_roc = pd.concat([pa, pl], axis=1)\n",
    "sort_roc.sort_values(by=['F1_SCORE'], ascending=False)"
   ]
  },
  {
   "cell_type": "markdown",
   "metadata": {},
   "source": [
    "### Best model Random Forest tuned"
   ]
  },
  {
   "cell_type": "code",
   "execution_count": 17,
   "metadata": {},
   "outputs": [
    {
     "name": "stdout",
     "output_type": "stream",
     "text": [
      "El valor del F1_Score es: 0.7852795865276501\n"
     ]
    }
   ],
   "source": [
    "# Pick the best model of the previous cell\n",
    "clf_Random_Forest = RandomForestClassifier(n_estimators = 170, max_features = 11, n_jobs=-1)\n",
    "predicts_RF = clf_Random_Forest.fit(X_train, y_train).predict(X_test)\n",
    "print('El valor del F1_Score es: ' + str(metrics.f1_score(y_test, predicts_RF, average= 'macro')))"
   ]
  }
 ],
 "metadata": {
  "kernelspec": {
   "display_name": "Python 3 (ipykernel)",
   "language": "python",
   "name": "python3"
  },
  "language_info": {
   "codemirror_mode": {
    "name": "ipython",
    "version": 3
   },
   "file_extension": ".py",
   "mimetype": "text/x-python",
   "name": "python",
   "nbconvert_exporter": "python",
   "pygments_lexer": "ipython3",
   "version": "3.9.7"
  },
  "vscode": {
   "interpreter": {
    "hash": "ad2bdc8ecc057115af97d19610ffacc2b4e99fae6737bb82f5d7fb13d2f2c186"
   }
  }
 },
 "nbformat": 4,
 "nbformat_minor": 2
}
